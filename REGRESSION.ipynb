{
 "cells": [
  {
   "cell_type": "markdown",
   "metadata": {},
   "source": [
    "# Problem Statement"
   ]
  },
  {
   "cell_type": "markdown",
   "metadata": {},
   "source": [
    "#### Context\n",
    "**Economies are better when logistics is efficient and affordable**\n",
    "\n",
    "Sendy, in partnership with insight2impact facility, is hosting a Zindi challenge to predict the estimated time of delivery of orders, from the point of driver pickup to the point of arrival at final destination. \n",
    "Sendy helps men and women behind every type of business to trade easily, deliver more competitively, and build extraordinary businesses.\n",
    "\n",
    "#### Why Solve this problem?\n",
    "The solution will help Sendy enhance customer communication and improve the reliability of its service; which will ultimately improve customer experience. In addition, the solution will enable Sendy to realise cost savings, and ultimately reduce the cost of doing business, through improved resource management and planning for order scheduling.\n",
    "\n",
    "An accurate arrival time prediction will help all businesses to improve their logistics and communicate an accurate time to their customers. \n",
    "\n",
    "#### What will be done?\n",
    "Given the details of a Sendy order, historic data will be used to predict the time of arrival of a rider at the destination of a package as accurately as possible.\n",
    "\n",
    "#### How will this be done\n",
    "\n",
    "By building a linear regression model that predicts an accurate delivery time, from picking up a package to arriving at the final destination.\n"
   ]
  },
  {
   "cell_type": "markdown",
   "metadata": {},
   "source": [
    "# 1. Data Pre-Processing"
   ]
  },
  {
   "cell_type": "markdown",
   "metadata": {},
   "source": [
    "## 1.1 Load Libraries"
   ]
  },
  {
   "cell_type": "code",
   "execution_count": 1,
   "metadata": {},
   "outputs": [],
   "source": [
    "# Import modules\n",
    "import numpy as np\n",
    "import pandas as pd\n",
    "import matplotlib.pyplot as plt\n",
    "import seaborn as sns\n",
    "\n",
    "# Figures inline and set visualization style\n",
    "%matplotlib inline\n",
    "sns.set()"
   ]
  },
  {
   "cell_type": "markdown",
   "metadata": {},
   "source": [
    "## 1.2 Check Datasets"
   ]
  },
  {
   "cell_type": "markdown",
   "metadata": {},
   "source": [
    "#### Check that all datasets are accounted for\n",
    "\n",
    "The files for download according to the hackathon:\n",
    "\n",
    "* `Train.csv` - is the dataset that you will use to train your model\n",
    "* `Test.csv` - is the dataset on which you will apply your model to.\n",
    "* `Riders.csv` - contains unique rider Ids, number of orders, age, rating and number of ratings\n",
    "* `VariableDefinitions.csv` - Definitions of variables in the Train, Test and Riders files\n",
    "\n",
    "The above files are accounted for.\n",
    "\n",
    "An additional file, `SampleSubmission.csv` was available for download as well"
   ]
  },
  {
   "cell_type": "markdown",
   "metadata": {},
   "source": [
    "## 1.3 Import the datasets"
   ]
  },
  {
   "cell_type": "code",
   "execution_count": 2,
   "metadata": {},
   "outputs": [],
   "source": [
    "# import Datasets\n",
    "\n",
    "train_df = pd.read_csv('Train.csv')\n",
    "test_df = pd.read_csv('Test.csv')\n",
    "riders_df = pd.read_csv('Riders.csv')\n",
    "variable_definitions_df = pd.read_csv('VariableDefinitions.csv', header=None,\n",
    "                                      names=['Variable', 'Definition'])\n",
    "sample_submission_df = pd.read_csv('SampleSubmission.csv')"
   ]
  },
  {
   "cell_type": "code",
   "execution_count": 3,
   "metadata": {},
   "outputs": [
    {
     "data": {
      "text/html": [
       "<div>\n",
       "<style scoped>\n",
       "    .dataframe tbody tr th:only-of-type {\n",
       "        vertical-align: middle;\n",
       "    }\n",
       "\n",
       "    .dataframe tbody tr th {\n",
       "        vertical-align: top;\n",
       "    }\n",
       "\n",
       "    .dataframe thead th {\n",
       "        text-align: right;\n",
       "    }\n",
       "</style>\n",
       "<table border=\"1\" class=\"dataframe\">\n",
       "  <thead>\n",
       "    <tr style=\"text-align: right;\">\n",
       "      <th></th>\n",
       "      <th>Order No</th>\n",
       "      <th>User Id</th>\n",
       "      <th>Vehicle Type</th>\n",
       "      <th>Platform Type</th>\n",
       "      <th>Personal or Business</th>\n",
       "      <th>Placement - Day of Month</th>\n",
       "      <th>Placement - Weekday (Mo = 1)</th>\n",
       "      <th>Placement - Time</th>\n",
       "      <th>Confirmation - Day of Month</th>\n",
       "      <th>Confirmation - Weekday (Mo = 1)</th>\n",
       "      <th>...</th>\n",
       "      <th>Arrival at Destination - Time</th>\n",
       "      <th>Distance (KM)</th>\n",
       "      <th>Temperature</th>\n",
       "      <th>Precipitation in millimeters</th>\n",
       "      <th>Pickup Lat</th>\n",
       "      <th>Pickup Long</th>\n",
       "      <th>Destination Lat</th>\n",
       "      <th>Destination Long</th>\n",
       "      <th>Rider Id</th>\n",
       "      <th>Time from Pickup to Arrival</th>\n",
       "    </tr>\n",
       "  </thead>\n",
       "  <tbody>\n",
       "    <tr>\n",
       "      <td>0</td>\n",
       "      <td>Order_No_4211</td>\n",
       "      <td>User_Id_633</td>\n",
       "      <td>Bike</td>\n",
       "      <td>3</td>\n",
       "      <td>Business</td>\n",
       "      <td>9</td>\n",
       "      <td>5</td>\n",
       "      <td>9:35:46 AM</td>\n",
       "      <td>9</td>\n",
       "      <td>5</td>\n",
       "      <td>...</td>\n",
       "      <td>10:39:55 AM</td>\n",
       "      <td>4</td>\n",
       "      <td>20.4</td>\n",
       "      <td>NaN</td>\n",
       "      <td>-1.317755</td>\n",
       "      <td>36.830370</td>\n",
       "      <td>-1.300406</td>\n",
       "      <td>36.829741</td>\n",
       "      <td>Rider_Id_432</td>\n",
       "      <td>745</td>\n",
       "    </tr>\n",
       "    <tr>\n",
       "      <td>1</td>\n",
       "      <td>Order_No_25375</td>\n",
       "      <td>User_Id_2285</td>\n",
       "      <td>Bike</td>\n",
       "      <td>3</td>\n",
       "      <td>Personal</td>\n",
       "      <td>12</td>\n",
       "      <td>5</td>\n",
       "      <td>11:16:16 AM</td>\n",
       "      <td>12</td>\n",
       "      <td>5</td>\n",
       "      <td>...</td>\n",
       "      <td>12:17:22 PM</td>\n",
       "      <td>16</td>\n",
       "      <td>26.4</td>\n",
       "      <td>NaN</td>\n",
       "      <td>-1.351453</td>\n",
       "      <td>36.899315</td>\n",
       "      <td>-1.295004</td>\n",
       "      <td>36.814358</td>\n",
       "      <td>Rider_Id_856</td>\n",
       "      <td>1993</td>\n",
       "    </tr>\n",
       "    <tr>\n",
       "      <td>2</td>\n",
       "      <td>Order_No_1899</td>\n",
       "      <td>User_Id_265</td>\n",
       "      <td>Bike</td>\n",
       "      <td>3</td>\n",
       "      <td>Business</td>\n",
       "      <td>30</td>\n",
       "      <td>2</td>\n",
       "      <td>12:39:25 PM</td>\n",
       "      <td>30</td>\n",
       "      <td>2</td>\n",
       "      <td>...</td>\n",
       "      <td>1:00:38 PM</td>\n",
       "      <td>3</td>\n",
       "      <td>NaN</td>\n",
       "      <td>NaN</td>\n",
       "      <td>-1.308284</td>\n",
       "      <td>36.843419</td>\n",
       "      <td>-1.300921</td>\n",
       "      <td>36.828195</td>\n",
       "      <td>Rider_Id_155</td>\n",
       "      <td>455</td>\n",
       "    </tr>\n",
       "    <tr>\n",
       "      <td>3</td>\n",
       "      <td>Order_No_9336</td>\n",
       "      <td>User_Id_1402</td>\n",
       "      <td>Bike</td>\n",
       "      <td>3</td>\n",
       "      <td>Business</td>\n",
       "      <td>15</td>\n",
       "      <td>5</td>\n",
       "      <td>9:25:34 AM</td>\n",
       "      <td>15</td>\n",
       "      <td>5</td>\n",
       "      <td>...</td>\n",
       "      <td>10:05:27 AM</td>\n",
       "      <td>9</td>\n",
       "      <td>19.2</td>\n",
       "      <td>NaN</td>\n",
       "      <td>-1.281301</td>\n",
       "      <td>36.832396</td>\n",
       "      <td>-1.257147</td>\n",
       "      <td>36.795063</td>\n",
       "      <td>Rider_Id_855</td>\n",
       "      <td>1341</td>\n",
       "    </tr>\n",
       "    <tr>\n",
       "      <td>4</td>\n",
       "      <td>Order_No_27883</td>\n",
       "      <td>User_Id_1737</td>\n",
       "      <td>Bike</td>\n",
       "      <td>1</td>\n",
       "      <td>Personal</td>\n",
       "      <td>13</td>\n",
       "      <td>1</td>\n",
       "      <td>9:55:18 AM</td>\n",
       "      <td>13</td>\n",
       "      <td>1</td>\n",
       "      <td>...</td>\n",
       "      <td>10:25:37 AM</td>\n",
       "      <td>9</td>\n",
       "      <td>15.4</td>\n",
       "      <td>NaN</td>\n",
       "      <td>-1.266597</td>\n",
       "      <td>36.792118</td>\n",
       "      <td>-1.295041</td>\n",
       "      <td>36.809817</td>\n",
       "      <td>Rider_Id_770</td>\n",
       "      <td>1214</td>\n",
       "    </tr>\n",
       "  </tbody>\n",
       "</table>\n",
       "<p>5 rows × 29 columns</p>\n",
       "</div>"
      ],
      "text/plain": [
       "         Order No       User Id Vehicle Type  Platform Type  \\\n",
       "0   Order_No_4211   User_Id_633         Bike              3   \n",
       "1  Order_No_25375  User_Id_2285         Bike              3   \n",
       "2   Order_No_1899   User_Id_265         Bike              3   \n",
       "3   Order_No_9336  User_Id_1402         Bike              3   \n",
       "4  Order_No_27883  User_Id_1737         Bike              1   \n",
       "\n",
       "  Personal or Business  Placement - Day of Month  \\\n",
       "0             Business                         9   \n",
       "1             Personal                        12   \n",
       "2             Business                        30   \n",
       "3             Business                        15   \n",
       "4             Personal                        13   \n",
       "\n",
       "   Placement - Weekday (Mo = 1) Placement - Time  Confirmation - Day of Month  \\\n",
       "0                             5       9:35:46 AM                            9   \n",
       "1                             5      11:16:16 AM                           12   \n",
       "2                             2      12:39:25 PM                           30   \n",
       "3                             5       9:25:34 AM                           15   \n",
       "4                             1       9:55:18 AM                           13   \n",
       "\n",
       "   Confirmation - Weekday (Mo = 1)  ... Arrival at Destination - Time  \\\n",
       "0                                5  ...                   10:39:55 AM   \n",
       "1                                5  ...                   12:17:22 PM   \n",
       "2                                2  ...                    1:00:38 PM   \n",
       "3                                5  ...                   10:05:27 AM   \n",
       "4                                1  ...                   10:25:37 AM   \n",
       "\n",
       "   Distance (KM)  Temperature Precipitation in millimeters  Pickup Lat  \\\n",
       "0              4         20.4                          NaN   -1.317755   \n",
       "1             16         26.4                          NaN   -1.351453   \n",
       "2              3          NaN                          NaN   -1.308284   \n",
       "3              9         19.2                          NaN   -1.281301   \n",
       "4              9         15.4                          NaN   -1.266597   \n",
       "\n",
       "   Pickup Long Destination Lat  Destination Long      Rider Id  \\\n",
       "0    36.830370       -1.300406         36.829741  Rider_Id_432   \n",
       "1    36.899315       -1.295004         36.814358  Rider_Id_856   \n",
       "2    36.843419       -1.300921         36.828195  Rider_Id_155   \n",
       "3    36.832396       -1.257147         36.795063  Rider_Id_855   \n",
       "4    36.792118       -1.295041         36.809817  Rider_Id_770   \n",
       "\n",
       "  Time from Pickup to Arrival  \n",
       "0                         745  \n",
       "1                        1993  \n",
       "2                         455  \n",
       "3                        1341  \n",
       "4                        1214  \n",
       "\n",
       "[5 rows x 29 columns]"
      ]
     },
     "execution_count": 3,
     "metadata": {},
     "output_type": "execute_result"
    }
   ],
   "source": [
    "# check training data\n",
    "train_df.head()"
   ]
  },
  {
   "cell_type": "code",
   "execution_count": 4,
   "metadata": {},
   "outputs": [
    {
     "data": {
      "text/html": [
       "<div>\n",
       "<style scoped>\n",
       "    .dataframe tbody tr th:only-of-type {\n",
       "        vertical-align: middle;\n",
       "    }\n",
       "\n",
       "    .dataframe tbody tr th {\n",
       "        vertical-align: top;\n",
       "    }\n",
       "\n",
       "    .dataframe thead th {\n",
       "        text-align: right;\n",
       "    }\n",
       "</style>\n",
       "<table border=\"1\" class=\"dataframe\">\n",
       "  <thead>\n",
       "    <tr style=\"text-align: right;\">\n",
       "      <th></th>\n",
       "      <th>Order No</th>\n",
       "      <th>User Id</th>\n",
       "      <th>Vehicle Type</th>\n",
       "      <th>Platform Type</th>\n",
       "      <th>Personal or Business</th>\n",
       "      <th>Placement - Day of Month</th>\n",
       "      <th>Placement - Weekday (Mo = 1)</th>\n",
       "      <th>Placement - Time</th>\n",
       "      <th>Confirmation - Day of Month</th>\n",
       "      <th>Confirmation - Weekday (Mo = 1)</th>\n",
       "      <th>...</th>\n",
       "      <th>Pickup - Weekday (Mo = 1)</th>\n",
       "      <th>Pickup - Time</th>\n",
       "      <th>Distance (KM)</th>\n",
       "      <th>Temperature</th>\n",
       "      <th>Precipitation in millimeters</th>\n",
       "      <th>Pickup Lat</th>\n",
       "      <th>Pickup Long</th>\n",
       "      <th>Destination Lat</th>\n",
       "      <th>Destination Long</th>\n",
       "      <th>Rider Id</th>\n",
       "    </tr>\n",
       "  </thead>\n",
       "  <tbody>\n",
       "    <tr>\n",
       "      <td>0</td>\n",
       "      <td>Order_No_19248</td>\n",
       "      <td>User_Id_3355</td>\n",
       "      <td>Bike</td>\n",
       "      <td>3</td>\n",
       "      <td>Business</td>\n",
       "      <td>27</td>\n",
       "      <td>3</td>\n",
       "      <td>4:44:10 PM</td>\n",
       "      <td>27</td>\n",
       "      <td>3</td>\n",
       "      <td>...</td>\n",
       "      <td>3</td>\n",
       "      <td>5:06:47 PM</td>\n",
       "      <td>8</td>\n",
       "      <td>NaN</td>\n",
       "      <td>NaN</td>\n",
       "      <td>-1.333275</td>\n",
       "      <td>36.870815</td>\n",
       "      <td>-1.305249</td>\n",
       "      <td>36.822390</td>\n",
       "      <td>Rider_Id_192</td>\n",
       "    </tr>\n",
       "    <tr>\n",
       "      <td>1</td>\n",
       "      <td>Order_No_12736</td>\n",
       "      <td>User_Id_3647</td>\n",
       "      <td>Bike</td>\n",
       "      <td>3</td>\n",
       "      <td>Business</td>\n",
       "      <td>17</td>\n",
       "      <td>5</td>\n",
       "      <td>12:57:35 PM</td>\n",
       "      <td>17</td>\n",
       "      <td>5</td>\n",
       "      <td>...</td>\n",
       "      <td>5</td>\n",
       "      <td>1:25:37 PM</td>\n",
       "      <td>5</td>\n",
       "      <td>NaN</td>\n",
       "      <td>NaN</td>\n",
       "      <td>-1.272639</td>\n",
       "      <td>36.794723</td>\n",
       "      <td>-1.277007</td>\n",
       "      <td>36.823907</td>\n",
       "      <td>Rider_Id_868</td>\n",
       "    </tr>\n",
       "    <tr>\n",
       "      <td>2</td>\n",
       "      <td>Order_No_768</td>\n",
       "      <td>User_Id_2154</td>\n",
       "      <td>Bike</td>\n",
       "      <td>3</td>\n",
       "      <td>Business</td>\n",
       "      <td>27</td>\n",
       "      <td>4</td>\n",
       "      <td>11:08:14 AM</td>\n",
       "      <td>27</td>\n",
       "      <td>4</td>\n",
       "      <td>...</td>\n",
       "      <td>4</td>\n",
       "      <td>11:57:54 AM</td>\n",
       "      <td>5</td>\n",
       "      <td>22.8</td>\n",
       "      <td>NaN</td>\n",
       "      <td>-1.290894</td>\n",
       "      <td>36.822971</td>\n",
       "      <td>-1.276574</td>\n",
       "      <td>36.851365</td>\n",
       "      <td>Rider_Id_26</td>\n",
       "    </tr>\n",
       "    <tr>\n",
       "      <td>3</td>\n",
       "      <td>Order_No_15332</td>\n",
       "      <td>User_Id_2910</td>\n",
       "      <td>Bike</td>\n",
       "      <td>3</td>\n",
       "      <td>Business</td>\n",
       "      <td>17</td>\n",
       "      <td>1</td>\n",
       "      <td>1:51:35 PM</td>\n",
       "      <td>17</td>\n",
       "      <td>1</td>\n",
       "      <td>...</td>\n",
       "      <td>1</td>\n",
       "      <td>2:16:52 PM</td>\n",
       "      <td>5</td>\n",
       "      <td>24.5</td>\n",
       "      <td>NaN</td>\n",
       "      <td>-1.290503</td>\n",
       "      <td>36.809646</td>\n",
       "      <td>-1.303382</td>\n",
       "      <td>36.790658</td>\n",
       "      <td>Rider_Id_685</td>\n",
       "    </tr>\n",
       "    <tr>\n",
       "      <td>4</td>\n",
       "      <td>Order_No_21373</td>\n",
       "      <td>User_Id_1205</td>\n",
       "      <td>Bike</td>\n",
       "      <td>3</td>\n",
       "      <td>Business</td>\n",
       "      <td>11</td>\n",
       "      <td>2</td>\n",
       "      <td>11:30:28 AM</td>\n",
       "      <td>11</td>\n",
       "      <td>2</td>\n",
       "      <td>...</td>\n",
       "      <td>2</td>\n",
       "      <td>11:56:04 AM</td>\n",
       "      <td>6</td>\n",
       "      <td>24.4</td>\n",
       "      <td>NaN</td>\n",
       "      <td>-1.281081</td>\n",
       "      <td>36.814423</td>\n",
       "      <td>-1.266467</td>\n",
       "      <td>36.792161</td>\n",
       "      <td>Rider_Id_858</td>\n",
       "    </tr>\n",
       "  </tbody>\n",
       "</table>\n",
       "<p>5 rows × 25 columns</p>\n",
       "</div>"
      ],
      "text/plain": [
       "         Order No       User Id Vehicle Type  Platform Type  \\\n",
       "0  Order_No_19248  User_Id_3355         Bike              3   \n",
       "1  Order_No_12736  User_Id_3647         Bike              3   \n",
       "2    Order_No_768  User_Id_2154         Bike              3   \n",
       "3  Order_No_15332  User_Id_2910         Bike              3   \n",
       "4  Order_No_21373  User_Id_1205         Bike              3   \n",
       "\n",
       "  Personal or Business  Placement - Day of Month  \\\n",
       "0             Business                        27   \n",
       "1             Business                        17   \n",
       "2             Business                        27   \n",
       "3             Business                        17   \n",
       "4             Business                        11   \n",
       "\n",
       "   Placement - Weekday (Mo = 1) Placement - Time  Confirmation - Day of Month  \\\n",
       "0                             3       4:44:10 PM                           27   \n",
       "1                             5      12:57:35 PM                           17   \n",
       "2                             4      11:08:14 AM                           27   \n",
       "3                             1       1:51:35 PM                           17   \n",
       "4                             2      11:30:28 AM                           11   \n",
       "\n",
       "   Confirmation - Weekday (Mo = 1)  ... Pickup - Weekday (Mo = 1)  \\\n",
       "0                                3  ...                         3   \n",
       "1                                5  ...                         5   \n",
       "2                                4  ...                         4   \n",
       "3                                1  ...                         1   \n",
       "4                                2  ...                         2   \n",
       "\n",
       "   Pickup - Time  Distance (KM) Temperature  Precipitation in millimeters  \\\n",
       "0     5:06:47 PM              8         NaN                           NaN   \n",
       "1     1:25:37 PM              5         NaN                           NaN   \n",
       "2    11:57:54 AM              5        22.8                           NaN   \n",
       "3     2:16:52 PM              5        24.5                           NaN   \n",
       "4    11:56:04 AM              6        24.4                           NaN   \n",
       "\n",
       "   Pickup Lat Pickup Long  Destination Lat  Destination Long      Rider Id  \n",
       "0   -1.333275   36.870815        -1.305249         36.822390  Rider_Id_192  \n",
       "1   -1.272639   36.794723        -1.277007         36.823907  Rider_Id_868  \n",
       "2   -1.290894   36.822971        -1.276574         36.851365   Rider_Id_26  \n",
       "3   -1.290503   36.809646        -1.303382         36.790658  Rider_Id_685  \n",
       "4   -1.281081   36.814423        -1.266467         36.792161  Rider_Id_858  \n",
       "\n",
       "[5 rows x 25 columns]"
      ]
     },
     "execution_count": 4,
     "metadata": {},
     "output_type": "execute_result"
    }
   ],
   "source": [
    "# check test data\n",
    "test_df.head()"
   ]
  },
  {
   "cell_type": "code",
   "execution_count": 5,
   "metadata": {},
   "outputs": [
    {
     "data": {
      "text/html": [
       "<div>\n",
       "<style scoped>\n",
       "    .dataframe tbody tr th:only-of-type {\n",
       "        vertical-align: middle;\n",
       "    }\n",
       "\n",
       "    .dataframe tbody tr th {\n",
       "        vertical-align: top;\n",
       "    }\n",
       "\n",
       "    .dataframe thead th {\n",
       "        text-align: right;\n",
       "    }\n",
       "</style>\n",
       "<table border=\"1\" class=\"dataframe\">\n",
       "  <thead>\n",
       "    <tr style=\"text-align: right;\">\n",
       "      <th></th>\n",
       "      <th>Rider Id</th>\n",
       "      <th>No_Of_Orders</th>\n",
       "      <th>Age</th>\n",
       "      <th>Average_Rating</th>\n",
       "      <th>No_of_Ratings</th>\n",
       "    </tr>\n",
       "  </thead>\n",
       "  <tbody>\n",
       "    <tr>\n",
       "      <td>0</td>\n",
       "      <td>Rider_Id_396</td>\n",
       "      <td>2946</td>\n",
       "      <td>2298</td>\n",
       "      <td>14.0</td>\n",
       "      <td>1159</td>\n",
       "    </tr>\n",
       "    <tr>\n",
       "      <td>1</td>\n",
       "      <td>Rider_Id_479</td>\n",
       "      <td>360</td>\n",
       "      <td>951</td>\n",
       "      <td>13.5</td>\n",
       "      <td>176</td>\n",
       "    </tr>\n",
       "    <tr>\n",
       "      <td>2</td>\n",
       "      <td>Rider_Id_648</td>\n",
       "      <td>1746</td>\n",
       "      <td>821</td>\n",
       "      <td>14.3</td>\n",
       "      <td>466</td>\n",
       "    </tr>\n",
       "    <tr>\n",
       "      <td>3</td>\n",
       "      <td>Rider_Id_753</td>\n",
       "      <td>314</td>\n",
       "      <td>980</td>\n",
       "      <td>12.5</td>\n",
       "      <td>75</td>\n",
       "    </tr>\n",
       "    <tr>\n",
       "      <td>4</td>\n",
       "      <td>Rider_Id_335</td>\n",
       "      <td>536</td>\n",
       "      <td>1113</td>\n",
       "      <td>13.7</td>\n",
       "      <td>156</td>\n",
       "    </tr>\n",
       "  </tbody>\n",
       "</table>\n",
       "</div>"
      ],
      "text/plain": [
       "       Rider Id  No_Of_Orders   Age  Average_Rating  No_of_Ratings\n",
       "0  Rider_Id_396          2946  2298            14.0           1159\n",
       "1  Rider_Id_479           360   951            13.5            176\n",
       "2  Rider_Id_648          1746   821            14.3            466\n",
       "3  Rider_Id_753           314   980            12.5             75\n",
       "4  Rider_Id_335           536  1113            13.7            156"
      ]
     },
     "execution_count": 5,
     "metadata": {},
     "output_type": "execute_result"
    }
   ],
   "source": [
    "# check riders\n",
    "riders_df.head()"
   ]
  },
  {
   "cell_type": "code",
   "execution_count": 6,
   "metadata": {},
   "outputs": [
    {
     "data": {
      "text/html": [
       "<div>\n",
       "<style scoped>\n",
       "    .dataframe tbody tr th:only-of-type {\n",
       "        vertical-align: middle;\n",
       "    }\n",
       "\n",
       "    .dataframe tbody tr th {\n",
       "        vertical-align: top;\n",
       "    }\n",
       "\n",
       "    .dataframe thead th {\n",
       "        text-align: right;\n",
       "    }\n",
       "</style>\n",
       "<table border=\"1\" class=\"dataframe\">\n",
       "  <thead>\n",
       "    <tr style=\"text-align: right;\">\n",
       "      <th></th>\n",
       "      <th>Variable</th>\n",
       "      <th>Definition</th>\n",
       "    </tr>\n",
       "  </thead>\n",
       "  <tbody>\n",
       "    <tr>\n",
       "      <td>0</td>\n",
       "      <td>Order No</td>\n",
       "      <td>Unique number identifying the order</td>\n",
       "    </tr>\n",
       "    <tr>\n",
       "      <td>1</td>\n",
       "      <td>User Id</td>\n",
       "      <td>Unique number identifying the customer on a pl...</td>\n",
       "    </tr>\n",
       "    <tr>\n",
       "      <td>2</td>\n",
       "      <td>Vehicle Type</td>\n",
       "      <td>For this competition limited to bikes, however...</td>\n",
       "    </tr>\n",
       "    <tr>\n",
       "      <td>3</td>\n",
       "      <td>Platform Type</td>\n",
       "      <td>Platform used to place the order, there are 4 ...</td>\n",
       "    </tr>\n",
       "    <tr>\n",
       "      <td>4</td>\n",
       "      <td>Personal or Business</td>\n",
       "      <td>Customer type</td>\n",
       "    </tr>\n",
       "  </tbody>\n",
       "</table>\n",
       "</div>"
      ],
      "text/plain": [
       "               Variable                                         Definition\n",
       "0              Order No                Unique number identifying the order\n",
       "1               User Id  Unique number identifying the customer on a pl...\n",
       "2          Vehicle Type  For this competition limited to bikes, however...\n",
       "3         Platform Type  Platform used to place the order, there are 4 ...\n",
       "4  Personal or Business                                      Customer type"
      ]
     },
     "execution_count": 6,
     "metadata": {},
     "output_type": "execute_result"
    }
   ],
   "source": [
    "# Check variable definitions\n",
    "variable_definitions_df.head()"
   ]
  },
  {
   "cell_type": "code",
   "execution_count": 7,
   "metadata": {},
   "outputs": [
    {
     "data": {
      "text/html": [
       "<div>\n",
       "<style scoped>\n",
       "    .dataframe tbody tr th:only-of-type {\n",
       "        vertical-align: middle;\n",
       "    }\n",
       "\n",
       "    .dataframe tbody tr th {\n",
       "        vertical-align: top;\n",
       "    }\n",
       "\n",
       "    .dataframe thead th {\n",
       "        text-align: right;\n",
       "    }\n",
       "</style>\n",
       "<table border=\"1\" class=\"dataframe\">\n",
       "  <thead>\n",
       "    <tr style=\"text-align: right;\">\n",
       "      <th></th>\n",
       "      <th>Order_No</th>\n",
       "      <th>Time from Pickup to Arrival</th>\n",
       "    </tr>\n",
       "  </thead>\n",
       "  <tbody>\n",
       "    <tr>\n",
       "      <td>0</td>\n",
       "      <td>Order_No_19248</td>\n",
       "      <td>567.0</td>\n",
       "    </tr>\n",
       "    <tr>\n",
       "      <td>1</td>\n",
       "      <td>Order_No_12736</td>\n",
       "      <td>4903.0</td>\n",
       "    </tr>\n",
       "    <tr>\n",
       "      <td>2</td>\n",
       "      <td>Order_No_768</td>\n",
       "      <td>5649.0</td>\n",
       "    </tr>\n",
       "    <tr>\n",
       "      <td>3</td>\n",
       "      <td>Order_No_15332</td>\n",
       "      <td>NaN</td>\n",
       "    </tr>\n",
       "    <tr>\n",
       "      <td>4</td>\n",
       "      <td>Order_No_21373</td>\n",
       "      <td>NaN</td>\n",
       "    </tr>\n",
       "  </tbody>\n",
       "</table>\n",
       "</div>"
      ],
      "text/plain": [
       "         Order_No  Time from Pickup to Arrival\n",
       "0  Order_No_19248                        567.0\n",
       "1  Order_No_12736                       4903.0\n",
       "2    Order_No_768                       5649.0\n",
       "3  Order_No_15332                          NaN\n",
       "4  Order_No_21373                          NaN"
      ]
     },
     "execution_count": 7,
     "metadata": {},
     "output_type": "execute_result"
    }
   ],
   "source": [
    "# check sample submission\n",
    "sample_submission_df.head()"
   ]
  },
  {
   "cell_type": "markdown",
   "metadata": {},
   "source": [
    "#### Prelimenary observation\n",
    "Based on DataFrame previews it can be assumed that of all data were successfully imported. the following data will form part of the regression analysis:\n",
    "* `train_df`\n",
    "* `test_df`\n",
    "* `riders_df`\n",
    "\n",
    "`variable_definitions_df` privides definitions of the variables\n",
    "\n",
    "`sample_submission_df` is a template for the submission of model predictions for this project"
   ]
  },
  {
   "cell_type": "markdown",
   "metadata": {},
   "source": [
    "## 1.4 Assess Data"
   ]
  },
  {
   "cell_type": "markdown",
   "metadata": {},
   "source": [
    "### 1.4.1 Assess variable definitions"
   ]
  },
  {
   "cell_type": "code",
   "execution_count": 8,
   "metadata": {},
   "outputs": [],
   "source": [
    "merged_train_rider = pd.merge(train_df, riders_df, on='Rider Id')\n",
    "merged_test_rider = pd.merge(test_df, riders_df, on='Rider Id')"
   ]
  },
  {
   "cell_type": "code",
   "execution_count": 9,
   "metadata": {},
   "outputs": [
    {
     "data": {
      "text/html": [
       "<div>\n",
       "<style scoped>\n",
       "    .dataframe tbody tr th:only-of-type {\n",
       "        vertical-align: middle;\n",
       "    }\n",
       "\n",
       "    .dataframe tbody tr th {\n",
       "        vertical-align: top;\n",
       "    }\n",
       "\n",
       "    .dataframe thead th {\n",
       "        text-align: right;\n",
       "    }\n",
       "</style>\n",
       "<table border=\"1\" class=\"dataframe\">\n",
       "  <thead>\n",
       "    <tr style=\"text-align: right;\">\n",
       "      <th></th>\n",
       "      <th>Variable</th>\n",
       "      <th>Definition</th>\n",
       "      <th>Dtype</th>\n",
       "    </tr>\n",
       "  </thead>\n",
       "  <tbody>\n",
       "    <tr>\n",
       "      <td>0</td>\n",
       "      <td>Order No</td>\n",
       "      <td>Unique number identifying the order</td>\n",
       "      <td>object</td>\n",
       "    </tr>\n",
       "    <tr>\n",
       "      <td>1</td>\n",
       "      <td>User Id</td>\n",
       "      <td>Unique number identifying the customer on a pl...</td>\n",
       "      <td>object</td>\n",
       "    </tr>\n",
       "    <tr>\n",
       "      <td>2</td>\n",
       "      <td>Vehicle Type</td>\n",
       "      <td>For this competition limited to bikes, however...</td>\n",
       "      <td>object</td>\n",
       "    </tr>\n",
       "    <tr>\n",
       "      <td>3</td>\n",
       "      <td>Platform Type</td>\n",
       "      <td>Platform used to place the order, there are 4 ...</td>\n",
       "      <td>int64</td>\n",
       "    </tr>\n",
       "    <tr>\n",
       "      <td>4</td>\n",
       "      <td>Personal or Business</td>\n",
       "      <td>Customer type</td>\n",
       "      <td>object</td>\n",
       "    </tr>\n",
       "  </tbody>\n",
       "</table>\n",
       "</div>"
      ],
      "text/plain": [
       "               Variable                                         Definition  \\\n",
       "0              Order No                Unique number identifying the order   \n",
       "1               User Id  Unique number identifying the customer on a pl...   \n",
       "2          Vehicle Type  For this competition limited to bikes, however...   \n",
       "3         Platform Type  Platform used to place the order, there are 4 ...   \n",
       "4  Personal or Business                                      Customer type   \n",
       "\n",
       "    Dtype  \n",
       "0  object  \n",
       "1  object  \n",
       "2  object  \n",
       "3   int64  \n",
       "4  object  "
      ]
     },
     "execution_count": 9,
     "metadata": {},
     "output_type": "execute_result"
    }
   ],
   "source": [
    "merged_train_rider_cols = pd.DataFrame(merged_train_rider.dtypes, columns=['Dtype'])\n",
    "merged_train_rider_cols.index = merged_train_rider_cols.index.rename(name='Variable')\n",
    "Variables_Table = pd.merge(variable_definitions_df, merged_train_rider_cols, on='Variable')\n",
    "Variables_Table.head()"
   ]
  },
  {
   "cell_type": "code",
   "execution_count": 10,
   "metadata": {},
   "outputs": [
    {
     "name": "stdout",
     "output_type": "stream",
     "text": [
      "Number of variables: 34\n",
      " ======================================= \n",
      "\n",
      "Order No\n",
      "data type:object\n",
      "Def:Unique number identifying the order\n",
      "\n",
      "User Id\n",
      "data type:object\n",
      "Def:Unique number identifying the customer on a platform\n",
      "\n",
      "Vehicle Type\n",
      "data type:object\n",
      "Def:For this competition limited to bikes, however in practice Sendy service extends to trucks and vans\n",
      "\n",
      "Platform Type\n",
      "data type:int64\n",
      "Def:Platform used to place the order, there are 4 types\n",
      "\n",
      "Personal or Business\n",
      "data type:object\n",
      "Def:Customer type\n",
      "\n",
      "Placement - Day of Month\n",
      "data type:int64\n",
      "Def:Placement - Day of Month i.e 1-31\n",
      "\n",
      "Placement - Weekday (Mo = 1)\n",
      "data type:int64\n",
      "Def:Placement - Weekday (Monday = 1)\n",
      "\n",
      "Placement - Time\n",
      "data type:object\n",
      "Def:Placement - Time - Time of day the order was placed\n",
      "\n",
      "Confirmation - Day of Month\n",
      "data type:int64\n",
      "Def:Confirmation - Day of Month i.e 1-31\n",
      "\n",
      "Confirmation - Weekday (Mo = 1)\n",
      "data type:int64\n",
      "Def:Confirmation - Weekday (Monday = 1)\n",
      "\n",
      "Confirmation - Time\n",
      "data type:object\n",
      "Def:Confirmation - Time - Time of day the order was confirmed by a rider\n",
      "\n",
      "Arrival at Pickup - Day of Month\n",
      "data type:int64\n",
      "Def:Arrival at Pickup - Day of Month i.e 1-31\n",
      "\n",
      "Arrival at Pickup - Weekday (Mo = 1)\n",
      "data type:int64\n",
      "Def:Arrival at Pickup - Weekday (Monday = 1)\n",
      "\n",
      "Arrival at Pickup - Time\n",
      "data type:object\n",
      "Def:Time of day the the rider arrived at the location to pick up the order - as marked by the rider through the Sendy application\n",
      "\n",
      "Pickup - Day of Month\n",
      "data type:int64\n",
      "Def:Pickup - Day of Month i.e 1-31\n",
      "\n",
      "Pickup - Weekday (Mo = 1)\n",
      "data type:int64\n",
      "Def:Pickup - Weekday (Monday = 1)\n",
      "\n",
      "Pickup - Time\n",
      "data type:object\n",
      "Def:Pickup - Time - Time of day the the rider picked up the order - as marked by the rider through the Sendy application\n",
      "\n",
      "Arrival at Destination - Day of Month\n",
      "data type:int64\n",
      "Def:Arrival at Delivery - Day of Month i.e 1-31\n",
      "\n",
      "Arrival at Destination - Weekday (Mo = 1)\n",
      "data type:int64\n",
      "Def:Arrival at Delivery - Weekday (Monday = 1)\n",
      "\n",
      "Arrival at Destination - Time\n",
      "data type:object\n",
      "Def:Arrival at Delivery Time - Time of day the rider arrived at the destination to deliver the order - as marked by the rider through the Sendy application\n",
      "\n",
      "Distance (KM)\n",
      "data type:int64\n",
      "Def:The distance from Pickup to Destination\n",
      "\n",
      "Temperature\n",
      "data type:float64\n",
      "Def:Temperature at the time of order placement in Degrees Celsius (measured every three hours)\n",
      "\n",
      "Precipitation in millimeters\n",
      "data type:float64\n",
      "Def: Precipitation at the time of order placement (measured every three hours)\n",
      "\n",
      "Pickup Lat\n",
      "data type:float64\n",
      "Def:Latitude of pick up location\n",
      "\n",
      "Pickup Long\n",
      "data type:float64\n",
      "Def:Longitude of pick up location\n",
      "\n",
      "Destination Lat\n",
      "data type:float64\n",
      "Def:Latitude of delivery location\n",
      "\n",
      "Destination Long\n",
      "data type:float64\n",
      "Def:Longitude of delivery location\n",
      "\n",
      "Rider Id\n",
      "data type:object\n",
      "Def: ID of the Rider who accepted the order\n",
      "\n",
      "Rider Id\n",
      "data type:object\n",
      "Def:Unique number identifying the rider (same as in order details)\n",
      "\n",
      "Time from Pickup to Arrival\n",
      "data type:int64\n",
      "Def:Time in seconds between 'Pickup' and 'Arrival at Destination' - calculated from the columns for the purpose of facilitating the task\n",
      "\n",
      "No_Of_Orders\n",
      "data type:int64\n",
      "Def: Number of Orders the rider has delivered\n",
      "\n",
      "Age\n",
      "data type:int64\n",
      "Def:Number of days since the rider delivered the first order\n",
      "\n",
      "Average_Rating\n",
      "data type:float64\n",
      "Def:Average rating of the rider\n",
      "\n",
      "No_of_Ratings\n",
      "data type:int64\n",
      "Def: Number of ratings the rider has received. Rating an order is optional for the customer.\n",
      "\n"
     ]
    }
   ],
   "source": [
    "# Get variable definitions\n",
    "print(f'Number of variables: {len(Variables_Table)}\\n',\n",
    "     '======================================= \\n')\n",
    "for var, definition, datatype in Variables_Table.values:\n",
    "    print(f'{var}\\ndata type:{datatype}\\nDef:{definition}\\n')"
   ]
  },
  {
   "cell_type": "markdown",
   "metadata": {},
   "source": [
    "#### Conclusion from Definitions\n",
    "* Per definition, the platform type should be non-numerical\n",
    "* Per definition, All Days should be non-numerical\n",
    "    * Weekday\n",
    "    * Day of Month"
   ]
  },
  {
   "cell_type": "markdown",
   "metadata": {},
   "source": [
    "### 1.4.2 Change Variable Types"
   ]
  },
  {
   "cell_type": "code",
   "execution_count": 11,
   "metadata": {},
   "outputs": [],
   "source": [
    "# create copy of dataframes to change variable types\n",
    "merged_train_rider_dtype = merged_train_rider.copy()\n",
    "merged_test_rider_dtype = merged_test_rider.copy()"
   ]
  },
  {
   "cell_type": "code",
   "execution_count": 12,
   "metadata": {},
   "outputs": [],
   "source": [
    "# list of variables to make non-numeric\n",
    "non_num_list_train = ['Placement - Day of Month', 'Placement - Weekday (Mo = 1)',\n",
    "                'Confirmation - Day of Month', 'Confirmation - Weekday (Mo = 1)',\n",
    "                'Arrival at Pickup - Day of Month','Arrival at Pickup - Weekday (Mo = 1)',\n",
    "                'Pickup - Day of Month', 'Pickup - Weekday (Mo = 1)',\n",
    "                'Arrival at Destination - Day of Month',\n",
    "                'Arrival at Destination - Weekday (Mo = 1)', 'Platform Type']\n",
    "\n",
    "non_num_list_test = ['Placement - Day of Month', 'Placement - Weekday (Mo = 1)',\n",
    "                'Confirmation - Day of Month', 'Confirmation - Weekday (Mo = 1)',\n",
    "                'Arrival at Pickup - Weekday (Mo = 1)',\n",
    "                'Pickup - Weekday (Mo = 1)', 'Platform Type']"
   ]
  },
  {
   "cell_type": "code",
   "execution_count": 13,
   "metadata": {},
   "outputs": [],
   "source": [
    "for col in non_num_list_train:\n",
    "    merged_train_rider_dtype[col] = merged_train_rider_dtype[col].astype('object')"
   ]
  },
  {
   "cell_type": "code",
   "execution_count": 14,
   "metadata": {},
   "outputs": [],
   "source": [
    "for col in non_num_list_test:\n",
    "    merged_test_rider_dtype[col] = merged_test_rider_dtype[col].astype('object')"
   ]
  },
  {
   "cell_type": "code",
   "execution_count": 15,
   "metadata": {},
   "outputs": [
    {
     "data": {
      "text/html": [
       "<div>\n",
       "<style scoped>\n",
       "    .dataframe tbody tr th:only-of-type {\n",
       "        vertical-align: middle;\n",
       "    }\n",
       "\n",
       "    .dataframe tbody tr th {\n",
       "        vertical-align: top;\n",
       "    }\n",
       "\n",
       "    .dataframe thead th {\n",
       "        text-align: right;\n",
       "    }\n",
       "</style>\n",
       "<table border=\"1\" class=\"dataframe\">\n",
       "  <thead>\n",
       "    <tr style=\"text-align: right;\">\n",
       "      <th></th>\n",
       "      <th>Variable</th>\n",
       "      <th>Definition</th>\n",
       "      <th>Dtype</th>\n",
       "    </tr>\n",
       "  </thead>\n",
       "  <tbody>\n",
       "    <tr>\n",
       "      <td>0</td>\n",
       "      <td>Order No</td>\n",
       "      <td>Unique number identifying the order</td>\n",
       "      <td>object</td>\n",
       "    </tr>\n",
       "    <tr>\n",
       "      <td>1</td>\n",
       "      <td>User Id</td>\n",
       "      <td>Unique number identifying the customer on a pl...</td>\n",
       "      <td>object</td>\n",
       "    </tr>\n",
       "    <tr>\n",
       "      <td>2</td>\n",
       "      <td>Vehicle Type</td>\n",
       "      <td>For this competition limited to bikes, however...</td>\n",
       "      <td>object</td>\n",
       "    </tr>\n",
       "    <tr>\n",
       "      <td>3</td>\n",
       "      <td>Platform Type</td>\n",
       "      <td>Platform used to place the order, there are 4 ...</td>\n",
       "      <td>object</td>\n",
       "    </tr>\n",
       "    <tr>\n",
       "      <td>4</td>\n",
       "      <td>Personal or Business</td>\n",
       "      <td>Customer type</td>\n",
       "      <td>object</td>\n",
       "    </tr>\n",
       "  </tbody>\n",
       "</table>\n",
       "</div>"
      ],
      "text/plain": [
       "               Variable                                         Definition  \\\n",
       "0              Order No                Unique number identifying the order   \n",
       "1               User Id  Unique number identifying the customer on a pl...   \n",
       "2          Vehicle Type  For this competition limited to bikes, however...   \n",
       "3         Platform Type  Platform used to place the order, there are 4 ...   \n",
       "4  Personal or Business                                      Customer type   \n",
       "\n",
       "    Dtype  \n",
       "0  object  \n",
       "1  object  \n",
       "2  object  \n",
       "3  object  \n",
       "4  object  "
      ]
     },
     "execution_count": 15,
     "metadata": {},
     "output_type": "execute_result"
    }
   ],
   "source": [
    "merged_train_rider_cols2 = pd.DataFrame(merged_train_rider_dtype.dtypes, columns=['Dtype'])\n",
    "merged_train_rider_cols2.index = merged_train_rider_cols2.index.rename(name='Variable')\n",
    "Variables_Table2 = pd.merge(variable_definitions_df, merged_train_rider_cols2, on='Variable')\n",
    "Variables_Table2.head()"
   ]
  },
  {
   "cell_type": "code",
   "execution_count": 16,
   "metadata": {},
   "outputs": [
    {
     "name": "stdout",
     "output_type": "stream",
     "text": [
      "Number of variables: 34\n",
      " ======================================= \n",
      "\n",
      "Order No\n",
      "data type:object\n",
      "Def:Unique number identifying the order\n",
      "\n",
      "User Id\n",
      "data type:object\n",
      "Def:Unique number identifying the customer on a platform\n",
      "\n",
      "Vehicle Type\n",
      "data type:object\n",
      "Def:For this competition limited to bikes, however in practice Sendy service extends to trucks and vans\n",
      "\n",
      "Platform Type\n",
      "data type:object\n",
      "Def:Platform used to place the order, there are 4 types\n",
      "\n",
      "Personal or Business\n",
      "data type:object\n",
      "Def:Customer type\n",
      "\n",
      "Placement - Day of Month\n",
      "data type:object\n",
      "Def:Placement - Day of Month i.e 1-31\n",
      "\n",
      "Placement - Weekday (Mo = 1)\n",
      "data type:object\n",
      "Def:Placement - Weekday (Monday = 1)\n",
      "\n",
      "Placement - Time\n",
      "data type:object\n",
      "Def:Placement - Time - Time of day the order was placed\n",
      "\n",
      "Confirmation - Day of Month\n",
      "data type:object\n",
      "Def:Confirmation - Day of Month i.e 1-31\n",
      "\n",
      "Confirmation - Weekday (Mo = 1)\n",
      "data type:object\n",
      "Def:Confirmation - Weekday (Monday = 1)\n",
      "\n",
      "Confirmation - Time\n",
      "data type:object\n",
      "Def:Confirmation - Time - Time of day the order was confirmed by a rider\n",
      "\n",
      "Arrival at Pickup - Day of Month\n",
      "data type:object\n",
      "Def:Arrival at Pickup - Day of Month i.e 1-31\n",
      "\n",
      "Arrival at Pickup - Weekday (Mo = 1)\n",
      "data type:object\n",
      "Def:Arrival at Pickup - Weekday (Monday = 1)\n",
      "\n",
      "Arrival at Pickup - Time\n",
      "data type:object\n",
      "Def:Time of day the the rider arrived at the location to pick up the order - as marked by the rider through the Sendy application\n",
      "\n",
      "Pickup - Day of Month\n",
      "data type:object\n",
      "Def:Pickup - Day of Month i.e 1-31\n",
      "\n",
      "Pickup - Weekday (Mo = 1)\n",
      "data type:object\n",
      "Def:Pickup - Weekday (Monday = 1)\n",
      "\n",
      "Pickup - Time\n",
      "data type:object\n",
      "Def:Pickup - Time - Time of day the the rider picked up the order - as marked by the rider through the Sendy application\n",
      "\n",
      "Arrival at Destination - Day of Month\n",
      "data type:object\n",
      "Def:Arrival at Delivery - Day of Month i.e 1-31\n",
      "\n",
      "Arrival at Destination - Weekday (Mo = 1)\n",
      "data type:object\n",
      "Def:Arrival at Delivery - Weekday (Monday = 1)\n",
      "\n",
      "Arrival at Destination - Time\n",
      "data type:object\n",
      "Def:Arrival at Delivery Time - Time of day the rider arrived at the destination to deliver the order - as marked by the rider through the Sendy application\n",
      "\n",
      "Distance (KM)\n",
      "data type:int64\n",
      "Def:The distance from Pickup to Destination\n",
      "\n",
      "Temperature\n",
      "data type:float64\n",
      "Def:Temperature at the time of order placement in Degrees Celsius (measured every three hours)\n",
      "\n",
      "Precipitation in millimeters\n",
      "data type:float64\n",
      "Def: Precipitation at the time of order placement (measured every three hours)\n",
      "\n",
      "Pickup Lat\n",
      "data type:float64\n",
      "Def:Latitude of pick up location\n",
      "\n",
      "Pickup Long\n",
      "data type:float64\n",
      "Def:Longitude of pick up location\n",
      "\n",
      "Destination Lat\n",
      "data type:float64\n",
      "Def:Latitude of delivery location\n",
      "\n",
      "Destination Long\n",
      "data type:float64\n",
      "Def:Longitude of delivery location\n",
      "\n",
      "Rider Id\n",
      "data type:object\n",
      "Def: ID of the Rider who accepted the order\n",
      "\n",
      "Rider Id\n",
      "data type:object\n",
      "Def:Unique number identifying the rider (same as in order details)\n",
      "\n",
      "Time from Pickup to Arrival\n",
      "data type:int64\n",
      "Def:Time in seconds between 'Pickup' and 'Arrival at Destination' - calculated from the columns for the purpose of facilitating the task\n",
      "\n",
      "No_Of_Orders\n",
      "data type:int64\n",
      "Def: Number of Orders the rider has delivered\n",
      "\n",
      "Age\n",
      "data type:int64\n",
      "Def:Number of days since the rider delivered the first order\n",
      "\n",
      "Average_Rating\n",
      "data type:float64\n",
      "Def:Average rating of the rider\n",
      "\n",
      "No_of_Ratings\n",
      "data type:int64\n",
      "Def: Number of ratings the rider has received. Rating an order is optional for the customer.\n",
      "\n"
     ]
    }
   ],
   "source": [
    "# Get variable datatypes\n",
    "print(f'Number of variables: {len(Variables_Table2)}\\n',\n",
    "     '======================================= \\n')\n",
    "for var, definition, datatype in Variables_Table2.values:\n",
    "    print(f'{var}\\ndata type:{datatype}\\nDef:{definition}\\n')"
   ]
  },
  {
   "cell_type": "markdown",
   "metadata": {},
   "source": [
    "### 1.4.3 Assess Missing Data"
   ]
  },
  {
   "cell_type": "code",
   "execution_count": 17,
   "metadata": {},
   "outputs": [],
   "source": [
    "# define function to calculate missing values\n",
    "def missing_values_table(df):\n",
    "    \"\"\"\n",
    "    This function takes a dataframe as input and returns a dataframe\n",
    "    of the number and percentage of missing values as and output.\n",
    "    \"\"\"\n",
    "    mis_val = df.isnull().sum()\n",
    "\n",
    "    mis_val_percent = 100 * df.isnull().sum() / len(df)\n",
    "\n",
    "    mis_val_table = pd.concat([mis_val, mis_val_percent], axis=1)\n",
    "\n",
    "    mis_val_table_ren_columns = mis_val_table.rename(\n",
    "    columns = {0 : 'Missing Values', 1 : '% of Total Values'})\n",
    "\n",
    "    mis_val_table_ren_columns = mis_val_table_ren_columns[\n",
    "        mis_val_table_ren_columns.iloc[:,1] != 0].sort_values(\n",
    "    '% of Total Values', ascending=False).round(1)\n",
    "\n",
    "    print (\"Your selected dataframe has \" + str(df.shape[1]) + \" columns.\\n\"      \n",
    "        \"There are \" + str(mis_val_table_ren_columns.shape[0]) +\n",
    "          \" columns that have missing values.\")\n",
    "\n",
    "    # Return the dataframe with missing information\n",
    "    return mis_val_table_ren_columns"
   ]
  },
  {
   "cell_type": "code",
   "execution_count": 18,
   "metadata": {},
   "outputs": [
    {
     "name": "stdout",
     "output_type": "stream",
     "text": [
      "<class 'pandas.core.frame.DataFrame'>\n",
      "Int64Index: 21201 entries, 0 to 21200\n",
      "Data columns (total 33 columns):\n",
      "Order No                                     21201 non-null object\n",
      "User Id                                      21201 non-null object\n",
      "Vehicle Type                                 21201 non-null object\n",
      "Platform Type                                21201 non-null object\n",
      "Personal or Business                         21201 non-null object\n",
      "Placement - Day of Month                     21201 non-null object\n",
      "Placement - Weekday (Mo = 1)                 21201 non-null object\n",
      "Placement - Time                             21201 non-null object\n",
      "Confirmation - Day of Month                  21201 non-null object\n",
      "Confirmation - Weekday (Mo = 1)              21201 non-null object\n",
      "Confirmation - Time                          21201 non-null object\n",
      "Arrival at Pickup - Day of Month             21201 non-null object\n",
      "Arrival at Pickup - Weekday (Mo = 1)         21201 non-null object\n",
      "Arrival at Pickup - Time                     21201 non-null object\n",
      "Pickup - Day of Month                        21201 non-null object\n",
      "Pickup - Weekday (Mo = 1)                    21201 non-null object\n",
      "Pickup - Time                                21201 non-null object\n",
      "Arrival at Destination - Day of Month        21201 non-null object\n",
      "Arrival at Destination - Weekday (Mo = 1)    21201 non-null object\n",
      "Arrival at Destination - Time                21201 non-null object\n",
      "Distance (KM)                                21201 non-null int64\n",
      "Temperature                                  16835 non-null float64\n",
      "Precipitation in millimeters                 552 non-null float64\n",
      "Pickup Lat                                   21201 non-null float64\n",
      "Pickup Long                                  21201 non-null float64\n",
      "Destination Lat                              21201 non-null float64\n",
      "Destination Long                             21201 non-null float64\n",
      "Rider Id                                     21201 non-null object\n",
      "Time from Pickup to Arrival                  21201 non-null int64\n",
      "No_Of_Orders                                 21201 non-null int64\n",
      "Age                                          21201 non-null int64\n",
      "Average_Rating                               21201 non-null float64\n",
      "No_of_Ratings                                21201 non-null int64\n",
      "dtypes: float64(7), int64(5), object(21)\n",
      "memory usage: 5.5+ MB\n"
     ]
    }
   ],
   "source": [
    "# Assess Train dataset dimensions, variables and datatypes\n",
    "merged_train_rider_dtype.info()"
   ]
  },
  {
   "cell_type": "code",
   "execution_count": 19,
   "metadata": {},
   "outputs": [
    {
     "name": "stdout",
     "output_type": "stream",
     "text": [
      "Your selected dataframe has 33 columns.\n",
      "There are 2 columns that have missing values.\n"
     ]
    },
    {
     "data": {
      "text/html": [
       "<div>\n",
       "<style scoped>\n",
       "    .dataframe tbody tr th:only-of-type {\n",
       "        vertical-align: middle;\n",
       "    }\n",
       "\n",
       "    .dataframe tbody tr th {\n",
       "        vertical-align: top;\n",
       "    }\n",
       "\n",
       "    .dataframe thead th {\n",
       "        text-align: right;\n",
       "    }\n",
       "</style>\n",
       "<table border=\"1\" class=\"dataframe\">\n",
       "  <thead>\n",
       "    <tr style=\"text-align: right;\">\n",
       "      <th></th>\n",
       "      <th>Missing Values</th>\n",
       "      <th>% of Total Values</th>\n",
       "    </tr>\n",
       "  </thead>\n",
       "  <tbody>\n",
       "    <tr>\n",
       "      <td>Precipitation in millimeters</td>\n",
       "      <td>20649</td>\n",
       "      <td>97.4</td>\n",
       "    </tr>\n",
       "    <tr>\n",
       "      <td>Temperature</td>\n",
       "      <td>4366</td>\n",
       "      <td>20.6</td>\n",
       "    </tr>\n",
       "  </tbody>\n",
       "</table>\n",
       "</div>"
      ],
      "text/plain": [
       "                              Missing Values  % of Total Values\n",
       "Precipitation in millimeters           20649               97.4\n",
       "Temperature                             4366               20.6"
      ]
     },
     "execution_count": 19,
     "metadata": {},
     "output_type": "execute_result"
    }
   ],
   "source": [
    "# Assess Train dataset missing values\n",
    "missing_values_table(merged_train_rider_dtype)"
   ]
  },
  {
   "cell_type": "code",
   "execution_count": 20,
   "metadata": {},
   "outputs": [
    {
     "name": "stdout",
     "output_type": "stream",
     "text": [
      "<class 'pandas.core.frame.DataFrame'>\n",
      "Int64Index: 7068 entries, 0 to 7067\n",
      "Data columns (total 29 columns):\n",
      "Order No                                7068 non-null object\n",
      "User Id                                 7068 non-null object\n",
      "Vehicle Type                            7068 non-null object\n",
      "Platform Type                           7068 non-null object\n",
      "Personal or Business                    7068 non-null object\n",
      "Placement - Day of Month                7068 non-null object\n",
      "Placement - Weekday (Mo = 1)            7068 non-null object\n",
      "Placement - Time                        7068 non-null object\n",
      "Confirmation - Day of Month             7068 non-null object\n",
      "Confirmation - Weekday (Mo = 1)         7068 non-null object\n",
      "Confirmation - Time                     7068 non-null object\n",
      "Arrival at Pickup - Day of Month        7068 non-null int64\n",
      "Arrival at Pickup - Weekday (Mo = 1)    7068 non-null object\n",
      "Arrival at Pickup - Time                7068 non-null object\n",
      "Pickup - Day of Month                   7068 non-null int64\n",
      "Pickup - Weekday (Mo = 1)               7068 non-null object\n",
      "Pickup - Time                           7068 non-null object\n",
      "Distance (KM)                           7068 non-null int64\n",
      "Temperature                             5631 non-null float64\n",
      "Precipitation in millimeters            199 non-null float64\n",
      "Pickup Lat                              7068 non-null float64\n",
      "Pickup Long                             7068 non-null float64\n",
      "Destination Lat                         7068 non-null float64\n",
      "Destination Long                        7068 non-null float64\n",
      "Rider Id                                7068 non-null object\n",
      "No_Of_Orders                            7068 non-null int64\n",
      "Age                                     7068 non-null int64\n",
      "Average_Rating                          7068 non-null float64\n",
      "No_of_Ratings                           7068 non-null int64\n",
      "dtypes: float64(7), int64(6), object(16)\n",
      "memory usage: 1.6+ MB\n"
     ]
    }
   ],
   "source": [
    "# Assess Test dataset dimensions, variables and datatypes\n",
    "merged_test_rider_dtype.info()"
   ]
  },
  {
   "cell_type": "code",
   "execution_count": 21,
   "metadata": {},
   "outputs": [
    {
     "name": "stdout",
     "output_type": "stream",
     "text": [
      "Your selected dataframe has 29 columns.\n",
      "There are 2 columns that have missing values.\n"
     ]
    },
    {
     "data": {
      "text/html": [
       "<div>\n",
       "<style scoped>\n",
       "    .dataframe tbody tr th:only-of-type {\n",
       "        vertical-align: middle;\n",
       "    }\n",
       "\n",
       "    .dataframe tbody tr th {\n",
       "        vertical-align: top;\n",
       "    }\n",
       "\n",
       "    .dataframe thead th {\n",
       "        text-align: right;\n",
       "    }\n",
       "</style>\n",
       "<table border=\"1\" class=\"dataframe\">\n",
       "  <thead>\n",
       "    <tr style=\"text-align: right;\">\n",
       "      <th></th>\n",
       "      <th>Missing Values</th>\n",
       "      <th>% of Total Values</th>\n",
       "    </tr>\n",
       "  </thead>\n",
       "  <tbody>\n",
       "    <tr>\n",
       "      <td>Precipitation in millimeters</td>\n",
       "      <td>6869</td>\n",
       "      <td>97.2</td>\n",
       "    </tr>\n",
       "    <tr>\n",
       "      <td>Temperature</td>\n",
       "      <td>1437</td>\n",
       "      <td>20.3</td>\n",
       "    </tr>\n",
       "  </tbody>\n",
       "</table>\n",
       "</div>"
      ],
      "text/plain": [
       "                              Missing Values  % of Total Values\n",
       "Precipitation in millimeters            6869               97.2\n",
       "Temperature                             1437               20.3"
      ]
     },
     "execution_count": 21,
     "metadata": {},
     "output_type": "execute_result"
    }
   ],
   "source": [
    "# Assess Test dataset missing values\n",
    "missing_values_table(merged_test_rider_dtype)"
   ]
  },
  {
   "cell_type": "markdown",
   "metadata": {},
   "source": [
    "### 1.4.4 EDA"
   ]
  },
  {
   "cell_type": "code",
   "execution_count": 22,
   "metadata": {},
   "outputs": [
    {
     "name": "stdout",
     "output_type": "stream",
     "text": [
      "Numeric features: 12 features\n",
      "Index(['Distance (KM)', 'Temperature', 'Precipitation in millimeters',\n",
      "       'Pickup Lat', 'Pickup Long', 'Destination Lat', 'Destination Long',\n",
      "       'Time from Pickup to Arrival', 'No_Of_Orders', 'Age', 'Average_Rating',\n",
      "       'No_of_Ratings'],\n",
      "      dtype='object')\n",
      "Non-numeric features: 21 features\n",
      "Index(['Order No', 'User Id', 'Vehicle Type', 'Platform Type',\n",
      "       'Personal or Business', 'Placement - Day of Month',\n",
      "       'Placement - Weekday (Mo = 1)', 'Placement - Time',\n",
      "       'Confirmation - Day of Month', 'Confirmation - Weekday (Mo = 1)',\n",
      "       'Confirmation - Time', 'Arrival at Pickup - Day of Month',\n",
      "       'Arrival at Pickup - Weekday (Mo = 1)', 'Arrival at Pickup - Time',\n",
      "       'Pickup - Day of Month', 'Pickup - Weekday (Mo = 1)', 'Pickup - Time',\n",
      "       'Arrival at Destination - Day of Month',\n",
      "       'Arrival at Destination - Weekday (Mo = 1)',\n",
      "       'Arrival at Destination - Time', 'Rider Id'],\n",
      "      dtype='object')\n"
     ]
    }
   ],
   "source": [
    "# list of numeric data types\n",
    "numerics = ['int16', 'int32', 'int64', 'float16', 'float32', 'float64']\n",
    "numeric_features = merged_train_rider_dtype.select_dtypes(include=numerics).columns\n",
    "print(f'Numeric features: {len(numeric_features)} features\\n{numeric_features}')\n",
    "\n",
    "# list of columns for non-numeric features\n",
    "non_numeric_features = merged_train_rider_dtype.select_dtypes(include='object').columns\n",
    "print(f'Non-numeric features: {len(non_numeric_features)} features\\n{non_numeric_features}')"
   ]
  },
  {
   "cell_type": "code",
   "execution_count": 23,
   "metadata": {},
   "outputs": [
    {
     "name": "stdout",
     "output_type": "stream",
     "text": [
      "count    21201.000000\n",
      "mean      1556.920947\n",
      "std        987.270788\n",
      "min          1.000000\n",
      "25%        882.000000\n",
      "50%       1369.000000\n",
      "75%       2040.000000\n",
      "max       7883.000000\n",
      "Name: Time from Pickup to Arrival, dtype: float64\n",
      "Skewness: 1.201938\n",
      "Kurtosis: 2.236352\n"
     ]
    },
    {
     "data": {
      "image/png": "[encoded data removed]",
      "text/plain": [
       "<Figure size 648x576 with 1 Axes>"
      ]
     },
     "metadata": {
      "needs_background": "light"
     },
     "output_type": "display_data"
    }
   ],
   "source": [
    "# Assess response variable\n",
    "print(merged_train_rider_dtype['Time from Pickup to Arrival'].describe())\n",
    "plt.figure(figsize=(9, 8))\n",
    "sns.distplot(merged_train_rider_dtype['Time from Pickup to Arrival'], color='g', bins=100, hist_kws={'alpha': 0.4});\n",
    "#skewness and kurtosis\n",
    "print(\"Skewness: %f\" % merged_train_rider_dtype['Time from Pickup to Arrival'].skew())\n",
    "print(\"Kurtosis: %f\" % merged_train_rider_dtype['Time from Pickup to Arrival'].kurt())"
   ]
  },
  {
   "cell_type": "markdown",
   "metadata": {},
   "source": [
    "#### Obervations\n",
    "* Exponential distribution\n",
    "* Large Number of 0 second Time from pickup to arrival"
   ]
  },
  {
   "cell_type": "code",
   "execution_count": 24,
   "metadata": {},
   "outputs": [
    {
     "data": {
      "image/png": "[encoded data removed]",
      "text/plain": [
       "<Figure size 1152x1440 with 12 Axes>"
      ]
     },
     "metadata": {
      "needs_background": "light"
     },
     "output_type": "display_data"
    }
   ],
   "source": [
    "# Assess numercal predictor variables\n",
    "merged_train_rider_dtype.drop(['Time from Pickup to Arrival'], axis=1).hist(\n",
    "    figsize=(16, 20),bins=30)\n",
    "plt.tight_layout()\n",
    "plt.show()"
   ]
  },
  {
   "cell_type": "code",
   "execution_count": 25,
   "metadata": {},
   "outputs": [],
   "source": [
    "# Create correlation matrix\n",
    "corr = merged_train_rider_dtype.drop('Time from Pickup to Arrival', axis=1).corr()"
   ]
  },
  {
   "cell_type": "code",
   "execution_count": 26,
   "metadata": {},
   "outputs": [],
   "source": [
    "# import function to plot correlation matrix\n",
    "from statsmodels.graphics.correlation import plot_corr"
   ]
  },
  {
   "cell_type": "code",
   "execution_count": 27,
   "metadata": {},
   "outputs": [
    {
     "data": {
      "text/plain": [
       "<Figure size 720x504 with 0 Axes>"
      ]
     },
     "metadata": {},
     "output_type": "display_data"
    },
    {
     "data": {
      "image/png": "[encoded data removed]",
      "text/plain": [
       "<Figure size 432x288 with 2 Axes>"
      ]
     },
     "metadata": {
      "needs_background": "light"
     },
     "output_type": "display_data"
    }
   ],
   "source": [
    "plt.figure(figsize=(10,7))\n",
    "fig=plot_corr(corr,xnames=corr.columns)\n",
    "plt.show()"
   ]
  },
  {
   "cell_type": "markdown",
   "metadata": {},
   "source": [
    "#### Observations\n",
    "highly correlated variables:\n",
    "* Number of orders\n",
    "* Age\n",
    "* No of Ratings\n"
   ]
  },
  {
   "cell_type": "code",
   "execution_count": 28,
   "metadata": {},
   "outputs": [
    {
     "name": "stdout",
     "output_type": "stream",
     "text": [
      "correlations with No_of_Ratings:\n",
      "Time from Pickup to Arrival     1.000000\n",
      "Distance (KM)                   0.580608\n",
      "Destination Long                0.070425\n",
      "Pickup Long                     0.060285\n",
      "Precipitation in millimeters    0.024756\n",
      "Temperature                     0.006465\n",
      "No_of_Ratings                   0.005609\n",
      "Age                            -0.007969\n",
      "No_Of_Orders                   -0.041608\n",
      "Average_Rating                 -0.042559\n",
      "Pickup Lat                     -0.053823\n",
      "Destination Lat                -0.061872\n",
      "Name: Time from Pickup to Arrival, dtype: float64\n"
     ]
    }
   ],
   "source": [
    "# Calculate correlations between predictor variables and the response variable\n",
    "corrs = merged_train_rider_dtype.corr()['Time from Pickup to Arrival'].sort_values(ascending=False)\n",
    "print(f'correlations with {merged_train_rider_dtype.columns[-1]}:\\n{corrs}')"
   ]
  },
  {
   "cell_type": "code",
   "execution_count": 29,
   "metadata": {},
   "outputs": [
    {
     "data": {
      "text/plain": [
       "Order_No_8448     0.000047\n",
       "Order_No_22734    0.000047\n",
       "Order_No_25055    0.000047\n",
       "Order_No_3663     0.000047\n",
       "Order_No_1129     0.000047\n",
       "                    ...   \n",
       "Order_No_10894    0.000047\n",
       "Order_No_28022    0.000047\n",
       "Order_No_961      0.000047\n",
       "Order_No_6805     0.000047\n",
       "Order_No_8968     0.000047\n",
       "Name: Order No, Length: 21201, dtype: float64"
      ]
     },
     "execution_count": 29,
     "metadata": {},
     "output_type": "execute_result"
    }
   ],
   "source": [
    "# 1\n",
    "plot_var = 'Order No'\n",
    "merged_train_rider_dtype[plot_var].value_counts(normalize=True)"
   ]
  },
  {
   "cell_type": "code",
   "execution_count": 30,
   "metadata": {},
   "outputs": [
    {
     "data": {
      "text/plain": [
       "User_Id_393     0.030423\n",
       "User_Id_2330    0.015188\n",
       "User_Id_3647    0.014716\n",
       "User_Id_1500    0.014197\n",
       "User_Id_635     0.013679\n",
       "                  ...   \n",
       "User_Id_3708    0.000047\n",
       "User_Id_233     0.000047\n",
       "User_Id_3415    0.000047\n",
       "User_Id_3722    0.000047\n",
       "User_Id_1590    0.000047\n",
       "Name: User Id, Length: 3186, dtype: float64"
      ]
     },
     "execution_count": 30,
     "metadata": {},
     "output_type": "execute_result"
    }
   ],
   "source": [
    "#2\n",
    "plot_var = 'User Id'\n",
    "merged_train_rider_dtype[plot_var].value_counts(normalize=True)"
   ]
  },
  {
   "cell_type": "code",
   "execution_count": 31,
   "metadata": {},
   "outputs": [
    {
     "data": {
      "image/png": "[encoded data removed]",
      "text/plain": [
       "<Figure size 432x288 with 1 Axes>"
      ]
     },
     "metadata": {
      "needs_background": "light"
     },
     "output_type": "display_data"
    },
    {
     "data": {
      "text/plain": [
       "Bike    1.0\n",
       "Name: Vehicle Type, dtype: float64"
      ]
     },
     "execution_count": 31,
     "metadata": {},
     "output_type": "execute_result"
    }
   ],
   "source": [
    "#3\n",
    "plot_var = 'Vehicle Type'\n",
    "plt.hist(merged_train_rider_dtype[plot_var])\n",
    "plt.xlabel(plot_var)\n",
    "plt.ylabel('Number of deliveries')\n",
    "plt.show()\n",
    "merged_train_rider_dtype[plot_var].value_counts(normalize=True)"
   ]
  },
  {
   "cell_type": "code",
   "execution_count": 32,
   "metadata": {},
   "outputs": [
    {
     "data": {
      "image/png": "[encoded data removed]",
      "text/plain": [
       "<Figure size 432x288 with 1 Axes>"
      ]
     },
     "metadata": {
      "needs_background": "light"
     },
     "output_type": "display_data"
    },
    {
     "data": {
      "text/plain": [
       "3    0.851564\n",
       "1    0.101269\n",
       "2    0.046224\n",
       "4    0.000943\n",
       "Name: Platform Type, dtype: float64"
      ]
     },
     "execution_count": 32,
     "metadata": {},
     "output_type": "execute_result"
    }
   ],
   "source": [
    "# 4\n",
    "plot_var = 'Platform Type'\n",
    "plt.hist(merged_train_rider_dtype[plot_var])\n",
    "plt.xlabel(plot_var)\n",
    "plt.ylabel('Number of deliveries')\n",
    "plt.show()\n",
    "merged_train_rider_dtype[plot_var].value_counts(normalize=True)"
   ]
  },
  {
   "cell_type": "code",
   "execution_count": 33,
   "metadata": {},
   "outputs": [
    {
     "data": {
      "image/png": "[encoded data removed]",
      "text/plain": [
       "<Figure size 432x288 with 1 Axes>"
      ]
     },
     "metadata": {
      "needs_background": "light"
     },
     "output_type": "display_data"
    },
    {
     "data": {
      "text/plain": [
       "Business    0.819961\n",
       "Personal    0.180039\n",
       "Name: Personal or Business, dtype: float64"
      ]
     },
     "execution_count": 33,
     "metadata": {},
     "output_type": "execute_result"
    }
   ],
   "source": [
    "# 5\n",
    "plot_var = 'Personal or Business'\n",
    "plt.hist(merged_train_rider_dtype[plot_var])\n",
    "plt.xlabel(plot_var)\n",
    "plt.ylabel('Number of deliveries')\n",
    "plt.show()\n",
    "merged_train_rider_dtype[plot_var].value_counts(normalize=True)"
   ]
  },
  {
   "cell_type": "code",
   "execution_count": 34,
   "metadata": {},
   "outputs": [
    {
     "data": {
      "image/png": "[encoded data removed]",
      "text/plain": [
       "<Figure size 432x288 with 1 Axes>"
      ]
     },
     "metadata": {
      "needs_background": "light"
     },
     "output_type": "display_data"
    },
    {
     "data": {
      "text/plain": [
       "8     0.039998\n",
       "7     0.038772\n",
       "13    0.038253\n",
       "14    0.037923\n",
       "6     0.037451\n",
       "28    0.036979\n",
       "18    0.036272\n",
       "4     0.036272\n",
       "15    0.035942\n",
       "11    0.035470\n",
       "5     0.035234\n",
       "3     0.033866\n",
       "30    0.033678\n",
       "10    0.033442\n",
       "25    0.032593\n",
       "29    0.032310\n",
       "27    0.031602\n",
       "9     0.031461\n",
       "12    0.031414\n",
       "22    0.030659\n",
       "21    0.030612\n",
       "20    0.030329\n",
       "26    0.030140\n",
       "2     0.028395\n",
       "17    0.027970\n",
       "24    0.027876\n",
       "19    0.027782\n",
       "16    0.026650\n",
       "23    0.026555\n",
       "1     0.022735\n",
       "31    0.021367\n",
       "Name: Placement - Day of Month, dtype: float64"
      ]
     },
     "execution_count": 34,
     "metadata": {},
     "output_type": "execute_result"
    }
   ],
   "source": [
    "# 6\n",
    "plot_var = 'Placement - Day of Month'\n",
    "plt.hist(merged_train_rider_dtype[plot_var], bins=30)\n",
    "plt.xlabel(plot_var)\n",
    "plt.ylabel('Number of deliveries')\n",
    "plt.show()\n",
    "merged_train_rider_dtype[plot_var].value_counts(normalize=True)"
   ]
  },
  {
   "cell_type": "code",
   "execution_count": 35,
   "metadata": {},
   "outputs": [
    {
     "data": {
      "image/png": "[encoded data removed]",
      "text/plain": [
       "<Figure size 432x288 with 1 Axes>"
      ]
     },
     "metadata": {
      "needs_background": "light"
     },
     "output_type": "display_data"
    },
    {
     "data": {
      "text/plain": [
       "4    0.199425\n",
       "5    0.188340\n",
       "2    0.186736\n",
       "3    0.180322\n",
       "1    0.178718\n",
       "6    0.057686\n",
       "7    0.008773\n",
       "Name: Placement - Weekday (Mo = 1), dtype: float64"
      ]
     },
     "execution_count": 35,
     "metadata": {},
     "output_type": "execute_result"
    }
   ],
   "source": [
    "# 7\n",
    "plot_var = 'Placement - Weekday (Mo = 1)'\n",
    "plt.hist(merged_train_rider_dtype[plot_var])\n",
    "plt.xlabel(plot_var)\n",
    "plt.ylabel('Number of deliveries')\n",
    "plt.show()\n",
    "merged_train_rider_dtype[plot_var].value_counts(normalize=True)"
   ]
  },
  {
   "cell_type": "code",
   "execution_count": 36,
   "metadata": {},
   "outputs": [
    {
     "data": {
      "text/plain": [
       "12:51:03 PM    0.000283\n",
       "9:41:03 AM     0.000283\n",
       "10:31:43 AM    0.000283\n",
       "2:06:19 PM     0.000283\n",
       "2:57:22 PM     0.000283\n",
       "                 ...   \n",
       "12:38:47 PM    0.000047\n",
       "4:00:56 PM     0.000047\n",
       "12:34:01 PM    0.000047\n",
       "3:49:32 PM     0.000047\n",
       "9:25:31 AM     0.000047\n",
       "Name: Placement - Time, Length: 15686, dtype: float64"
      ]
     },
     "execution_count": 36,
     "metadata": {},
     "output_type": "execute_result"
    }
   ],
   "source": [
    "# 8\n",
    "plot_var = 'Placement - Time'\n",
    "merged_train_rider_dtype[plot_var].value_counts(normalize=True)"
   ]
  },
  {
   "cell_type": "code",
   "execution_count": 37,
   "metadata": {},
   "outputs": [
    {
     "data": {
      "image/png": "[encoded data removed]",
      "text/plain": [
       "<Figure size 432x288 with 1 Axes>"
      ]
     },
     "metadata": {
      "needs_background": "light"
     },
     "output_type": "display_data"
    },
    {
     "data": {
      "text/plain": [
       "8     0.039998\n",
       "7     0.038772\n",
       "13    0.038300\n",
       "14    0.037923\n",
       "6     0.037451\n",
       "28    0.036979\n",
       "18    0.036319\n",
       "4     0.036272\n",
       "15    0.035942\n",
       "11    0.035423\n",
       "5     0.035234\n",
       "3     0.033866\n",
       "30    0.033678\n",
       "10    0.033442\n",
       "25    0.032593\n",
       "29    0.032310\n",
       "27    0.031602\n",
       "9     0.031461\n",
       "12    0.031414\n",
       "22    0.030659\n",
       "21    0.030612\n",
       "20    0.030329\n",
       "26    0.030140\n",
       "2     0.028395\n",
       "17    0.027923\n",
       "24    0.027876\n",
       "19    0.027782\n",
       "16    0.026650\n",
       "23    0.026555\n",
       "1     0.022735\n",
       "31    0.021367\n",
       "Name: Confirmation - Day of Month, dtype: float64"
      ]
     },
     "execution_count": 37,
     "metadata": {},
     "output_type": "execute_result"
    }
   ],
   "source": [
    "# 9\n",
    "plot_var = 'Confirmation - Day of Month'\n",
    "plt.hist(merged_train_rider_dtype[plot_var])\n",
    "plt.xlabel(plot_var)\n",
    "plt.ylabel('Number of deliveries')\n",
    "plt.show()\n",
    "merged_train_rider_dtype[plot_var].value_counts(normalize=True)"
   ]
  },
  {
   "cell_type": "code",
   "execution_count": 38,
   "metadata": {},
   "outputs": [
    {
     "data": {
      "image/png": "[encoded data removed]",
      "text/plain": [
       "<Figure size 432x288 with 1 Axes>"
      ]
     },
     "metadata": {
      "needs_background": "light"
     },
     "output_type": "display_data"
    },
    {
     "data": {
      "text/plain": [
       "4    0.199472\n",
       "5    0.188340\n",
       "2    0.186736\n",
       "3    0.180322\n",
       "1    0.178671\n",
       "6    0.057686\n",
       "7    0.008773\n",
       "Name: Confirmation - Weekday (Mo = 1), dtype: float64"
      ]
     },
     "execution_count": 38,
     "metadata": {},
     "output_type": "execute_result"
    }
   ],
   "source": [
    "# 10\n",
    "plot_var = 'Confirmation - Weekday (Mo = 1)'\n",
    "plt.hist(merged_train_rider_dtype[plot_var])\n",
    "plt.xlabel(plot_var)\n",
    "plt.ylabel('Number of deliveries')\n",
    "plt.show()\n",
    "merged_train_rider_dtype[plot_var].value_counts(normalize=True)"
   ]
  },
  {
   "cell_type": "code",
   "execution_count": 39,
   "metadata": {},
   "outputs": [
    {
     "data": {
      "text/plain": [
       "9:56:52 AM     0.000283\n",
       "11:14:38 AM    0.000236\n",
       "3:48:00 PM     0.000236\n",
       "2:28:37 PM     0.000236\n",
       "4:06:12 PM     0.000236\n",
       "                 ...   \n",
       "12:09:04 PM    0.000047\n",
       "10:28:05 AM    0.000047\n",
       "2:47:01 PM     0.000047\n",
       "3:46:48 PM     0.000047\n",
       "12:10:39 PM    0.000047\n",
       "Name: Confirmation - Time, Length: 15742, dtype: float64"
      ]
     },
     "execution_count": 39,
     "metadata": {},
     "output_type": "execute_result"
    }
   ],
   "source": [
    "# 11\n",
    "plot_var = 'Confirmation - Time'\n",
    "merged_train_rider_dtype[plot_var].value_counts(normalize=True)"
   ]
  },
  {
   "cell_type": "code",
   "execution_count": 40,
   "metadata": {},
   "outputs": [
    {
     "data": {
      "image/png": "[encoded data removed]",
      "text/plain": [
       "<Figure size 432x288 with 1 Axes>"
      ]
     },
     "metadata": {
      "needs_background": "light"
     },
     "output_type": "display_data"
    },
    {
     "data": {
      "text/plain": [
       "8     0.039998\n",
       "7     0.038772\n",
       "13    0.038300\n",
       "14    0.037923\n",
       "6     0.037451\n",
       "28    0.036979\n",
       "18    0.036319\n",
       "4     0.036272\n",
       "15    0.035942\n",
       "11    0.035423\n",
       "5     0.035234\n",
       "3     0.033866\n",
       "30    0.033678\n",
       "10    0.033442\n",
       "25    0.032593\n",
       "29    0.032310\n",
       "27    0.031602\n",
       "9     0.031461\n",
       "12    0.031414\n",
       "22    0.030659\n",
       "21    0.030612\n",
       "20    0.030329\n",
       "26    0.030140\n",
       "2     0.028395\n",
       "17    0.027923\n",
       "24    0.027876\n",
       "19    0.027782\n",
       "16    0.026650\n",
       "23    0.026555\n",
       "1     0.022735\n",
       "31    0.021367\n",
       "Name: Arrival at Pickup - Day of Month, dtype: float64"
      ]
     },
     "execution_count": 40,
     "metadata": {},
     "output_type": "execute_result"
    }
   ],
   "source": [
    "# 12\n",
    "plot_var = 'Arrival at Pickup - Day of Month'\n",
    "plt.hist(merged_train_rider_dtype[plot_var])\n",
    "plt.xlabel(plot_var)\n",
    "plt.ylabel('Number of deliveries')\n",
    "plt.show()\n",
    "merged_train_rider_dtype[plot_var].value_counts(normalize=True)"
   ]
  },
  {
   "cell_type": "code",
   "execution_count": 41,
   "metadata": {},
   "outputs": [
    {
     "data": {
      "image/png": "[encoded data removed]",
      "text/plain": [
       "<Figure size 432x288 with 1 Axes>"
      ]
     },
     "metadata": {
      "needs_background": "light"
     },
     "output_type": "display_data"
    },
    {
     "data": {
      "text/plain": [
       "4    0.199472\n",
       "5    0.188340\n",
       "2    0.186736\n",
       "3    0.180322\n",
       "1    0.178671\n",
       "6    0.057686\n",
       "7    0.008773\n",
       "Name: Arrival at Pickup - Weekday (Mo = 1), dtype: float64"
      ]
     },
     "execution_count": 41,
     "metadata": {},
     "output_type": "execute_result"
    }
   ],
   "source": [
    "# 13\n",
    "plot_var = 'Arrival at Pickup - Weekday (Mo = 1)'\n",
    "plt.hist(merged_train_rider_dtype[plot_var])\n",
    "plt.xlabel(plot_var)\n",
    "plt.ylabel('Number of deliveries')\n",
    "plt.show()\n",
    "merged_train_rider_dtype[plot_var].value_counts(normalize=True)"
   ]
  },
  {
   "cell_type": "code",
   "execution_count": 42,
   "metadata": {},
   "outputs": [
    {
     "data": {
      "text/plain": [
       "3:02:41 PM     0.000283\n",
       "1:02:53 PM     0.000283\n",
       "2:10:11 PM     0.000283\n",
       "2:32:04 PM     0.000283\n",
       "2:42:41 PM     0.000283\n",
       "                 ...   \n",
       "4:25:00 PM     0.000047\n",
       "10:42:48 AM    0.000047\n",
       "9:55:58 AM     0.000047\n",
       "7:09:47 PM     0.000047\n",
       "2:58:38 PM     0.000047\n",
       "Name: Arrival at Pickup - Time, Length: 15767, dtype: float64"
      ]
     },
     "execution_count": 42,
     "metadata": {},
     "output_type": "execute_result"
    }
   ],
   "source": [
    "# 14\n",
    "plot_var = 'Arrival at Pickup - Time'\n",
    "merged_train_rider_dtype[plot_var].value_counts(normalize=True)"
   ]
  },
  {
   "cell_type": "code",
   "execution_count": 43,
   "metadata": {},
   "outputs": [
    {
     "data": {
      "image/png": "[encoded data removed]",
      "text/plain": [
       "<Figure size 432x288 with 1 Axes>"
      ]
     },
     "metadata": {
      "needs_background": "light"
     },
     "output_type": "display_data"
    },
    {
     "data": {
      "text/plain": [
       "8     0.039998\n",
       "7     0.038772\n",
       "13    0.038300\n",
       "14    0.037923\n",
       "6     0.037451\n",
       "28    0.036979\n",
       "18    0.036319\n",
       "4     0.036272\n",
       "15    0.035942\n",
       "11    0.035423\n",
       "5     0.035234\n",
       "3     0.033866\n",
       "30    0.033678\n",
       "10    0.033442\n",
       "25    0.032593\n",
       "29    0.032310\n",
       "27    0.031602\n",
       "9     0.031461\n",
       "12    0.031414\n",
       "22    0.030659\n",
       "21    0.030612\n",
       "20    0.030329\n",
       "26    0.030140\n",
       "2     0.028395\n",
       "17    0.027923\n",
       "24    0.027876\n",
       "19    0.027782\n",
       "16    0.026650\n",
       "23    0.026555\n",
       "1     0.022735\n",
       "31    0.021367\n",
       "Name: Pickup - Day of Month, dtype: float64"
      ]
     },
     "execution_count": 43,
     "metadata": {},
     "output_type": "execute_result"
    }
   ],
   "source": [
    "# 15\n",
    "plot_var = 'Pickup - Day of Month'\n",
    "plt.hist(merged_train_rider_dtype[plot_var])\n",
    "plt.xlabel(plot_var)\n",
    "plt.ylabel('Number of deliveries')\n",
    "plt.show()\n",
    "merged_train_rider_dtype[plot_var].value_counts(normalize=True)"
   ]
  },
  {
   "cell_type": "code",
   "execution_count": 44,
   "metadata": {},
   "outputs": [
    {
     "data": {
      "image/png": "[encoded data removed]",
      "text/plain": [
       "<Figure size 432x288 with 1 Axes>"
      ]
     },
     "metadata": {
      "needs_background": "light"
     },
     "output_type": "display_data"
    },
    {
     "data": {
      "text/plain": [
       "4    0.199472\n",
       "5    0.188340\n",
       "2    0.186736\n",
       "3    0.180322\n",
       "1    0.178671\n",
       "6    0.057686\n",
       "7    0.008773\n",
       "Name: Pickup - Weekday (Mo = 1), dtype: float64"
      ]
     },
     "execution_count": 44,
     "metadata": {},
     "output_type": "execute_result"
    }
   ],
   "source": [
    "# 16\n",
    "plot_var = 'Pickup - Weekday (Mo = 1)'\n",
    "plt.hist(merged_train_rider_dtype[plot_var])\n",
    "plt.xlabel(plot_var)\n",
    "plt.ylabel('Number of deliveries')\n",
    "plt.show()\n",
    "merged_train_rider_dtype[plot_var].value_counts(normalize=True)"
   ]
  },
  {
   "cell_type": "code",
   "execution_count": 45,
   "metadata": {},
   "outputs": [
    {
     "data": {
      "text/plain": [
       "12:04:20 PM    0.000283\n",
       "11:19:28 AM    0.000283\n",
       "10:53:20 AM    0.000283\n",
       "2:28:10 PM     0.000283\n",
       "3:22:34 PM     0.000236\n",
       "                 ...   \n",
       "6:29:37 PM     0.000047\n",
       "3:22:17 PM     0.000047\n",
       "5:02:09 PM     0.000047\n",
       "4:24:46 PM     0.000047\n",
       "10:22:27 AM    0.000047\n",
       "Name: Pickup - Time, Length: 15690, dtype: float64"
      ]
     },
     "execution_count": 45,
     "metadata": {},
     "output_type": "execute_result"
    }
   ],
   "source": [
    "# 17\n",
    "plot_var = 'Pickup - Time'\n",
    "merged_train_rider_dtype[plot_var].value_counts(normalize=True)"
   ]
  },
  {
   "cell_type": "code",
   "execution_count": 46,
   "metadata": {},
   "outputs": [
    {
     "data": {
      "image/png": "[encoded data removed]",
      "text/plain": [
       "<Figure size 432x288 with 1 Axes>"
      ]
     },
     "metadata": {
      "needs_background": "light"
     },
     "output_type": "display_data"
    },
    {
     "data": {
      "text/plain": [
       "8     0.039998\n",
       "7     0.038772\n",
       "13    0.038300\n",
       "14    0.037923\n",
       "6     0.037451\n",
       "28    0.036979\n",
       "18    0.036319\n",
       "4     0.036272\n",
       "15    0.035942\n",
       "11    0.035423\n",
       "5     0.035234\n",
       "3     0.033866\n",
       "30    0.033678\n",
       "10    0.033442\n",
       "25    0.032593\n",
       "29    0.032310\n",
       "27    0.031602\n",
       "9     0.031461\n",
       "12    0.031414\n",
       "22    0.030659\n",
       "21    0.030612\n",
       "20    0.030329\n",
       "26    0.030140\n",
       "2     0.028395\n",
       "17    0.027923\n",
       "24    0.027876\n",
       "19    0.027782\n",
       "16    0.026650\n",
       "23    0.026555\n",
       "1     0.022735\n",
       "31    0.021367\n",
       "Name: Arrival at Destination - Day of Month, dtype: float64"
      ]
     },
     "execution_count": 46,
     "metadata": {},
     "output_type": "execute_result"
    }
   ],
   "source": [
    "# 18\n",
    "plot_var = 'Arrival at Destination - Day of Month'\n",
    "plt.hist(merged_train_rider_dtype[plot_var])\n",
    "plt.xlabel(plot_var)\n",
    "plt.ylabel('Number of deliveries')\n",
    "plt.show()\n",
    "merged_train_rider_dtype[plot_var].value_counts(normalize=True)"
   ]
  },
  {
   "cell_type": "code",
   "execution_count": 47,
   "metadata": {},
   "outputs": [
    {
     "data": {
      "image/png": "[encoded data removed]",
      "text/plain": [
       "<Figure size 432x288 with 1 Axes>"
      ]
     },
     "metadata": {
      "needs_background": "light"
     },
     "output_type": "display_data"
    },
    {
     "data": {
      "text/plain": [
       "4    0.199472\n",
       "5    0.188340\n",
       "2    0.186736\n",
       "3    0.180322\n",
       "1    0.178671\n",
       "6    0.057686\n",
       "7    0.008773\n",
       "Name: Arrival at Destination - Weekday (Mo = 1), dtype: float64"
      ]
     },
     "execution_count": 47,
     "metadata": {},
     "output_type": "execute_result"
    }
   ],
   "source": [
    "# 19\n",
    "plot_var = 'Arrival at Destination - Weekday (Mo = 1)'\n",
    "plt.hist(merged_train_rider_dtype[plot_var])\n",
    "plt.xlabel(plot_var)\n",
    "plt.ylabel('Number of deliveries')\n",
    "plt.show()\n",
    "merged_train_rider_dtype[plot_var].value_counts(normalize=True)"
   ]
  },
  {
   "cell_type": "code",
   "execution_count": 48,
   "metadata": {},
   "outputs": [
    {
     "data": {
      "text/plain": [
       "3:24:03 PM     0.000330\n",
       "11:16:33 AM    0.000283\n",
       "1:25:43 PM     0.000283\n",
       "1:08:03 PM     0.000283\n",
       "1:50:29 PM     0.000236\n",
       "                 ...   \n",
       "1:19:25 PM     0.000047\n",
       "2:02:47 PM     0.000047\n",
       "5:19:33 PM     0.000047\n",
       "11:18:39 AM    0.000047\n",
       "11:06:16 AM    0.000047\n",
       "Name: Arrival at Destination - Time, Length: 15725, dtype: float64"
      ]
     },
     "execution_count": 48,
     "metadata": {},
     "output_type": "execute_result"
    }
   ],
   "source": [
    "# 20\n",
    "plot_var = 'Arrival at Destination - Time'\n",
    "merged_train_rider_dtype[plot_var].value_counts(normalize=True)"
   ]
  },
  {
   "cell_type": "code",
   "execution_count": 49,
   "metadata": {},
   "outputs": [
    {
     "data": {
      "text/plain": [
       "Rider_Id_726    0.011650\n",
       "Rider_Id_576    0.010518\n",
       "Rider_Id_523    0.009386\n",
       "Rider_Id_101    0.008632\n",
       "Rider_Id_205    0.008585\n",
       "                  ...   \n",
       "Rider_Id_305    0.000047\n",
       "Rider_Id_602    0.000047\n",
       "Rider_Id_115    0.000047\n",
       "Rider_Id_201    0.000047\n",
       "Rider_Id_180    0.000047\n",
       "Name: Rider Id, Length: 924, dtype: float64"
      ]
     },
     "execution_count": 49,
     "metadata": {},
     "output_type": "execute_result"
    }
   ],
   "source": [
    "# 21\n",
    "plot_var = 'Rider Id'\n",
    "merged_train_rider_dtype[plot_var].value_counts(normalize=True)"
   ]
  },
  {
   "cell_type": "markdown",
   "metadata": {},
   "source": [
    "### 1.4.5 Assessing Time"
   ]
  },
  {
   "cell_type": "code",
   "execution_count": 50,
   "metadata": {},
   "outputs": [],
   "source": [
    "# Function to convert the date format \n",
    "def convert12_to_24(time): \n",
    "      \n",
    "    # Checking if last two elements of time \n",
    "    # is AM and first two elements are 12 \n",
    "    if time[-2:] == \"AM\" and time[:2] == \"12\": \n",
    "        return \"00\" + time[2:-2] \n",
    "          \n",
    "    # remove the AM     \n",
    "    elif time[-2:] == \"AM\": \n",
    "        return time[:-2] \n",
    "      \n",
    "    # Checking if last two elements of time \n",
    "    # is PM and first two elements are 12    \n",
    "    elif time[-2:] == \"PM\" and time[:2] == \"12\": \n",
    "        return time[:-2] \n",
    "    \n",
    "    # add 12 to hours and remove PM     \n",
    "    elif time[:2] == time[:1] + ':':\n",
    "        return str(int(time[:1]) + 12) + time[1:8] \n",
    "    else:      \n",
    "         return str(int(time[:2]) + 12) + time[2:8]"
   ]
  },
  {
   "cell_type": "code",
   "execution_count": 51,
   "metadata": {},
   "outputs": [],
   "source": [
    "def get_hour(time):\n",
    "    \n",
    "    # convert to 24 hour time\n",
    "    time_24 = convert12_to_24(time)\n",
    "    \n",
    "    # extract hour\n",
    "    return int(time_24[:time_24.find(':')])"
   ]
  },
  {
   "cell_type": "code",
   "execution_count": 52,
   "metadata": {},
   "outputs": [
    {
     "data": {
      "text/html": [
       "<div>\n",
       "<style scoped>\n",
       "    .dataframe tbody tr th:only-of-type {\n",
       "        vertical-align: middle;\n",
       "    }\n",
       "\n",
       "    .dataframe tbody tr th {\n",
       "        vertical-align: top;\n",
       "    }\n",
       "\n",
       "    .dataframe thead th {\n",
       "        text-align: right;\n",
       "    }\n",
       "</style>\n",
       "<table border=\"1\" class=\"dataframe\">\n",
       "  <thead>\n",
       "    <tr style=\"text-align: right;\">\n",
       "      <th></th>\n",
       "      <th>Placement - Time</th>\n",
       "      <th>Confirmation - Time</th>\n",
       "      <th>Arrival at Pickup - Time</th>\n",
       "      <th>Pickup - Time</th>\n",
       "      <th>Arrival at Destination - Time</th>\n",
       "    </tr>\n",
       "  </thead>\n",
       "  <tbody>\n",
       "    <tr>\n",
       "      <td>0</td>\n",
       "      <td>9:35:46 AM</td>\n",
       "      <td>9:40:10 AM</td>\n",
       "      <td>10:04:47 AM</td>\n",
       "      <td>10:27:30 AM</td>\n",
       "      <td>10:39:55 AM</td>\n",
       "    </tr>\n",
       "    <tr>\n",
       "      <td>1</td>\n",
       "      <td>11:16:16 AM</td>\n",
       "      <td>11:23:21 AM</td>\n",
       "      <td>11:40:22 AM</td>\n",
       "      <td>11:44:09 AM</td>\n",
       "      <td>12:17:22 PM</td>\n",
       "    </tr>\n",
       "    <tr>\n",
       "      <td>2</td>\n",
       "      <td>12:39:25 PM</td>\n",
       "      <td>12:42:44 PM</td>\n",
       "      <td>12:49:34 PM</td>\n",
       "      <td>12:53:03 PM</td>\n",
       "      <td>1:00:38 PM</td>\n",
       "    </tr>\n",
       "    <tr>\n",
       "      <td>3</td>\n",
       "      <td>9:25:34 AM</td>\n",
       "      <td>9:26:05 AM</td>\n",
       "      <td>9:37:56 AM</td>\n",
       "      <td>9:43:06 AM</td>\n",
       "      <td>10:05:27 AM</td>\n",
       "    </tr>\n",
       "    <tr>\n",
       "      <td>4</td>\n",
       "      <td>9:55:18 AM</td>\n",
       "      <td>9:56:18 AM</td>\n",
       "      <td>10:03:53 AM</td>\n",
       "      <td>10:05:23 AM</td>\n",
       "      <td>10:25:37 AM</td>\n",
       "    </tr>\n",
       "  </tbody>\n",
       "</table>\n",
       "</div>"
      ],
      "text/plain": [
       "  Placement - Time Confirmation - Time Arrival at Pickup - Time Pickup - Time  \\\n",
       "0       9:35:46 AM          9:40:10 AM              10:04:47 AM   10:27:30 AM   \n",
       "1      11:16:16 AM         11:23:21 AM              11:40:22 AM   11:44:09 AM   \n",
       "2      12:39:25 PM         12:42:44 PM              12:49:34 PM   12:53:03 PM   \n",
       "3       9:25:34 AM          9:26:05 AM               9:37:56 AM    9:43:06 AM   \n",
       "4       9:55:18 AM          9:56:18 AM              10:03:53 AM   10:05:23 AM   \n",
       "\n",
       "  Arrival at Destination - Time  \n",
       "0                   10:39:55 AM  \n",
       "1                   12:17:22 PM  \n",
       "2                    1:00:38 PM  \n",
       "3                   10:05:27 AM  \n",
       "4                   10:25:37 AM  "
      ]
     },
     "execution_count": 52,
     "metadata": {},
     "output_type": "execute_result"
    }
   ],
   "source": [
    "train_time_df = train_df.filter(regex='Time').drop(['Time from Pickup to Arrival'],axis=1)\n",
    "train_time_df.head()"
   ]
  },
  {
   "cell_type": "code",
   "execution_count": 53,
   "metadata": {},
   "outputs": [
    {
     "data": {
      "text/html": [
       "<div>\n",
       "<style scoped>\n",
       "    .dataframe tbody tr th:only-of-type {\n",
       "        vertical-align: middle;\n",
       "    }\n",
       "\n",
       "    .dataframe tbody tr th {\n",
       "        vertical-align: top;\n",
       "    }\n",
       "\n",
       "    .dataframe thead th {\n",
       "        text-align: right;\n",
       "    }\n",
       "</style>\n",
       "<table border=\"1\" class=\"dataframe\">\n",
       "  <thead>\n",
       "    <tr style=\"text-align: right;\">\n",
       "      <th></th>\n",
       "      <th>Placement - Time</th>\n",
       "      <th>Confirmation - Time</th>\n",
       "      <th>Arrival at Pickup - Time</th>\n",
       "      <th>Pickup - Time</th>\n",
       "    </tr>\n",
       "  </thead>\n",
       "  <tbody>\n",
       "    <tr>\n",
       "      <td>0</td>\n",
       "      <td>4:44:10 PM</td>\n",
       "      <td>4:44:29 PM</td>\n",
       "      <td>4:53:04 PM</td>\n",
       "      <td>5:06:47 PM</td>\n",
       "    </tr>\n",
       "    <tr>\n",
       "      <td>1</td>\n",
       "      <td>12:57:35 PM</td>\n",
       "      <td>12:59:17 PM</td>\n",
       "      <td>1:20:27 PM</td>\n",
       "      <td>1:25:37 PM</td>\n",
       "    </tr>\n",
       "    <tr>\n",
       "      <td>2</td>\n",
       "      <td>11:08:14 AM</td>\n",
       "      <td>11:25:05 AM</td>\n",
       "      <td>11:33:20 AM</td>\n",
       "      <td>11:57:54 AM</td>\n",
       "    </tr>\n",
       "    <tr>\n",
       "      <td>3</td>\n",
       "      <td>1:51:35 PM</td>\n",
       "      <td>1:53:27 PM</td>\n",
       "      <td>2:02:41 PM</td>\n",
       "      <td>2:16:52 PM</td>\n",
       "    </tr>\n",
       "    <tr>\n",
       "      <td>4</td>\n",
       "      <td>11:30:28 AM</td>\n",
       "      <td>11:34:45 AM</td>\n",
       "      <td>11:47:19 AM</td>\n",
       "      <td>11:56:04 AM</td>\n",
       "    </tr>\n",
       "  </tbody>\n",
       "</table>\n",
       "</div>"
      ],
      "text/plain": [
       "  Placement - Time Confirmation - Time Arrival at Pickup - Time Pickup - Time\n",
       "0       4:44:10 PM          4:44:29 PM               4:53:04 PM    5:06:47 PM\n",
       "1      12:57:35 PM         12:59:17 PM               1:20:27 PM    1:25:37 PM\n",
       "2      11:08:14 AM         11:25:05 AM              11:33:20 AM   11:57:54 AM\n",
       "3       1:51:35 PM          1:53:27 PM               2:02:41 PM    2:16:52 PM\n",
       "4      11:30:28 AM         11:34:45 AM              11:47:19 AM   11:56:04 AM"
      ]
     },
     "execution_count": 53,
     "metadata": {},
     "output_type": "execute_result"
    }
   ],
   "source": [
    "test_time_df = test_df.filter(regex='Time')\n",
    "test_time_df.head()"
   ]
  },
  {
   "cell_type": "code",
   "execution_count": 54,
   "metadata": {},
   "outputs": [
    {
     "name": "stdout",
     "output_type": "stream",
     "text": [
      "Placement - Hour\n",
      "Confirmation - Hour\n",
      "Arrival at Pickup - Hour\n",
      "Pickup - Hour\n"
     ]
    },
    {
     "name": "stderr",
     "output_type": "stream",
     "text": [
      "C:\\Users\\Stanley Machuene\\AppData\\Local\\Continuum\\anaconda3\\lib\\site-packages\\ipykernel_launcher.py:5: SettingWithCopyWarning: \n",
      "A value is trying to be set on a copy of a slice from a DataFrame.\n",
      "Try using .loc[row_indexer,col_indexer] = value instead\n",
      "\n",
      "See the caveats in the documentation: http://pandas.pydata.org/pandas-docs/stable/user_guide/indexing.html#returning-a-view-versus-a-copy\n",
      "  \"\"\"\n"
     ]
    }
   ],
   "source": [
    "for col in test_time_df.columns:\n",
    "    str1 = 'Time'\n",
    "    str2 = 'Hour'\n",
    "    print(f'{col.replace(str1,str2)}')\n",
    "    test_time_df[col.replace(str1,str2)] = test_time_df[col].apply(get_hour)"
   ]
  },
  {
   "cell_type": "code",
   "execution_count": 55,
   "metadata": {},
   "outputs": [
    {
     "data": {
      "text/html": [
       "<div>\n",
       "<style scoped>\n",
       "    .dataframe tbody tr th:only-of-type {\n",
       "        vertical-align: middle;\n",
       "    }\n",
       "\n",
       "    .dataframe tbody tr th {\n",
       "        vertical-align: top;\n",
       "    }\n",
       "\n",
       "    .dataframe thead th {\n",
       "        text-align: right;\n",
       "    }\n",
       "</style>\n",
       "<table border=\"1\" class=\"dataframe\">\n",
       "  <thead>\n",
       "    <tr style=\"text-align: right;\">\n",
       "      <th></th>\n",
       "      <th>Placement - Time</th>\n",
       "      <th>Confirmation - Time</th>\n",
       "      <th>Arrival at Pickup - Time</th>\n",
       "      <th>Pickup - Time</th>\n",
       "      <th>Placement - Hour</th>\n",
       "      <th>Confirmation - Hour</th>\n",
       "      <th>Arrival at Pickup - Hour</th>\n",
       "      <th>Pickup - Hour</th>\n",
       "    </tr>\n",
       "  </thead>\n",
       "  <tbody>\n",
       "    <tr>\n",
       "      <td>0</td>\n",
       "      <td>4:44:10 PM</td>\n",
       "      <td>4:44:29 PM</td>\n",
       "      <td>4:53:04 PM</td>\n",
       "      <td>5:06:47 PM</td>\n",
       "      <td>16</td>\n",
       "      <td>16</td>\n",
       "      <td>16</td>\n",
       "      <td>17</td>\n",
       "    </tr>\n",
       "    <tr>\n",
       "      <td>1</td>\n",
       "      <td>12:57:35 PM</td>\n",
       "      <td>12:59:17 PM</td>\n",
       "      <td>1:20:27 PM</td>\n",
       "      <td>1:25:37 PM</td>\n",
       "      <td>12</td>\n",
       "      <td>12</td>\n",
       "      <td>13</td>\n",
       "      <td>13</td>\n",
       "    </tr>\n",
       "    <tr>\n",
       "      <td>2</td>\n",
       "      <td>11:08:14 AM</td>\n",
       "      <td>11:25:05 AM</td>\n",
       "      <td>11:33:20 AM</td>\n",
       "      <td>11:57:54 AM</td>\n",
       "      <td>11</td>\n",
       "      <td>11</td>\n",
       "      <td>11</td>\n",
       "      <td>11</td>\n",
       "    </tr>\n",
       "    <tr>\n",
       "      <td>3</td>\n",
       "      <td>1:51:35 PM</td>\n",
       "      <td>1:53:27 PM</td>\n",
       "      <td>2:02:41 PM</td>\n",
       "      <td>2:16:52 PM</td>\n",
       "      <td>13</td>\n",
       "      <td>13</td>\n",
       "      <td>14</td>\n",
       "      <td>14</td>\n",
       "    </tr>\n",
       "    <tr>\n",
       "      <td>4</td>\n",
       "      <td>11:30:28 AM</td>\n",
       "      <td>11:34:45 AM</td>\n",
       "      <td>11:47:19 AM</td>\n",
       "      <td>11:56:04 AM</td>\n",
       "      <td>11</td>\n",
       "      <td>11</td>\n",
       "      <td>11</td>\n",
       "      <td>11</td>\n",
       "    </tr>\n",
       "  </tbody>\n",
       "</table>\n",
       "</div>"
      ],
      "text/plain": [
       "  Placement - Time Confirmation - Time Arrival at Pickup - Time Pickup - Time  \\\n",
       "0       4:44:10 PM          4:44:29 PM               4:53:04 PM    5:06:47 PM   \n",
       "1      12:57:35 PM         12:59:17 PM               1:20:27 PM    1:25:37 PM   \n",
       "2      11:08:14 AM         11:25:05 AM              11:33:20 AM   11:57:54 AM   \n",
       "3       1:51:35 PM          1:53:27 PM               2:02:41 PM    2:16:52 PM   \n",
       "4      11:30:28 AM         11:34:45 AM              11:47:19 AM   11:56:04 AM   \n",
       "\n",
       "   Placement - Hour  Confirmation - Hour  Arrival at Pickup - Hour  \\\n",
       "0                16                   16                        16   \n",
       "1                12                   12                        13   \n",
       "2                11                   11                        11   \n",
       "3                13                   13                        14   \n",
       "4                11                   11                        11   \n",
       "\n",
       "   Pickup - Hour  \n",
       "0             17  \n",
       "1             13  \n",
       "2             11  \n",
       "3             14  \n",
       "4             11  "
      ]
     },
     "execution_count": 55,
     "metadata": {},
     "output_type": "execute_result"
    }
   ],
   "source": [
    "test_time_df.head()"
   ]
  },
  {
   "cell_type": "code",
   "execution_count": 56,
   "metadata": {},
   "outputs": [
    {
     "name": "stdout",
     "output_type": "stream",
     "text": [
      "Placement - Hour\n",
      "Confirmation - Hour\n",
      "Arrival at Pickup - Hour\n",
      "Pickup - Hour\n",
      "Arrival at Destination - Hour\n"
     ]
    }
   ],
   "source": [
    "for col in train_time_df.columns:\n",
    "    str1 = 'Time'\n",
    "    str2 = 'Hour'\n",
    "    print(f'{col.replace(str1,str2)}')\n",
    "    train_time_df[col.replace(str1,str2)] = train_time_df[col].apply(get_hour)"
   ]
  },
  {
   "cell_type": "code",
   "execution_count": 57,
   "metadata": {},
   "outputs": [
    {
     "data": {
      "text/html": [
       "<div>\n",
       "<style scoped>\n",
       "    .dataframe tbody tr th:only-of-type {\n",
       "        vertical-align: middle;\n",
       "    }\n",
       "\n",
       "    .dataframe tbody tr th {\n",
       "        vertical-align: top;\n",
       "    }\n",
       "\n",
       "    .dataframe thead th {\n",
       "        text-align: right;\n",
       "    }\n",
       "</style>\n",
       "<table border=\"1\" class=\"dataframe\">\n",
       "  <thead>\n",
       "    <tr style=\"text-align: right;\">\n",
       "      <th></th>\n",
       "      <th>Placement - Time</th>\n",
       "      <th>Confirmation - Time</th>\n",
       "      <th>Arrival at Pickup - Time</th>\n",
       "      <th>Pickup - Time</th>\n",
       "      <th>Arrival at Destination - Time</th>\n",
       "      <th>Placement - Hour</th>\n",
       "      <th>Confirmation - Hour</th>\n",
       "      <th>Arrival at Pickup - Hour</th>\n",
       "      <th>Pickup - Hour</th>\n",
       "      <th>Arrival at Destination - Hour</th>\n",
       "    </tr>\n",
       "  </thead>\n",
       "  <tbody>\n",
       "    <tr>\n",
       "      <td>0</td>\n",
       "      <td>9:35:46 AM</td>\n",
       "      <td>9:40:10 AM</td>\n",
       "      <td>10:04:47 AM</td>\n",
       "      <td>10:27:30 AM</td>\n",
       "      <td>10:39:55 AM</td>\n",
       "      <td>9</td>\n",
       "      <td>9</td>\n",
       "      <td>10</td>\n",
       "      <td>10</td>\n",
       "      <td>10</td>\n",
       "    </tr>\n",
       "    <tr>\n",
       "      <td>1</td>\n",
       "      <td>11:16:16 AM</td>\n",
       "      <td>11:23:21 AM</td>\n",
       "      <td>11:40:22 AM</td>\n",
       "      <td>11:44:09 AM</td>\n",
       "      <td>12:17:22 PM</td>\n",
       "      <td>11</td>\n",
       "      <td>11</td>\n",
       "      <td>11</td>\n",
       "      <td>11</td>\n",
       "      <td>12</td>\n",
       "    </tr>\n",
       "    <tr>\n",
       "      <td>2</td>\n",
       "      <td>12:39:25 PM</td>\n",
       "      <td>12:42:44 PM</td>\n",
       "      <td>12:49:34 PM</td>\n",
       "      <td>12:53:03 PM</td>\n",
       "      <td>1:00:38 PM</td>\n",
       "      <td>12</td>\n",
       "      <td>12</td>\n",
       "      <td>12</td>\n",
       "      <td>12</td>\n",
       "      <td>13</td>\n",
       "    </tr>\n",
       "    <tr>\n",
       "      <td>3</td>\n",
       "      <td>9:25:34 AM</td>\n",
       "      <td>9:26:05 AM</td>\n",
       "      <td>9:37:56 AM</td>\n",
       "      <td>9:43:06 AM</td>\n",
       "      <td>10:05:27 AM</td>\n",
       "      <td>9</td>\n",
       "      <td>9</td>\n",
       "      <td>9</td>\n",
       "      <td>9</td>\n",
       "      <td>10</td>\n",
       "    </tr>\n",
       "    <tr>\n",
       "      <td>4</td>\n",
       "      <td>9:55:18 AM</td>\n",
       "      <td>9:56:18 AM</td>\n",
       "      <td>10:03:53 AM</td>\n",
       "      <td>10:05:23 AM</td>\n",
       "      <td>10:25:37 AM</td>\n",
       "      <td>9</td>\n",
       "      <td>9</td>\n",
       "      <td>10</td>\n",
       "      <td>10</td>\n",
       "      <td>10</td>\n",
       "    </tr>\n",
       "  </tbody>\n",
       "</table>\n",
       "</div>"
      ],
      "text/plain": [
       "  Placement - Time Confirmation - Time Arrival at Pickup - Time Pickup - Time  \\\n",
       "0       9:35:46 AM          9:40:10 AM              10:04:47 AM   10:27:30 AM   \n",
       "1      11:16:16 AM         11:23:21 AM              11:40:22 AM   11:44:09 AM   \n",
       "2      12:39:25 PM         12:42:44 PM              12:49:34 PM   12:53:03 PM   \n",
       "3       9:25:34 AM          9:26:05 AM               9:37:56 AM    9:43:06 AM   \n",
       "4       9:55:18 AM          9:56:18 AM              10:03:53 AM   10:05:23 AM   \n",
       "\n",
       "  Arrival at Destination - Time  Placement - Hour  Confirmation - Hour  \\\n",
       "0                   10:39:55 AM                 9                    9   \n",
       "1                   12:17:22 PM                11                   11   \n",
       "2                    1:00:38 PM                12                   12   \n",
       "3                   10:05:27 AM                 9                    9   \n",
       "4                   10:25:37 AM                 9                    9   \n",
       "\n",
       "   Arrival at Pickup - Hour  Pickup - Hour  Arrival at Destination - Hour  \n",
       "0                        10             10                             10  \n",
       "1                        11             11                             12  \n",
       "2                        12             12                             13  \n",
       "3                         9              9                             10  \n",
       "4                        10             10                             10  "
      ]
     },
     "execution_count": 57,
     "metadata": {},
     "output_type": "execute_result"
    }
   ],
   "source": [
    "train_time_df.head()"
   ]
  },
  {
   "cell_type": "code",
   "execution_count": 58,
   "metadata": {},
   "outputs": [
    {
     "data": {
      "image/png": "[encoded data removed]",
      "text/plain": [
       "<Figure size 1152x1440 with 6 Axes>"
      ]
     },
     "metadata": {
      "needs_background": "light"
     },
     "output_type": "display_data"
    }
   ],
   "source": [
    "# Assess numercal predictor variables\n",
    "train_time_df.hist(figsize=(16, 20), bins=24)\n",
    "\n",
    "plt.tight_layout()\n",
    "plt.show()"
   ]
  },
  {
   "cell_type": "code",
   "execution_count": 59,
   "metadata": {},
   "outputs": [
    {
     "data": {
      "image/png": "[encoded data removed]",
      "text/plain": [
       "<Figure size 1152x1440 with 4 Axes>"
      ]
     },
     "metadata": {
      "needs_background": "light"
     },
     "output_type": "display_data"
    }
   ],
   "source": [
    "# Assess numercal predictor variables\n",
    "test_time_df.hist(figsize=(16, 20), bins=24)\n",
    "\n",
    "plt.tight_layout()\n",
    "plt.show()"
   ]
  },
  {
   "cell_type": "code",
   "execution_count": 60,
   "metadata": {},
   "outputs": [],
   "source": [
    "corr3 = train_time_df.corr()"
   ]
  },
  {
   "cell_type": "code",
   "execution_count": 61,
   "metadata": {},
   "outputs": [
    {
     "data": {
      "text/plain": [
       "<matplotlib.axes._subplots.AxesSubplot at 0x1538a7d1708>"
      ]
     },
     "execution_count": 61,
     "metadata": {},
     "output_type": "execute_result"
    },
    {
     "data": {
      "image/png": "[encoded data removed]",
      "text/plain": [
       "<Figure size 792x648 with 2 Axes>"
      ]
     },
     "metadata": {
      "needs_background": "light"
     },
     "output_type": "display_data"
    }
   ],
   "source": [
    "# Generate a mask for the upper triangle\n",
    "mask = np.triu(np.ones_like(corr3, dtype=np.bool))\n",
    "\n",
    "# Set up the matplotlib figure\n",
    "f, ax = plt.subplots(figsize=(11, 9))\n",
    "\n",
    "# Generate a custom diverging colormap\n",
    "cmap = sns.diverging_palette(220, 10, as_cmap=True)\n",
    "\n",
    "# Draw the heatmap with the mask and correct aspect ratio\n",
    "sns.heatmap(corr3, mask=mask, cmap=cmap, vmax=.3, center=0,\n",
    "            square=True, linewidths=.5, cbar_kws={\"shrink\": .5})"
   ]
  },
  {
   "cell_type": "markdown",
   "metadata": {},
   "source": [
    "# 2. Data Pre Processing"
   ]
  },
  {
   "cell_type": "markdown",
   "metadata": {},
   "source": [
    "## 2.1 Variable Selection"
   ]
  },
  {
   "cell_type": "markdown",
   "metadata": {},
   "source": [
    "#### Variables Dropped\n",
    "* Rider data was not considered for the base model.\n",
    "* Days of the week were strongly correlated therefore only of the `Confirmation - Day of Week` was kept as a predictor\n",
    "* Days of the month were strongly correlated therefore only `Pickup - Day of Month` was kept as a predictor\n",
    "* Lat and Long give coordinates of a place.\n",
    "\t* The coordinates serve to give distance between places.\n",
    "\t* Since we have Distance in KM the lat and long become reduntant.\n",
    "* Precipitation has too many missing values\n",
    "* Order number was dropped becase they are unique\n",
    "* User ID was dropped because at around 7 orders per user, it was considered unique\n",
    "* There was only 1 vehicle type therefore it was dropped\n",
    "* Personal or Business because more than 81% of observations are business, therefore minimal variation.\n",
    "* Although time would be a reasonable predictor to consider, in this occasion, it was not.\n",
    "\n",
    "#### Predictor Variables\n",
    "* `Distance (KM)`\n",
    "* `Temperature`\n",
    "* `Pickup - Day of Month`\n",
    "* `Confirmation - Weekday (Mo = 1)`\n",
    "* `Platform Type`"
   ]
  },
  {
   "cell_type": "code",
   "execution_count": 62,
   "metadata": {},
   "outputs": [],
   "source": [
    "# create predictor vector\n",
    "X = train_df[['Distance (KM)', 'Temperature', 'Pickup - Day of Month', \n",
    "             'Confirmation - Weekday (Mo = 1)', 'Platform Type']].values\n",
    "\n",
    "# create our response variable\n",
    "y = train_df['Time from Pickup to Arrival'].values\n",
    "\n",
    "# create submission data variable\n",
    "X_submission = test_df[['Distance (KM)', 'Temperature', 'Pickup - Day of Month', \n",
    "             'Confirmation - Weekday (Mo = 1)', 'Platform Type']].values"
   ]
  },
  {
   "cell_type": "markdown",
   "metadata": {},
   "source": [
    "## 2.2 Test Train Split"
   ]
  },
  {
   "cell_type": "code",
   "execution_count": 63,
   "metadata": {},
   "outputs": [],
   "source": [
    "# import train test split function\n",
    "from sklearn.model_selection import train_test_split"
   ]
  },
  {
   "cell_type": "code",
   "execution_count": 64,
   "metadata": {},
   "outputs": [],
   "source": [
    "# split test and train data\n",
    "X_train, X_test, y_train, y_test = train_test_split(X, y, test_size=0.2, random_state=50)"
   ]
  },
  {
   "cell_type": "markdown",
   "metadata": {},
   "source": [
    "## 2.3 Impute Missing Data"
   ]
  },
  {
   "cell_type": "code",
   "execution_count": 66,
   "metadata": {},
   "outputs": [],
   "source": [
    "# import simple imputer class\n",
    "from sklearn.impute import SimpleImputer"
   ]
  },
  {
   "cell_type": "code",
   "execution_count": 67,
   "metadata": {},
   "outputs": [
    {
     "name": "stdout",
     "output_type": "stream",
     "text": [
      "Train Data:\n",
      "[[ 7.  24.  29.   2.   1. ]\n",
      " [ 7.  18.7  1.   6.   1. ]\n",
      " [20.  18.2  5.   3.   3. ]\n",
      " ...\n",
      " [10.  23.9 23.   5.   3. ]\n",
      " [14.  23.5 29.   5.   3. ]\n",
      " [ 4.  23.5 23.   6.   1. ]] \n",
      "\n",
      "Test Data:\n",
      "[[15.  28.6  1.   5.   3. ]\n",
      " [ 4.  13.9 21.   6.   2. ]\n",
      " [10.  23.5 17.   5.   3. ]\n",
      " ...\n",
      " [ 8.  23.5  8.   3.   3. ]\n",
      " [ 8.  23.5 27.   6.   3. ]\n",
      " [ 9.  19.1 14.   4.   3. ]] \n",
      "\n",
      "Submission Data:\n",
      "[[ 8.  23.5 27.   3.   3. ]\n",
      " [ 5.  23.5 17.   5.   3. ]\n",
      " [ 5.  22.8 27.   4.   3. ]\n",
      " ...\n",
      " [10.  25.1  5.   3.   3. ]\n",
      " [18.  23.6 29.   2.   3. ]\n",
      " [ 8.  22.3  4.   2.   3. ]]\n"
     ]
    }
   ],
   "source": [
    "# instantiate an imputer object with a median filling strategy\n",
    "imputer = SimpleImputer(missing_values = np.nan, strategy='median')\n",
    "\n",
    "# apply filling\n",
    "imputer.fit(X_train)\n",
    "\n",
    "# Transform training data, testing data and submission data\n",
    "X_train = imputer.transform(X_train)\n",
    "X_test = imputer.transform(X_test)\n",
    "X_submission = imputer.transform(X_submission)\n",
    "\n",
    "print (f'Train Data:\\n{X_train}','\\n')\n",
    "print (f'Test Data:\\n{X_test}','\\n')\n",
    "print (f'Submission Data:\\n{X_submission}')"
   ]
  },
  {
   "cell_type": "markdown",
   "metadata": {},
   "source": [
    "# 3. Base Model"
   ]
  },
  {
   "cell_type": "markdown",
   "metadata": {},
   "source": [
    "For the Base Model, a multi-linear regression was selected with predictors selected per the previous section of this notebook."
   ]
  },
  {
   "cell_type": "markdown",
   "metadata": {},
   "source": [
    "## 3.1 Model Training"
   ]
  },
  {
   "cell_type": "code",
   "execution_count": 68,
   "metadata": {},
   "outputs": [],
   "source": [
    "# import LinearRegression class\n",
    "from sklearn.linear_model import LinearRegression"
   ]
  },
  {
   "cell_type": "code",
   "execution_count": 69,
   "metadata": {},
   "outputs": [],
   "source": [
    "# instantial LinearRegression object\n",
    "regressor = LinearRegression() \n",
    "\n",
    "# fit linear regression model\n",
    "regressor.fit(X_train, y_train)\n",
    "\n",
    "# get prediction for training data set\n",
    "y_pred_train = regressor.predict(X_train)"
   ]
  },
  {
   "cell_type": "markdown",
   "metadata": {},
   "source": [
    "## 3.2 Testing and Evaluating the Model"
   ]
  },
  {
   "cell_type": "code",
   "execution_count": 70,
   "metadata": {},
   "outputs": [],
   "source": [
    "# import metrics library\n",
    "from sklearn import metrics"
   ]
  },
  {
   "cell_type": "code",
   "execution_count": 71,
   "metadata": {},
   "outputs": [],
   "source": [
    "# get prediction for training data set\n",
    "y_pred_test = regressor.predict(X_test)"
   ]
  },
  {
   "cell_type": "code",
   "execution_count": 72,
   "metadata": {},
   "outputs": [
    {
     "data": {
      "text/html": [
       "<div>\n",
       "<style scoped>\n",
       "    .dataframe tbody tr th:only-of-type {\n",
       "        vertical-align: middle;\n",
       "    }\n",
       "\n",
       "    .dataframe tbody tr th {\n",
       "        vertical-align: top;\n",
       "    }\n",
       "\n",
       "    .dataframe thead th {\n",
       "        text-align: right;\n",
       "    }\n",
       "</style>\n",
       "<table border=\"1\" class=\"dataframe\">\n",
       "  <thead>\n",
       "    <tr style=\"text-align: right;\">\n",
       "      <th></th>\n",
       "      <th>Training MSE</th>\n",
       "      <th>Training RMSE</th>\n",
       "      <th>Test MSE</th>\n",
       "      <th>Test RMSE</th>\n",
       "    </tr>\n",
       "  </thead>\n",
       "  <tbody>\n",
       "    <tr>\n",
       "      <td>Base Model</td>\n",
       "      <td>652848.958761</td>\n",
       "      <td>807.990692</td>\n",
       "      <td>617863.374178</td>\n",
       "      <td>786.042858</td>\n",
       "    </tr>\n",
       "  </tbody>\n",
       "</table>\n",
       "</div>"
      ],
      "text/plain": [
       "             Training MSE  Training RMSE       Test MSE   Test RMSE\n",
       "Base Model  652848.958761     807.990692  617863.374178  786.042858"
      ]
     },
     "execution_count": 72,
     "metadata": {},
     "output_type": "execute_result"
    }
   ],
   "source": [
    "# dictionary of results\n",
    "results_dict = {'Training MSE':\n",
    "                    {\n",
    "                        \"Base Model\": metrics.mean_squared_error(y_train, y_pred_train)\n",
    "                    },\n",
    "                'Training RMSE':\n",
    "                    {\n",
    "                        \"Base Model\": metrics.mean_squared_error(y_train, y_pred_train)**0.5\n",
    "                    },\n",
    "                'Test MSE':\n",
    "                    {\n",
    "                        \"Base Model\": metrics.mean_squared_error(y_test, y_pred_test)\n",
    "                    },\n",
    "                'Test RMSE':\n",
    "                    {\n",
    "                        \"Base Model\": metrics.mean_squared_error(y_test, y_pred_test)**0.5\n",
    "                    }\n",
    "                }\n",
    "\n",
    "# create dataframe from dictionary\n",
    "results_df = pd.DataFrame(data=results_dict)\n",
    "results_df"
   ]
  },
  {
   "cell_type": "code",
   "execution_count": null,
   "metadata": {},
   "outputs": [],
   "source": []
  }
 ],
 "metadata": {
  "kernelspec": {
   "display_name": "Python 3",
   "language": "python",
   "name": "python3"
  },
  "language_info": {
   "codemirror_mode": {
    "name": "ipython",
    "version": 3
   },
   "file_extension": ".py",
   "mimetype": "text/x-python",
   "name": "python",
   "nbconvert_exporter": "python",
   "pygments_lexer": "ipython3",
   "version": "3.7.4"
  }
 },
 "nbformat": 4,
 "nbformat_minor": 2
}
