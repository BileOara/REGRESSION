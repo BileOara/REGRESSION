{
  "nbformat": 4,
  "nbformat_minor": 0,
  "metadata": {
    "colab": {
      "name": "Predict_Regression_LM_v02.ipynb",
      "provenance": [],
      "toc_visible": true,
      "include_colab_link": true
    },
    "kernelspec": {
      "display_name": "Python 3",
      "language": "python",
      "name": "python3"
    },
    "language_info": {
      "codemirror_mode": {
        "name": "ipython",
        "version": 3
      },
      "file_extension": ".py",
      "mimetype": "text/x-python",
      "name": "python",
      "nbconvert_exporter": "python",
      "pygments_lexer": "ipython3",
      "version": "3.7.6"
    }
  },
  "cells": [
    {
      "cell_type": "markdown",
      "metadata": {
        "id": "view-in-github",
        "colab_type": "text"
      },
      "source": [
        "<a href=\"https://colab.research.google.com/github/BileOara/REGRESSION/blob/master/Predict_Regression_LM_v02.ipynb\" target=\"_parent\"><img src=\"https://colab.research.google.com/assets/colab-badge.svg\" alt=\"Open In Colab\"/></a>"
      ]
    },
    {
      "cell_type": "markdown",
      "metadata": {
        "colab_type": "text",
        "id": "h4LZw0D-9h0D"
      },
      "source": [
        "# Problem Statement"
      ]
    },
    {
      "cell_type": "markdown",
      "metadata": {
        "colab_type": "text",
        "id": "utm4twaM9h0G"
      },
      "source": [
        "#### Context\n",
        "**Economies are better when logistics is efficient and affordable**\n",
        "\n",
        "Sendy, in partnership with insight2impact facility, is hosting a Zindi challenge to predict the estimated time of delivery of orders, from the point of driver pickup to the point of arrival at final destination. \n",
        "Sendy helps men and women behind every type of business to trade easily, deliver more competitively, and build extraordinary businesses.\n",
        "\n",
        "#### Why Solve this problem?\n",
        "The solution will help Sendy enhance customer communication and improve the reliability of its service; which will ultimately improve customer experience. In addition, the solution will enable Sendy to realise cost savings, and ultimately reduce the cost of doing business, through improved resource management and planning for order scheduling.\n",
        "\n",
        "An accurate arrival time prediction will help all businesses to improve their logistics and communicate an accurate time to their customers. \n",
        "\n",
        "#### What will be done?\n",
        "Given the details of a Sendy order, historic data will be used to predict the time of arrival of a rider at the destination of a package as accurately as possible.\n",
        "\n",
        "#### How will this be done\n",
        "\n",
        "By building a linear regression model that predicts an accurate delivery time, from picking up a package to arriving at the final destination.\n"
      ]
    },
    {
      "cell_type": "markdown",
      "metadata": {
        "colab_type": "text",
        "id": "gdEOhtUQ9h0I"
      },
      "source": [
        "# 1. Data Pre-Processing"
      ]
    },
    {
      "cell_type": "markdown",
      "metadata": {
        "colab_type": "text",
        "id": "NfC-Ey9A9h0J"
      },
      "source": [
        "## 1.1 Load Libraries"
      ]
    },
    {
      "cell_type": "code",
      "metadata": {
        "colab_type": "code",
        "id": "Yc7HjNoW9h0L",
        "colab": {}
      },
      "source": [
        "# Import modules\n",
        "import numpy as np\n",
        "import pandas as pd\n",
        "import matplotlib.pyplot as plt\n",
        "import seaborn as sns\n",
        "import os\n",
        "\n",
        "# Figures inline and set visualization style\n",
        "%matplotlib inline\n",
        "sns.set()"
      ],
      "execution_count": 0,
      "outputs": []
    },
    {
      "cell_type": "markdown",
      "metadata": {
        "colab_type": "text",
        "id": "dlT49dsl9h0V"
      },
      "source": [
        "## 1.2 Check Datasets"
      ]
    },
    {
      "cell_type": "code",
      "metadata": {
        "colab_type": "code",
        "id": "5cwrQt_W9h0W",
        "outputId": "1700faab-5c06-4b43-b532-44614cfbeed1",
        "colab": {
          "base_uri": "https://localhost:8080/",
          "height": 104
        }
      },
      "source": [
        "# List all files in a directory using os.listdir\n",
        "basepath = 'Zindi Data/'\n",
        "for entry in os.listdir(basepath):\n",
        "    if os.path.isfile(os.path.join(basepath, entry)):\n",
        "        print(entry)"
      ],
      "execution_count": 0,
      "outputs": [
        {
          "output_type": "stream",
          "text": [
            "Test.csv\n",
            "SampleSubmission.csv\n",
            "Train.csv\n",
            "Riders.csv\n",
            "VariableDefinitions.csv\n"
          ],
          "name": "stdout"
        }
      ]
    },
    {
      "cell_type": "markdown",
      "metadata": {
        "colab_type": "text",
        "id": "9tm27WQx9h0e"
      },
      "source": [
        "#### Check that all datasets are accounted for\n",
        "\n",
        "The files for download according to the hackathon:\n",
        "\n",
        "* `Train.csv` - is the dataset that you will use to train your model\n",
        "* `Test.csv` - is the dataset on which you will apply your model to.\n",
        "* `Riders.csv` - contains unique rider Ids, number of orders, age, rating and number of ratings\n",
        "* `VariableDefinitions.csv` - Definitions of variables in the Train, Test and Riders files\n",
        "\n",
        "The above files are accounted for.\n",
        "\n",
        "An additional file, `SampleSubmission.csv` was available for download as well\n"
      ]
    },
    {
      "cell_type": "markdown",
      "metadata": {
        "colab_type": "text",
        "id": "RopL7tUZSQkT"
      },
      "source": [
        "## 1.3 Import the datasets"
      ]
    },
    {
      "cell_type": "code",
      "metadata": {
        "colab_type": "code",
        "id": "E9EomLdM9h0g",
        "colab": {}
      },
      "source": [
        "# import Datasets\n",
        "data_folder = 'Zindi Data/'\n",
        "\n",
        "train_df = pd.read_csv(data_folder + 'Train.csv')\n",
        "test_df = pd.read_csv(data_folder + 'Test.csv')\n",
        "riders_df = pd.read_csv(data_folder + 'Riders.csv')\n",
        "variable_definitions_df = pd.read_csv(data_folder + 'VariableDefinitions.csv', header=None,\n",
        "                                      names=['Variable', 'Definition'])\n",
        "sample_submission_df = pd.read_csv(data_folder + 'SampleSubmission.csv')"
      ],
      "execution_count": 0,
      "outputs": []
    },
    {
      "cell_type": "code",
      "metadata": {
        "colab_type": "code",
        "id": "kD5MNNvv9h0m",
        "outputId": "402be62e-9af4-4a3b-f2b4-f4255684a7fd",
        "scrolled": true,
        "colab": {
          "base_uri": "https://localhost:8080/",
          "height": 417
        }
      },
      "source": [
        "# check training data\n",
        "train_df.head()"
      ],
      "execution_count": 0,
      "outputs": [
        {
          "output_type": "execute_result",
          "data": {
            "text/html": [
              "<div>\n",
              "<style scoped>\n",
              "    .dataframe tbody tr th:only-of-type {\n",
              "        vertical-align: middle;\n",
              "    }\n",
              "\n",
              "    .dataframe tbody tr th {\n",
              "        vertical-align: top;\n",
              "    }\n",
              "\n",
              "    .dataframe thead th {\n",
              "        text-align: right;\n",
              "    }\n",
              "</style>\n",
              "<table border=\"1\" class=\"dataframe\">\n",
              "  <thead>\n",
              "    <tr style=\"text-align: right;\">\n",
              "      <th></th>\n",
              "      <th>Order No</th>\n",
              "      <th>User Id</th>\n",
              "      <th>Vehicle Type</th>\n",
              "      <th>Platform Type</th>\n",
              "      <th>Personal or Business</th>\n",
              "      <th>Placement - Day of Month</th>\n",
              "      <th>Placement - Weekday (Mo = 1)</th>\n",
              "      <th>Placement - Time</th>\n",
              "      <th>Confirmation - Day of Month</th>\n",
              "      <th>Confirmation - Weekday (Mo = 1)</th>\n",
              "      <th>...</th>\n",
              "      <th>Arrival at Destination - Time</th>\n",
              "      <th>Distance (KM)</th>\n",
              "      <th>Temperature</th>\n",
              "      <th>Precipitation in millimeters</th>\n",
              "      <th>Pickup Lat</th>\n",
              "      <th>Pickup Long</th>\n",
              "      <th>Destination Lat</th>\n",
              "      <th>Destination Long</th>\n",
              "      <th>Rider Id</th>\n",
              "      <th>Time from Pickup to Arrival</th>\n",
              "    </tr>\n",
              "  </thead>\n",
              "  <tbody>\n",
              "    <tr>\n",
              "      <th>0</th>\n",
              "      <td>Order_No_4211</td>\n",
              "      <td>User_Id_633</td>\n",
              "      <td>Bike</td>\n",
              "      <td>3</td>\n",
              "      <td>Business</td>\n",
              "      <td>9</td>\n",
              "      <td>5</td>\n",
              "      <td>9:35:46 AM</td>\n",
              "      <td>9</td>\n",
              "      <td>5</td>\n",
              "      <td>...</td>\n",
              "      <td>10:39:55 AM</td>\n",
              "      <td>4</td>\n",
              "      <td>20.4</td>\n",
              "      <td>NaN</td>\n",
              "      <td>-1.317755</td>\n",
              "      <td>36.830370</td>\n",
              "      <td>-1.300406</td>\n",
              "      <td>36.829741</td>\n",
              "      <td>Rider_Id_432</td>\n",
              "      <td>745</td>\n",
              "    </tr>\n",
              "    <tr>\n",
              "      <th>1</th>\n",
              "      <td>Order_No_25375</td>\n",
              "      <td>User_Id_2285</td>\n",
              "      <td>Bike</td>\n",
              "      <td>3</td>\n",
              "      <td>Personal</td>\n",
              "      <td>12</td>\n",
              "      <td>5</td>\n",
              "      <td>11:16:16 AM</td>\n",
              "      <td>12</td>\n",
              "      <td>5</td>\n",
              "      <td>...</td>\n",
              "      <td>12:17:22 PM</td>\n",
              "      <td>16</td>\n",
              "      <td>26.4</td>\n",
              "      <td>NaN</td>\n",
              "      <td>-1.351453</td>\n",
              "      <td>36.899315</td>\n",
              "      <td>-1.295004</td>\n",
              "      <td>36.814358</td>\n",
              "      <td>Rider_Id_856</td>\n",
              "      <td>1993</td>\n",
              "    </tr>\n",
              "    <tr>\n",
              "      <th>2</th>\n",
              "      <td>Order_No_1899</td>\n",
              "      <td>User_Id_265</td>\n",
              "      <td>Bike</td>\n",
              "      <td>3</td>\n",
              "      <td>Business</td>\n",
              "      <td>30</td>\n",
              "      <td>2</td>\n",
              "      <td>12:39:25 PM</td>\n",
              "      <td>30</td>\n",
              "      <td>2</td>\n",
              "      <td>...</td>\n",
              "      <td>1:00:38 PM</td>\n",
              "      <td>3</td>\n",
              "      <td>NaN</td>\n",
              "      <td>NaN</td>\n",
              "      <td>-1.308284</td>\n",
              "      <td>36.843419</td>\n",
              "      <td>-1.300921</td>\n",
              "      <td>36.828195</td>\n",
              "      <td>Rider_Id_155</td>\n",
              "      <td>455</td>\n",
              "    </tr>\n",
              "    <tr>\n",
              "      <th>3</th>\n",
              "      <td>Order_No_9336</td>\n",
              "      <td>User_Id_1402</td>\n",
              "      <td>Bike</td>\n",
              "      <td>3</td>\n",
              "      <td>Business</td>\n",
              "      <td>15</td>\n",
              "      <td>5</td>\n",
              "      <td>9:25:34 AM</td>\n",
              "      <td>15</td>\n",
              "      <td>5</td>\n",
              "      <td>...</td>\n",
              "      <td>10:05:27 AM</td>\n",
              "      <td>9</td>\n",
              "      <td>19.2</td>\n",
              "      <td>NaN</td>\n",
              "      <td>-1.281301</td>\n",
              "      <td>36.832396</td>\n",
              "      <td>-1.257147</td>\n",
              "      <td>36.795063</td>\n",
              "      <td>Rider_Id_855</td>\n",
              "      <td>1341</td>\n",
              "    </tr>\n",
              "    <tr>\n",
              "      <th>4</th>\n",
              "      <td>Order_No_27883</td>\n",
              "      <td>User_Id_1737</td>\n",
              "      <td>Bike</td>\n",
              "      <td>1</td>\n",
              "      <td>Personal</td>\n",
              "      <td>13</td>\n",
              "      <td>1</td>\n",
              "      <td>9:55:18 AM</td>\n",
              "      <td>13</td>\n",
              "      <td>1</td>\n",
              "      <td>...</td>\n",
              "      <td>10:25:37 AM</td>\n",
              "      <td>9</td>\n",
              "      <td>15.4</td>\n",
              "      <td>NaN</td>\n",
              "      <td>-1.266597</td>\n",
              "      <td>36.792118</td>\n",
              "      <td>-1.295041</td>\n",
              "      <td>36.809817</td>\n",
              "      <td>Rider_Id_770</td>\n",
              "      <td>1214</td>\n",
              "    </tr>\n",
              "  </tbody>\n",
              "</table>\n",
              "<p>5 rows × 29 columns</p>\n",
              "</div>"
            ],
            "text/plain": [
              "         Order No       User Id Vehicle Type  Platform Type  \\\n",
              "0   Order_No_4211   User_Id_633         Bike              3   \n",
              "1  Order_No_25375  User_Id_2285         Bike              3   \n",
              "2   Order_No_1899   User_Id_265         Bike              3   \n",
              "3   Order_No_9336  User_Id_1402         Bike              3   \n",
              "4  Order_No_27883  User_Id_1737         Bike              1   \n",
              "\n",
              "  Personal or Business  Placement - Day of Month  \\\n",
              "0             Business                         9   \n",
              "1             Personal                        12   \n",
              "2             Business                        30   \n",
              "3             Business                        15   \n",
              "4             Personal                        13   \n",
              "\n",
              "   Placement - Weekday (Mo = 1) Placement - Time  Confirmation - Day of Month  \\\n",
              "0                             5       9:35:46 AM                            9   \n",
              "1                             5      11:16:16 AM                           12   \n",
              "2                             2      12:39:25 PM                           30   \n",
              "3                             5       9:25:34 AM                           15   \n",
              "4                             1       9:55:18 AM                           13   \n",
              "\n",
              "   Confirmation - Weekday (Mo = 1)  ... Arrival at Destination - Time  \\\n",
              "0                                5  ...                   10:39:55 AM   \n",
              "1                                5  ...                   12:17:22 PM   \n",
              "2                                2  ...                    1:00:38 PM   \n",
              "3                                5  ...                   10:05:27 AM   \n",
              "4                                1  ...                   10:25:37 AM   \n",
              "\n",
              "   Distance (KM)  Temperature Precipitation in millimeters  Pickup Lat  \\\n",
              "0              4         20.4                          NaN   -1.317755   \n",
              "1             16         26.4                          NaN   -1.351453   \n",
              "2              3          NaN                          NaN   -1.308284   \n",
              "3              9         19.2                          NaN   -1.281301   \n",
              "4              9         15.4                          NaN   -1.266597   \n",
              "\n",
              "   Pickup Long Destination Lat  Destination Long      Rider Id  \\\n",
              "0    36.830370       -1.300406         36.829741  Rider_Id_432   \n",
              "1    36.899315       -1.295004         36.814358  Rider_Id_856   \n",
              "2    36.843419       -1.300921         36.828195  Rider_Id_155   \n",
              "3    36.832396       -1.257147         36.795063  Rider_Id_855   \n",
              "4    36.792118       -1.295041         36.809817  Rider_Id_770   \n",
              "\n",
              "  Time from Pickup to Arrival  \n",
              "0                         745  \n",
              "1                        1993  \n",
              "2                         455  \n",
              "3                        1341  \n",
              "4                        1214  \n",
              "\n",
              "[5 rows x 29 columns]"
            ]
          },
          "metadata": {
            "tags": []
          },
          "execution_count": 11
        }
      ]
    },
    {
      "cell_type": "code",
      "metadata": {
        "colab_type": "code",
        "id": "cdBUv3S29h0s",
        "outputId": "e4d4aa72-2230-4f90-9f23-adc46259d742",
        "colab": {
          "base_uri": "https://localhost:8080/",
          "height": 417
        }
      },
      "source": [
        "# check test data\n",
        "test_df.head()"
      ],
      "execution_count": 0,
      "outputs": [
        {
          "output_type": "execute_result",
          "data": {
            "text/html": [
              "<div>\n",
              "<style scoped>\n",
              "    .dataframe tbody tr th:only-of-type {\n",
              "        vertical-align: middle;\n",
              "    }\n",
              "\n",
              "    .dataframe tbody tr th {\n",
              "        vertical-align: top;\n",
              "    }\n",
              "\n",
              "    .dataframe thead th {\n",
              "        text-align: right;\n",
              "    }\n",
              "</style>\n",
              "<table border=\"1\" class=\"dataframe\">\n",
              "  <thead>\n",
              "    <tr style=\"text-align: right;\">\n",
              "      <th></th>\n",
              "      <th>Order No</th>\n",
              "      <th>User Id</th>\n",
              "      <th>Vehicle Type</th>\n",
              "      <th>Platform Type</th>\n",
              "      <th>Personal or Business</th>\n",
              "      <th>Placement - Day of Month</th>\n",
              "      <th>Placement - Weekday (Mo = 1)</th>\n",
              "      <th>Placement - Time</th>\n",
              "      <th>Confirmation - Day of Month</th>\n",
              "      <th>Confirmation - Weekday (Mo = 1)</th>\n",
              "      <th>...</th>\n",
              "      <th>Pickup - Weekday (Mo = 1)</th>\n",
              "      <th>Pickup - Time</th>\n",
              "      <th>Distance (KM)</th>\n",
              "      <th>Temperature</th>\n",
              "      <th>Precipitation in millimeters</th>\n",
              "      <th>Pickup Lat</th>\n",
              "      <th>Pickup Long</th>\n",
              "      <th>Destination Lat</th>\n",
              "      <th>Destination Long</th>\n",
              "      <th>Rider Id</th>\n",
              "    </tr>\n",
              "  </thead>\n",
              "  <tbody>\n",
              "    <tr>\n",
              "      <th>0</th>\n",
              "      <td>Order_No_19248</td>\n",
              "      <td>User_Id_3355</td>\n",
              "      <td>Bike</td>\n",
              "      <td>3</td>\n",
              "      <td>Business</td>\n",
              "      <td>27</td>\n",
              "      <td>3</td>\n",
              "      <td>4:44:10 PM</td>\n",
              "      <td>27</td>\n",
              "      <td>3</td>\n",
              "      <td>...</td>\n",
              "      <td>3</td>\n",
              "      <td>5:06:47 PM</td>\n",
              "      <td>8</td>\n",
              "      <td>NaN</td>\n",
              "      <td>NaN</td>\n",
              "      <td>-1.333275</td>\n",
              "      <td>36.870815</td>\n",
              "      <td>-1.305249</td>\n",
              "      <td>36.822390</td>\n",
              "      <td>Rider_Id_192</td>\n",
              "    </tr>\n",
              "    <tr>\n",
              "      <th>1</th>\n",
              "      <td>Order_No_12736</td>\n",
              "      <td>User_Id_3647</td>\n",
              "      <td>Bike</td>\n",
              "      <td>3</td>\n",
              "      <td>Business</td>\n",
              "      <td>17</td>\n",
              "      <td>5</td>\n",
              "      <td>12:57:35 PM</td>\n",
              "      <td>17</td>\n",
              "      <td>5</td>\n",
              "      <td>...</td>\n",
              "      <td>5</td>\n",
              "      <td>1:25:37 PM</td>\n",
              "      <td>5</td>\n",
              "      <td>NaN</td>\n",
              "      <td>NaN</td>\n",
              "      <td>-1.272639</td>\n",
              "      <td>36.794723</td>\n",
              "      <td>-1.277007</td>\n",
              "      <td>36.823907</td>\n",
              "      <td>Rider_Id_868</td>\n",
              "    </tr>\n",
              "    <tr>\n",
              "      <th>2</th>\n",
              "      <td>Order_No_768</td>\n",
              "      <td>User_Id_2154</td>\n",
              "      <td>Bike</td>\n",
              "      <td>3</td>\n",
              "      <td>Business</td>\n",
              "      <td>27</td>\n",
              "      <td>4</td>\n",
              "      <td>11:08:14 AM</td>\n",
              "      <td>27</td>\n",
              "      <td>4</td>\n",
              "      <td>...</td>\n",
              "      <td>4</td>\n",
              "      <td>11:57:54 AM</td>\n",
              "      <td>5</td>\n",
              "      <td>22.8</td>\n",
              "      <td>NaN</td>\n",
              "      <td>-1.290894</td>\n",
              "      <td>36.822971</td>\n",
              "      <td>-1.276574</td>\n",
              "      <td>36.851365</td>\n",
              "      <td>Rider_Id_26</td>\n",
              "    </tr>\n",
              "    <tr>\n",
              "      <th>3</th>\n",
              "      <td>Order_No_15332</td>\n",
              "      <td>User_Id_2910</td>\n",
              "      <td>Bike</td>\n",
              "      <td>3</td>\n",
              "      <td>Business</td>\n",
              "      <td>17</td>\n",
              "      <td>1</td>\n",
              "      <td>1:51:35 PM</td>\n",
              "      <td>17</td>\n",
              "      <td>1</td>\n",
              "      <td>...</td>\n",
              "      <td>1</td>\n",
              "      <td>2:16:52 PM</td>\n",
              "      <td>5</td>\n",
              "      <td>24.5</td>\n",
              "      <td>NaN</td>\n",
              "      <td>-1.290503</td>\n",
              "      <td>36.809646</td>\n",
              "      <td>-1.303382</td>\n",
              "      <td>36.790658</td>\n",
              "      <td>Rider_Id_685</td>\n",
              "    </tr>\n",
              "    <tr>\n",
              "      <th>4</th>\n",
              "      <td>Order_No_21373</td>\n",
              "      <td>User_Id_1205</td>\n",
              "      <td>Bike</td>\n",
              "      <td>3</td>\n",
              "      <td>Business</td>\n",
              "      <td>11</td>\n",
              "      <td>2</td>\n",
              "      <td>11:30:28 AM</td>\n",
              "      <td>11</td>\n",
              "      <td>2</td>\n",
              "      <td>...</td>\n",
              "      <td>2</td>\n",
              "      <td>11:56:04 AM</td>\n",
              "      <td>6</td>\n",
              "      <td>24.4</td>\n",
              "      <td>NaN</td>\n",
              "      <td>-1.281081</td>\n",
              "      <td>36.814423</td>\n",
              "      <td>-1.266467</td>\n",
              "      <td>36.792161</td>\n",
              "      <td>Rider_Id_858</td>\n",
              "    </tr>\n",
              "  </tbody>\n",
              "</table>\n",
              "<p>5 rows × 25 columns</p>\n",
              "</div>"
            ],
            "text/plain": [
              "         Order No       User Id Vehicle Type  Platform Type  \\\n",
              "0  Order_No_19248  User_Id_3355         Bike              3   \n",
              "1  Order_No_12736  User_Id_3647         Bike              3   \n",
              "2    Order_No_768  User_Id_2154         Bike              3   \n",
              "3  Order_No_15332  User_Id_2910         Bike              3   \n",
              "4  Order_No_21373  User_Id_1205         Bike              3   \n",
              "\n",
              "  Personal or Business  Placement - Day of Month  \\\n",
              "0             Business                        27   \n",
              "1             Business                        17   \n",
              "2             Business                        27   \n",
              "3             Business                        17   \n",
              "4             Business                        11   \n",
              "\n",
              "   Placement - Weekday (Mo = 1) Placement - Time  Confirmation - Day of Month  \\\n",
              "0                             3       4:44:10 PM                           27   \n",
              "1                             5      12:57:35 PM                           17   \n",
              "2                             4      11:08:14 AM                           27   \n",
              "3                             1       1:51:35 PM                           17   \n",
              "4                             2      11:30:28 AM                           11   \n",
              "\n",
              "   Confirmation - Weekday (Mo = 1)  ... Pickup - Weekday (Mo = 1)  \\\n",
              "0                                3  ...                         3   \n",
              "1                                5  ...                         5   \n",
              "2                                4  ...                         4   \n",
              "3                                1  ...                         1   \n",
              "4                                2  ...                         2   \n",
              "\n",
              "   Pickup - Time  Distance (KM) Temperature  Precipitation in millimeters  \\\n",
              "0     5:06:47 PM              8         NaN                           NaN   \n",
              "1     1:25:37 PM              5         NaN                           NaN   \n",
              "2    11:57:54 AM              5        22.8                           NaN   \n",
              "3     2:16:52 PM              5        24.5                           NaN   \n",
              "4    11:56:04 AM              6        24.4                           NaN   \n",
              "\n",
              "   Pickup Lat Pickup Long  Destination Lat  Destination Long      Rider Id  \n",
              "0   -1.333275   36.870815        -1.305249         36.822390  Rider_Id_192  \n",
              "1   -1.272639   36.794723        -1.277007         36.823907  Rider_Id_868  \n",
              "2   -1.290894   36.822971        -1.276574         36.851365   Rider_Id_26  \n",
              "3   -1.290503   36.809646        -1.303382         36.790658  Rider_Id_685  \n",
              "4   -1.281081   36.814423        -1.266467         36.792161  Rider_Id_858  \n",
              "\n",
              "[5 rows x 25 columns]"
            ]
          },
          "metadata": {
            "tags": []
          },
          "execution_count": 12
        }
      ]
    },
    {
      "cell_type": "code",
      "metadata": {
        "colab_type": "code",
        "id": "cmEoQ1JC9h0y",
        "outputId": "91153641-7e1a-4ea6-c0e2-efe3274c5275",
        "colab": {
          "base_uri": "https://localhost:8080/",
          "height": 206
        }
      },
      "source": [
        "# check riders\n",
        "riders_df.head()"
      ],
      "execution_count": 0,
      "outputs": [
        {
          "output_type": "execute_result",
          "data": {
            "text/html": [
              "<div>\n",
              "<style scoped>\n",
              "    .dataframe tbody tr th:only-of-type {\n",
              "        vertical-align: middle;\n",
              "    }\n",
              "\n",
              "    .dataframe tbody tr th {\n",
              "        vertical-align: top;\n",
              "    }\n",
              "\n",
              "    .dataframe thead th {\n",
              "        text-align: right;\n",
              "    }\n",
              "</style>\n",
              "<table border=\"1\" class=\"dataframe\">\n",
              "  <thead>\n",
              "    <tr style=\"text-align: right;\">\n",
              "      <th></th>\n",
              "      <th>Rider Id</th>\n",
              "      <th>No_Of_Orders</th>\n",
              "      <th>Age</th>\n",
              "      <th>Average_Rating</th>\n",
              "      <th>No_of_Ratings</th>\n",
              "    </tr>\n",
              "  </thead>\n",
              "  <tbody>\n",
              "    <tr>\n",
              "      <th>0</th>\n",
              "      <td>Rider_Id_396</td>\n",
              "      <td>2946</td>\n",
              "      <td>2298</td>\n",
              "      <td>14.0</td>\n",
              "      <td>1159</td>\n",
              "    </tr>\n",
              "    <tr>\n",
              "      <th>1</th>\n",
              "      <td>Rider_Id_479</td>\n",
              "      <td>360</td>\n",
              "      <td>951</td>\n",
              "      <td>13.5</td>\n",
              "      <td>176</td>\n",
              "    </tr>\n",
              "    <tr>\n",
              "      <th>2</th>\n",
              "      <td>Rider_Id_648</td>\n",
              "      <td>1746</td>\n",
              "      <td>821</td>\n",
              "      <td>14.3</td>\n",
              "      <td>466</td>\n",
              "    </tr>\n",
              "    <tr>\n",
              "      <th>3</th>\n",
              "      <td>Rider_Id_753</td>\n",
              "      <td>314</td>\n",
              "      <td>980</td>\n",
              "      <td>12.5</td>\n",
              "      <td>75</td>\n",
              "    </tr>\n",
              "    <tr>\n",
              "      <th>4</th>\n",
              "      <td>Rider_Id_335</td>\n",
              "      <td>536</td>\n",
              "      <td>1113</td>\n",
              "      <td>13.7</td>\n",
              "      <td>156</td>\n",
              "    </tr>\n",
              "  </tbody>\n",
              "</table>\n",
              "</div>"
            ],
            "text/plain": [
              "       Rider Id  No_Of_Orders   Age  Average_Rating  No_of_Ratings\n",
              "0  Rider_Id_396          2946  2298            14.0           1159\n",
              "1  Rider_Id_479           360   951            13.5            176\n",
              "2  Rider_Id_648          1746   821            14.3            466\n",
              "3  Rider_Id_753           314   980            12.5             75\n",
              "4  Rider_Id_335           536  1113            13.7            156"
            ]
          },
          "metadata": {
            "tags": []
          },
          "execution_count": 13
        }
      ]
    },
    {
      "cell_type": "code",
      "metadata": {
        "colab_type": "code",
        "id": "8d8q5UaP9h03",
        "outputId": "58e60d52-0530-4f19-bf63-7f80bd97719b",
        "colab": {
          "base_uri": "https://localhost:8080/",
          "height": 206
        }
      },
      "source": [
        "# Check variable definitions\n",
        "variable_definitions_df.head()"
      ],
      "execution_count": 0,
      "outputs": [
        {
          "output_type": "execute_result",
          "data": {
            "text/html": [
              "<div>\n",
              "<style scoped>\n",
              "    .dataframe tbody tr th:only-of-type {\n",
              "        vertical-align: middle;\n",
              "    }\n",
              "\n",
              "    .dataframe tbody tr th {\n",
              "        vertical-align: top;\n",
              "    }\n",
              "\n",
              "    .dataframe thead th {\n",
              "        text-align: right;\n",
              "    }\n",
              "</style>\n",
              "<table border=\"1\" class=\"dataframe\">\n",
              "  <thead>\n",
              "    <tr style=\"text-align: right;\">\n",
              "      <th></th>\n",
              "      <th>Variable</th>\n",
              "      <th>Definition</th>\n",
              "    </tr>\n",
              "  </thead>\n",
              "  <tbody>\n",
              "    <tr>\n",
              "      <th>0</th>\n",
              "      <td>Order No</td>\n",
              "      <td>Unique number identifying the order</td>\n",
              "    </tr>\n",
              "    <tr>\n",
              "      <th>1</th>\n",
              "      <td>User Id</td>\n",
              "      <td>Unique number identifying the customer on a pl...</td>\n",
              "    </tr>\n",
              "    <tr>\n",
              "      <th>2</th>\n",
              "      <td>Vehicle Type</td>\n",
              "      <td>For this competition limited to bikes, however...</td>\n",
              "    </tr>\n",
              "    <tr>\n",
              "      <th>3</th>\n",
              "      <td>Platform Type</td>\n",
              "      <td>Platform used to place the order, there are 4 ...</td>\n",
              "    </tr>\n",
              "    <tr>\n",
              "      <th>4</th>\n",
              "      <td>Personal or Business</td>\n",
              "      <td>Customer type</td>\n",
              "    </tr>\n",
              "  </tbody>\n",
              "</table>\n",
              "</div>"
            ],
            "text/plain": [
              "               Variable                                         Definition\n",
              "0              Order No                Unique number identifying the order\n",
              "1               User Id  Unique number identifying the customer on a pl...\n",
              "2          Vehicle Type  For this competition limited to bikes, however...\n",
              "3         Platform Type  Platform used to place the order, there are 4 ...\n",
              "4  Personal or Business                                      Customer type"
            ]
          },
          "metadata": {
            "tags": []
          },
          "execution_count": 14
        }
      ]
    },
    {
      "cell_type": "code",
      "metadata": {
        "colab_type": "code",
        "id": "s17AxFmN9h08",
        "outputId": "e02e8045-f8c2-4a65-d595-4b431152f128",
        "scrolled": true,
        "colab": {
          "base_uri": "https://localhost:8080/",
          "height": 206
        }
      },
      "source": [
        "# check sample submission\n",
        "sample_submission_df.head()"
      ],
      "execution_count": 0,
      "outputs": [
        {
          "output_type": "execute_result",
          "data": {
            "text/html": [
              "<div>\n",
              "<style scoped>\n",
              "    .dataframe tbody tr th:only-of-type {\n",
              "        vertical-align: middle;\n",
              "    }\n",
              "\n",
              "    .dataframe tbody tr th {\n",
              "        vertical-align: top;\n",
              "    }\n",
              "\n",
              "    .dataframe thead th {\n",
              "        text-align: right;\n",
              "    }\n",
              "</style>\n",
              "<table border=\"1\" class=\"dataframe\">\n",
              "  <thead>\n",
              "    <tr style=\"text-align: right;\">\n",
              "      <th></th>\n",
              "      <th>Order_No</th>\n",
              "      <th>Time from Pickup to Arrival</th>\n",
              "    </tr>\n",
              "  </thead>\n",
              "  <tbody>\n",
              "    <tr>\n",
              "      <th>0</th>\n",
              "      <td>Order_No_19248</td>\n",
              "      <td>567.0</td>\n",
              "    </tr>\n",
              "    <tr>\n",
              "      <th>1</th>\n",
              "      <td>Order_No_12736</td>\n",
              "      <td>4903.0</td>\n",
              "    </tr>\n",
              "    <tr>\n",
              "      <th>2</th>\n",
              "      <td>Order_No_768</td>\n",
              "      <td>5649.0</td>\n",
              "    </tr>\n",
              "    <tr>\n",
              "      <th>3</th>\n",
              "      <td>Order_No_15332</td>\n",
              "      <td>NaN</td>\n",
              "    </tr>\n",
              "    <tr>\n",
              "      <th>4</th>\n",
              "      <td>Order_No_21373</td>\n",
              "      <td>NaN</td>\n",
              "    </tr>\n",
              "  </tbody>\n",
              "</table>\n",
              "</div>"
            ],
            "text/plain": [
              "         Order_No  Time from Pickup to Arrival\n",
              "0  Order_No_19248                        567.0\n",
              "1  Order_No_12736                       4903.0\n",
              "2    Order_No_768                       5649.0\n",
              "3  Order_No_15332                          NaN\n",
              "4  Order_No_21373                          NaN"
            ]
          },
          "metadata": {
            "tags": []
          },
          "execution_count": 15
        }
      ]
    },
    {
      "cell_type": "markdown",
      "metadata": {
        "colab_type": "text",
        "id": "y6fe39PS9h1A"
      },
      "source": [
        "#### Prelimenary observation\n",
        "Based on DataFrame previews it can be assumed that of all data were successfully imported. the following data will form part of the regression analysis:\n",
        "* `train_df`\n",
        "* `test_df`\n",
        "* `riders_df`\n",
        "\n",
        "`variable_definitions_df` privides definitions of the variables\n",
        "\n",
        "`sample_submission_df` is a template for the submission of model predictions for this project"
      ]
    },
    {
      "cell_type": "markdown",
      "metadata": {
        "colab_type": "text",
        "id": "t-zu-zg99h1C"
      },
      "source": [
        "## 1.4 Assess Data"
      ]
    },
    {
      "cell_type": "markdown",
      "metadata": {
        "colab_type": "text",
        "id": "bQrj70yS9h1C"
      },
      "source": [
        "### 1.4.1 Assess variable definitions"
      ]
    },
    {
      "cell_type": "code",
      "metadata": {
        "colab_type": "code",
        "id": "H9fxeVN-9h1E",
        "outputId": "74da3a19-6d0f-46a4-d796-ff5c77b9506a",
        "colab": {}
      },
      "source": [
        "# Get variable definitions\n",
        "var_num = int()\n",
        "print(f'Number of variables: {len(variable_definitions_df)}\\n',\n",
        "     '======================================= \\n')\n",
        "for var, definition in variable_definitions_df.values:\n",
        "    var_num += 1\n",
        "    print(f'Variable {var_num} \\nName: {var}: \\nDefinition: {definition} \\n')"
      ],
      "execution_count": 0,
      "outputs": [
        {
          "output_type": "stream",
          "text": [
            "Number of variables: 36\n",
            " ======================================= \n",
            "\n",
            "Variable 1 \n",
            "Name: Order No: \n",
            "Definition: Unique number identifying the order \n",
            "\n",
            "Variable 2 \n",
            "Name: User Id: \n",
            "Definition: Unique number identifying the customer on a platform \n",
            "\n",
            "Variable 3 \n",
            "Name: Vehicle Type: \n",
            "Definition: For this competition limited to bikes, however in practice Sendy service extends to trucks and vans \n",
            "\n",
            "Variable 4 \n",
            "Name: Platform Type: \n",
            "Definition: Platform used to place the order, there are 4 types \n",
            "\n",
            "Variable 5 \n",
            "Name: Personal or Business: \n",
            "Definition: Customer type \n",
            "\n",
            "Variable 6 \n",
            "Name: Placement - Day of Month: \n",
            "Definition: Placement - Day of Month i.e 1-31 \n",
            "\n",
            "Variable 7 \n",
            "Name: Placement - Weekday (Mo = 1): \n",
            "Definition: Placement - Weekday (Monday = 1) \n",
            "\n",
            "Variable 8 \n",
            "Name: Placement - Time: \n",
            "Definition: Placement - Time - Time of day the order was placed \n",
            "\n",
            "Variable 9 \n",
            "Name: Confirmation - Day of Month: \n",
            "Definition: Confirmation - Day of Month i.e 1-31 \n",
            "\n",
            "Variable 10 \n",
            "Name: Confirmation - Weekday (Mo = 1): \n",
            "Definition: Confirmation - Weekday (Monday = 1) \n",
            "\n",
            "Variable 11 \n",
            "Name: Confirmation - Time: \n",
            "Definition: Confirmation - Time - Time of day the order was confirmed by a rider \n",
            "\n",
            "Variable 12 \n",
            "Name: Arrival at Pickup - Day of Month: \n",
            "Definition: Arrival at Pickup - Day of Month i.e 1-31 \n",
            "\n",
            "Variable 13 \n",
            "Name: Arrival at Pickup - Weekday (Mo = 1): \n",
            "Definition: Arrival at Pickup - Weekday (Monday = 1) \n",
            "\n",
            "Variable 14 \n",
            "Name: Arrival at Pickup - Time: \n",
            "Definition: Time of day the the rider arrived at the location to pick up the order - as marked by the rider through the Sendy application \n",
            "\n",
            "Variable 15 \n",
            "Name: Pickup - Day of Month: \n",
            "Definition: Pickup - Day of Month i.e 1-31 \n",
            "\n",
            "Variable 16 \n",
            "Name: Pickup - Weekday (Mo = 1): \n",
            "Definition: Pickup - Weekday (Monday = 1) \n",
            "\n",
            "Variable 17 \n",
            "Name: Pickup - Time: \n",
            "Definition: Pickup - Time - Time of day the the rider picked up the order - as marked by the rider through the Sendy application \n",
            "\n",
            "Variable 18 \n",
            "Name: Arrival at Destination - Day of Month: \n",
            "Definition: Arrival at Delivery - Day of Month i.e 1-31 \n",
            "\n",
            "Variable 19 \n",
            "Name: Arrival at Destination - Weekday (Mo = 1): \n",
            "Definition: Arrival at Delivery - Weekday (Monday = 1) \n",
            "\n",
            "Variable 20 \n",
            "Name: Arrival at Destination - Time: \n",
            "Definition: Arrival at Delivery Time - Time of day the rider arrived at the destination to deliver the order - as marked by the rider through the Sendy application \n",
            "\n",
            "Variable 21 \n",
            "Name: Distance (KM): \n",
            "Definition: The distance from Pickup to Destination \n",
            "\n",
            "Variable 22 \n",
            "Name: Temperature: \n",
            "Definition: Temperature at the time of order placement in Degrees Celsius (measured every three hours) \n",
            "\n",
            "Variable 23 \n",
            "Name: Precipitation in millimeters: \n",
            "Definition:  Precipitation at the time of order placement (measured every three hours) \n",
            "\n",
            "Variable 24 \n",
            "Name: Pickup Lat: \n",
            "Definition: Latitude of pick up location \n",
            "\n",
            "Variable 25 \n",
            "Name: Pickup Long: \n",
            "Definition: Longitude of pick up location \n",
            "\n",
            "Variable 26 \n",
            "Name: Destination Lat: \n",
            "Definition: Latitude of delivery location \n",
            "\n",
            "Variable 27 \n",
            "Name: Destination Long: \n",
            "Definition: Longitude of delivery location \n",
            "\n",
            "Variable 28 \n",
            "Name: Rider Id: \n",
            "Definition:  ID of the Rider who accepted the order \n",
            "\n",
            "Variable 29 \n",
            "Name: Time from Pickup to Arrival: \n",
            "Definition: Time in seconds between 'Pickup' and 'Arrival at Destination' - calculated from the columns for the purpose of facilitating the task \n",
            "\n",
            "Variable 30 \n",
            "Name: nan: \n",
            "Definition: nan \n",
            "\n",
            "Variable 31 \n",
            "Name: Rider Metrics: \n",
            "Definition: nan \n",
            "\n",
            "Variable 32 \n",
            "Name: Rider Id: \n",
            "Definition: Unique number identifying the rider (same as in order details) \n",
            "\n",
            "Variable 33 \n",
            "Name: No_Of_Orders: \n",
            "Definition:  Number of Orders the rider has delivered \n",
            "\n",
            "Variable 34 \n",
            "Name: Age: \n",
            "Definition: Number of days since the rider delivered the first order \n",
            "\n",
            "Variable 35 \n",
            "Name: Average_Rating: \n",
            "Definition: Average rating of the rider \n",
            "\n",
            "Variable 36 \n",
            "Name: No_of_Ratings: \n",
            "Definition:  Number of ratings the rider has received. Rating an order is optional for the customer. \n",
            "\n"
          ],
          "name": "stdout"
        }
      ]
    },
    {
      "cell_type": "markdown",
      "metadata": {
        "colab_type": "text",
        "id": "1cK2BvL29h1J"
      },
      "source": [
        "### 1.4.2 Assess dataset dimensions, variables, missing data and data types"
      ]
    },
    {
      "cell_type": "code",
      "metadata": {
        "colab_type": "code",
        "id": "olk8Eg8r9h1J",
        "colab": {}
      },
      "source": [
        "# define function to calculate missing values\n",
        "def missing_values_table(df):\n",
        "    \"\"\"\n",
        "    This function takes a dataframe as input and returns a dataframe\n",
        "    of the number and percentage of missing values as and output.\n",
        "    \"\"\"\n",
        "    mis_val = df.isnull().sum()\n",
        "\n",
        "    mis_val_percent = 100 * df.isnull().sum() / len(df)\n",
        "\n",
        "    mis_val_table = pd.concat([mis_val, mis_val_percent], axis=1)\n",
        "\n",
        "    mis_val_table_ren_columns = mis_val_table.rename(\n",
        "    columns = {0 : 'Missing Values', 1 : '% of Total Values'})\n",
        "\n",
        "    mis_val_table_ren_columns = mis_val_table_ren_columns[\n",
        "        mis_val_table_ren_columns.iloc[:,1] != 0].sort_values(\n",
        "    '% of Total Values', ascending=False).round(1)\n",
        "\n",
        "    print (\"Your selected dataframe has \" + str(df.shape[1]) + \" columns.\\n\"      \n",
        "        \"There are \" + str(mis_val_table_ren_columns.shape[0]) +\n",
        "          \" columns that have missing values.\")\n",
        "\n",
        "    # Return the dataframe with missing information\n",
        "    return mis_val_table_ren_columns"
      ],
      "execution_count": 0,
      "outputs": []
    },
    {
      "cell_type": "code",
      "metadata": {
        "colab_type": "code",
        "id": "BNA57Obr9h1O",
        "outputId": "7fed9a6f-25cc-45e8-be8d-36308b41b7bc",
        "scrolled": true,
        "colab": {
          "base_uri": "https://localhost:8080/",
          "height": 642
        }
      },
      "source": [
        "# Assess Train dataset dimensions, variables and datatypes\n",
        "train_df.info()"
      ],
      "execution_count": 0,
      "outputs": [
        {
          "output_type": "stream",
          "text": [
            "<class 'pandas.core.frame.DataFrame'>\n",
            "RangeIndex: 21201 entries, 0 to 21200\n",
            "Data columns (total 29 columns):\n",
            " #   Column                                     Non-Null Count  Dtype  \n",
            "---  ------                                     --------------  -----  \n",
            " 0   Order No                                   21201 non-null  object \n",
            " 1   User Id                                    21201 non-null  object \n",
            " 2   Vehicle Type                               21201 non-null  object \n",
            " 3   Platform Type                              21201 non-null  int64  \n",
            " 4   Personal or Business                       21201 non-null  object \n",
            " 5   Placement - Day of Month                   21201 non-null  int64  \n",
            " 6   Placement - Weekday (Mo = 1)               21201 non-null  int64  \n",
            " 7   Placement - Time                           21201 non-null  object \n",
            " 8   Confirmation - Day of Month                21201 non-null  int64  \n",
            " 9   Confirmation - Weekday (Mo = 1)            21201 non-null  int64  \n",
            " 10  Confirmation - Time                        21201 non-null  object \n",
            " 11  Arrival at Pickup - Day of Month           21201 non-null  int64  \n",
            " 12  Arrival at Pickup - Weekday (Mo = 1)       21201 non-null  int64  \n",
            " 13  Arrival at Pickup - Time                   21201 non-null  object \n",
            " 14  Pickup - Day of Month                      21201 non-null  int64  \n",
            " 15  Pickup - Weekday (Mo = 1)                  21201 non-null  int64  \n",
            " 16  Pickup - Time                              21201 non-null  object \n",
            " 17  Arrival at Destination - Day of Month      21201 non-null  int64  \n",
            " 18  Arrival at Destination - Weekday (Mo = 1)  21201 non-null  int64  \n",
            " 19  Arrival at Destination - Time              21201 non-null  object \n",
            " 20  Distance (KM)                              21201 non-null  int64  \n",
            " 21  Temperature                                16835 non-null  float64\n",
            " 22  Precipitation in millimeters               552 non-null    float64\n",
            " 23  Pickup Lat                                 21201 non-null  float64\n",
            " 24  Pickup Long                                21201 non-null  float64\n",
            " 25  Destination Lat                            21201 non-null  float64\n",
            " 26  Destination Long                           21201 non-null  float64\n",
            " 27  Rider Id                                   21201 non-null  object \n",
            " 28  Time from Pickup to Arrival                21201 non-null  int64  \n",
            "dtypes: float64(6), int64(13), object(10)\n",
            "memory usage: 4.7+ MB\n"
          ],
          "name": "stdout"
        }
      ]
    },
    {
      "cell_type": "code",
      "metadata": {
        "colab_type": "code",
        "id": "SUtVUBzZ9h1T",
        "outputId": "cafdf47d-8d2a-42db-c5aa-3b4e8321df3b",
        "colab": {
          "base_uri": "https://localhost:8080/",
          "height": 147
        }
      },
      "source": [
        "# Assess Train dataset missing values\n",
        "missing_values_table(train_df)"
      ],
      "execution_count": 0,
      "outputs": [
        {
          "output_type": "stream",
          "text": [
            "Your selected dataframe has 29 columns.\n",
            "There are 2 columns that have missing values.\n"
          ],
          "name": "stdout"
        },
        {
          "output_type": "execute_result",
          "data": {
            "text/html": [
              "<div>\n",
              "<style scoped>\n",
              "    .dataframe tbody tr th:only-of-type {\n",
              "        vertical-align: middle;\n",
              "    }\n",
              "\n",
              "    .dataframe tbody tr th {\n",
              "        vertical-align: top;\n",
              "    }\n",
              "\n",
              "    .dataframe thead th {\n",
              "        text-align: right;\n",
              "    }\n",
              "</style>\n",
              "<table border=\"1\" class=\"dataframe\">\n",
              "  <thead>\n",
              "    <tr style=\"text-align: right;\">\n",
              "      <th></th>\n",
              "      <th>Missing Values</th>\n",
              "      <th>% of Total Values</th>\n",
              "    </tr>\n",
              "  </thead>\n",
              "  <tbody>\n",
              "    <tr>\n",
              "      <th>Precipitation in millimeters</th>\n",
              "      <td>20649</td>\n",
              "      <td>97.4</td>\n",
              "    </tr>\n",
              "    <tr>\n",
              "      <th>Temperature</th>\n",
              "      <td>4366</td>\n",
              "      <td>20.6</td>\n",
              "    </tr>\n",
              "  </tbody>\n",
              "</table>\n",
              "</div>"
            ],
            "text/plain": [
              "                              Missing Values  % of Total Values\n",
              "Precipitation in millimeters           20649               97.4\n",
              "Temperature                             4366               20.6"
            ]
          },
          "metadata": {
            "tags": []
          },
          "execution_count": 14
        }
      ]
    },
    {
      "cell_type": "code",
      "metadata": {
        "colab_type": "code",
        "id": "M1MkBqaR9h1X",
        "outputId": "ca9c25eb-65e6-48b1-b5fc-f41239178e24",
        "scrolled": true,
        "colab": {
          "base_uri": "https://localhost:8080/",
          "height": 573
        }
      },
      "source": [
        "# Assess Test dataset dimensions, variables and datatypes\n",
        "test_df.info()"
      ],
      "execution_count": 0,
      "outputs": [
        {
          "output_type": "stream",
          "text": [
            "<class 'pandas.core.frame.DataFrame'>\n",
            "RangeIndex: 7068 entries, 0 to 7067\n",
            "Data columns (total 25 columns):\n",
            " #   Column                                Non-Null Count  Dtype  \n",
            "---  ------                                --------------  -----  \n",
            " 0   Order No                              7068 non-null   object \n",
            " 1   User Id                               7068 non-null   object \n",
            " 2   Vehicle Type                          7068 non-null   object \n",
            " 3   Platform Type                         7068 non-null   int64  \n",
            " 4   Personal or Business                  7068 non-null   object \n",
            " 5   Placement - Day of Month              7068 non-null   int64  \n",
            " 6   Placement - Weekday (Mo = 1)          7068 non-null   int64  \n",
            " 7   Placement - Time                      7068 non-null   object \n",
            " 8   Confirmation - Day of Month           7068 non-null   int64  \n",
            " 9   Confirmation - Weekday (Mo = 1)       7068 non-null   int64  \n",
            " 10  Confirmation - Time                   7068 non-null   object \n",
            " 11  Arrival at Pickup - Day of Month      7068 non-null   int64  \n",
            " 12  Arrival at Pickup - Weekday (Mo = 1)  7068 non-null   int64  \n",
            " 13  Arrival at Pickup - Time              7068 non-null   object \n",
            " 14  Pickup - Day of Month                 7068 non-null   int64  \n",
            " 15  Pickup - Weekday (Mo = 1)             7068 non-null   int64  \n",
            " 16  Pickup - Time                         7068 non-null   object \n",
            " 17  Distance (KM)                         7068 non-null   int64  \n",
            " 18  Temperature                           5631 non-null   float64\n",
            " 19  Precipitation in millimeters          199 non-null    float64\n",
            " 20  Pickup Lat                            7068 non-null   float64\n",
            " 21  Pickup Long                           7068 non-null   float64\n",
            " 22  Destination Lat                       7068 non-null   float64\n",
            " 23  Destination Long                      7068 non-null   float64\n",
            " 24  Rider Id                              7068 non-null   object \n",
            "dtypes: float64(6), int64(10), object(9)\n",
            "memory usage: 1.3+ MB\n"
          ],
          "name": "stdout"
        }
      ]
    },
    {
      "cell_type": "code",
      "metadata": {
        "colab_type": "code",
        "id": "lP7mC2Ok9h1c",
        "outputId": "08574888-b654-4720-ffcc-8aed360e1a2c",
        "colab": {
          "base_uri": "https://localhost:8080/",
          "height": 147
        }
      },
      "source": [
        "# Assess Test dataset missing values\n",
        "missing_values_table(test_df)"
      ],
      "execution_count": 0,
      "outputs": [
        {
          "output_type": "stream",
          "text": [
            "Your selected dataframe has 25 columns.\n",
            "There are 2 columns that have missing values.\n"
          ],
          "name": "stdout"
        },
        {
          "output_type": "execute_result",
          "data": {
            "text/html": [
              "<div>\n",
              "<style scoped>\n",
              "    .dataframe tbody tr th:only-of-type {\n",
              "        vertical-align: middle;\n",
              "    }\n",
              "\n",
              "    .dataframe tbody tr th {\n",
              "        vertical-align: top;\n",
              "    }\n",
              "\n",
              "    .dataframe thead th {\n",
              "        text-align: right;\n",
              "    }\n",
              "</style>\n",
              "<table border=\"1\" class=\"dataframe\">\n",
              "  <thead>\n",
              "    <tr style=\"text-align: right;\">\n",
              "      <th></th>\n",
              "      <th>Missing Values</th>\n",
              "      <th>% of Total Values</th>\n",
              "    </tr>\n",
              "  </thead>\n",
              "  <tbody>\n",
              "    <tr>\n",
              "      <th>Precipitation in millimeters</th>\n",
              "      <td>6869</td>\n",
              "      <td>97.2</td>\n",
              "    </tr>\n",
              "    <tr>\n",
              "      <th>Temperature</th>\n",
              "      <td>1437</td>\n",
              "      <td>20.3</td>\n",
              "    </tr>\n",
              "  </tbody>\n",
              "</table>\n",
              "</div>"
            ],
            "text/plain": [
              "                              Missing Values  % of Total Values\n",
              "Precipitation in millimeters            6869               97.2\n",
              "Temperature                             1437               20.3"
            ]
          },
          "metadata": {
            "tags": []
          },
          "execution_count": 16
        }
      ]
    },
    {
      "cell_type": "code",
      "metadata": {
        "colab_type": "code",
        "id": "nCo_LfO_9h1g",
        "outputId": "6787fe5a-3591-41e2-aaa0-4474ec4fd54a",
        "colab": {
          "base_uri": "https://localhost:8080/",
          "height": 225
        }
      },
      "source": [
        "# Assess rider dataset dimensions, variables and datatypes\n",
        "riders_df.info()"
      ],
      "execution_count": 0,
      "outputs": [
        {
          "output_type": "stream",
          "text": [
            "<class 'pandas.core.frame.DataFrame'>\n",
            "RangeIndex: 960 entries, 0 to 959\n",
            "Data columns (total 5 columns):\n",
            " #   Column          Non-Null Count  Dtype  \n",
            "---  ------          --------------  -----  \n",
            " 0   Rider Id        960 non-null    object \n",
            " 1   No_Of_Orders    960 non-null    int64  \n",
            " 2   Age             960 non-null    int64  \n",
            " 3   Average_Rating  960 non-null    float64\n",
            " 4   No_of_Ratings   960 non-null    int64  \n",
            "dtypes: float64(1), int64(3), object(1)\n",
            "memory usage: 37.6+ KB\n"
          ],
          "name": "stdout"
        }
      ]
    },
    {
      "cell_type": "code",
      "metadata": {
        "colab_type": "code",
        "id": "GMANg1Eg9h1k",
        "outputId": "c3322c9e-1359-462a-8537-6c745f0cead4",
        "scrolled": true,
        "colab": {
          "base_uri": "https://localhost:8080/",
          "height": 84
        }
      },
      "source": [
        "# Assess riders dataset missing values\n",
        "missing_values_table(riders_df)"
      ],
      "execution_count": 0,
      "outputs": [
        {
          "output_type": "stream",
          "text": [
            "Your selected dataframe has 5 columns.\n",
            "There are 0 columns that have missing values.\n"
          ],
          "name": "stdout"
        },
        {
          "output_type": "execute_result",
          "data": {
            "text/html": [
              "<div>\n",
              "<style scoped>\n",
              "    .dataframe tbody tr th:only-of-type {\n",
              "        vertical-align: middle;\n",
              "    }\n",
              "\n",
              "    .dataframe tbody tr th {\n",
              "        vertical-align: top;\n",
              "    }\n",
              "\n",
              "    .dataframe thead th {\n",
              "        text-align: right;\n",
              "    }\n",
              "</style>\n",
              "<table border=\"1\" class=\"dataframe\">\n",
              "  <thead>\n",
              "    <tr style=\"text-align: right;\">\n",
              "      <th></th>\n",
              "      <th>Missing Values</th>\n",
              "      <th>% of Total Values</th>\n",
              "    </tr>\n",
              "  </thead>\n",
              "  <tbody>\n",
              "  </tbody>\n",
              "</table>\n",
              "</div>"
            ],
            "text/plain": [
              "Empty DataFrame\n",
              "Columns: [Missing Values, % of Total Values]\n",
              "Index: []"
            ]
          },
          "metadata": {
            "tags": []
          },
          "execution_count": 18
        }
      ]
    },
    {
      "cell_type": "markdown",
      "metadata": {
        "id": "jnt23UcX_D8J",
        "colab_type": "text"
      },
      "source": [
        "## Data Cleaning for API"
      ]
    },
    {
      "cell_type": "code",
      "metadata": {
        "id": "zF4s5-uh_D8J",
        "colab_type": "code",
        "colab": {}
      },
      "source": [
        "import requests\n",
        "import json"
      ],
      "execution_count": 0,
      "outputs": []
    },
    {
      "cell_type": "code",
      "metadata": {
        "id": "wYiB5OWJ_D8N",
        "colab_type": "code",
        "colab": {}
      },
      "source": [
        "from sklearn.impute import SimpleImputer\n",
        "from sklearn.model_selection import train_test_split\n",
        "from sklearn.preprocessing import StandardScaler"
      ],
      "execution_count": 0,
      "outputs": []
    },
    {
      "cell_type": "code",
      "metadata": {
        "id": "rSsNdpX7_D8S",
        "colab_type": "code",
        "colab": {}
      },
      "source": [
        "list_predictors = ['Distance (KM)', 'Temperature', 'Pickup - Day of Month',\n",
        "'Confirmation - Weekday (Mo = 1)', 'Platform Type']\n",
        "\n",
        "response = 'Time from Pickup to Arrival'"
      ],
      "execution_count": 0,
      "outputs": []
    },
    {
      "cell_type": "code",
      "metadata": {
        "id": "ATEvES0w_D8V",
        "colab_type": "code",
        "colab": {},
        "outputId": "3e289c64-b319-4996-fb39-4ba6d7c32213"
      },
      "source": [
        "post = test_df.iloc[1].to_json()\n",
        "post"
      ],
      "execution_count": 0,
      "outputs": [
        {
          "output_type": "execute_result",
          "data": {
            "text/plain": [
              "'{\"Order No\":\"Order_No_12736\",\"User Id\":\"User_Id_3647\",\"Vehicle Type\":\"Bike\",\"Platform Type\":3,\"Personal or Business\":\"Business\",\"Placement - Day of Month\":17,\"Placement - Weekday (Mo = 1)\":5,\"Placement - Time\":\"12:57:35 PM\",\"Confirmation - Day of Month\":17,\"Confirmation - Weekday (Mo = 1)\":5,\"Confirmation - Time\":\"12:59:17 PM\",\"Arrival at Pickup - Day of Month\":17,\"Arrival at Pickup - Weekday (Mo = 1)\":5,\"Arrival at Pickup - Time\":\"1:20:27 PM\",\"Pickup - Day of Month\":17,\"Pickup - Weekday (Mo = 1)\":5,\"Pickup - Time\":\"1:25:37 PM\",\"Distance (KM)\":5,\"Temperature\":null,\"Precipitation in millimeters\":null,\"Pickup Lat\":-1.272639,\"Pickup Long\":36.794723,\"Destination Lat\":-1.2770066,\"Destination Long\":36.8239068,\"Rider Id\":\"Rider_Id_868\"}'"
            ]
          },
          "metadata": {
            "tags": []
          },
          "execution_count": 41
        }
      ]
    },
    {
      "cell_type": "code",
      "metadata": {
        "id": "accyucAZ_D8Z",
        "colab_type": "code",
        "colab": {}
      },
      "source": [
        "from flask import Flask, request, jsonify"
      ],
      "execution_count": 0,
      "outputs": []
    },
    {
      "cell_type": "code",
      "metadata": {
        "id": "CaNDJMRH_D8e",
        "colab_type": "code",
        "colab": {},
        "outputId": "d6dbb7f9-1486-4c36-879f-6e7ae40e93df"
      },
      "source": [
        "json.loads(post)"
      ],
      "execution_count": 0,
      "outputs": [
        {
          "output_type": "execute_result",
          "data": {
            "text/plain": [
              "{'Order No': 'Order_No_12736',\n",
              " 'User Id': 'User_Id_3647',\n",
              " 'Vehicle Type': 'Bike',\n",
              " 'Platform Type': 3,\n",
              " 'Personal or Business': 'Business',\n",
              " 'Placement - Day of Month': 17,\n",
              " 'Placement - Weekday (Mo = 1)': 5,\n",
              " 'Placement - Time': '12:57:35 PM',\n",
              " 'Confirmation - Day of Month': 17,\n",
              " 'Confirmation - Weekday (Mo = 1)': 5,\n",
              " 'Confirmation - Time': '12:59:17 PM',\n",
              " 'Arrival at Pickup - Day of Month': 17,\n",
              " 'Arrival at Pickup - Weekday (Mo = 1)': 5,\n",
              " 'Arrival at Pickup - Time': '1:20:27 PM',\n",
              " 'Pickup - Day of Month': 17,\n",
              " 'Pickup - Weekday (Mo = 1)': 5,\n",
              " 'Pickup - Time': '1:25:37 PM',\n",
              " 'Distance (KM)': 5,\n",
              " 'Temperature': None,\n",
              " 'Precipitation in millimeters': None,\n",
              " 'Pickup Lat': -1.272639,\n",
              " 'Pickup Long': 36.794723,\n",
              " 'Destination Lat': -1.2770066,\n",
              " 'Destination Long': 36.8239068,\n",
              " 'Rider Id': 'Rider_Id_868'}"
            ]
          },
          "metadata": {
            "tags": []
          },
          "execution_count": 43
        }
      ]
    },
    {
      "cell_type": "code",
      "metadata": {
        "id": "1ZiYGrzc_D8i",
        "colab_type": "code",
        "colab": {},
        "outputId": "aa8eeeb5-fdfb-498b-fe48-2f08a3a9dc03"
      },
      "source": [
        "# Convert the json string to a python dictionary object\n",
        "feature_vector_dict = json.loads(post)\n",
        "\n",
        "# Load the dictionary as a Pandas DataFrame.\n",
        "feature_vector_df = pd.DataFrame.from_dict([feature_vector_dict])\n",
        "feature_vector_df"
      ],
      "execution_count": 0,
      "outputs": [
        {
          "output_type": "execute_result",
          "data": {
            "text/html": [
              "<div>\n",
              "<style scoped>\n",
              "    .dataframe tbody tr th:only-of-type {\n",
              "        vertical-align: middle;\n",
              "    }\n",
              "\n",
              "    .dataframe tbody tr th {\n",
              "        vertical-align: top;\n",
              "    }\n",
              "\n",
              "    .dataframe thead th {\n",
              "        text-align: right;\n",
              "    }\n",
              "</style>\n",
              "<table border=\"1\" class=\"dataframe\">\n",
              "  <thead>\n",
              "    <tr style=\"text-align: right;\">\n",
              "      <th></th>\n",
              "      <th>Order No</th>\n",
              "      <th>User Id</th>\n",
              "      <th>Vehicle Type</th>\n",
              "      <th>Platform Type</th>\n",
              "      <th>Personal or Business</th>\n",
              "      <th>Placement - Day of Month</th>\n",
              "      <th>Placement - Weekday (Mo = 1)</th>\n",
              "      <th>Placement - Time</th>\n",
              "      <th>Confirmation - Day of Month</th>\n",
              "      <th>Confirmation - Weekday (Mo = 1)</th>\n",
              "      <th>...</th>\n",
              "      <th>Pickup - Weekday (Mo = 1)</th>\n",
              "      <th>Pickup - Time</th>\n",
              "      <th>Distance (KM)</th>\n",
              "      <th>Temperature</th>\n",
              "      <th>Precipitation in millimeters</th>\n",
              "      <th>Pickup Lat</th>\n",
              "      <th>Pickup Long</th>\n",
              "      <th>Destination Lat</th>\n",
              "      <th>Destination Long</th>\n",
              "      <th>Rider Id</th>\n",
              "    </tr>\n",
              "  </thead>\n",
              "  <tbody>\n",
              "    <tr>\n",
              "      <th>0</th>\n",
              "      <td>Order_No_12736</td>\n",
              "      <td>User_Id_3647</td>\n",
              "      <td>Bike</td>\n",
              "      <td>3</td>\n",
              "      <td>Business</td>\n",
              "      <td>17</td>\n",
              "      <td>5</td>\n",
              "      <td>12:57:35 PM</td>\n",
              "      <td>17</td>\n",
              "      <td>5</td>\n",
              "      <td>...</td>\n",
              "      <td>5</td>\n",
              "      <td>1:25:37 PM</td>\n",
              "      <td>5</td>\n",
              "      <td>None</td>\n",
              "      <td>None</td>\n",
              "      <td>-1.272639</td>\n",
              "      <td>36.794723</td>\n",
              "      <td>-1.277007</td>\n",
              "      <td>36.823907</td>\n",
              "      <td>Rider_Id_868</td>\n",
              "    </tr>\n",
              "  </tbody>\n",
              "</table>\n",
              "<p>1 rows × 25 columns</p>\n",
              "</div>"
            ],
            "text/plain": [
              "         Order No       User Id Vehicle Type  Platform Type  \\\n",
              "0  Order_No_12736  User_Id_3647         Bike              3   \n",
              "\n",
              "  Personal or Business  Placement - Day of Month  \\\n",
              "0             Business                        17   \n",
              "\n",
              "   Placement - Weekday (Mo = 1) Placement - Time  Confirmation - Day of Month  \\\n",
              "0                             5      12:57:35 PM                           17   \n",
              "\n",
              "   Confirmation - Weekday (Mo = 1)  ... Pickup - Weekday (Mo = 1)  \\\n",
              "0                                5  ...                         5   \n",
              "\n",
              "   Pickup - Time  Distance (KM) Temperature  Precipitation in millimeters  \\\n",
              "0     1:25:37 PM              5        None                          None   \n",
              "\n",
              "   Pickup Lat Pickup Long  Destination Lat Destination Long      Rider Id  \n",
              "0   -1.272639   36.794723        -1.277007        36.823907  Rider_Id_868  \n",
              "\n",
              "[1 rows x 25 columns]"
            ]
          },
          "metadata": {
            "tags": []
          },
          "execution_count": 49
        }
      ]
    },
    {
      "cell_type": "markdown",
      "metadata": {
        "id": "IEYDO0SV_D8l",
        "colab_type": "text"
      },
      "source": [
        "#### Functions for data cleaning"
      ]
    },
    {
      "cell_type": "code",
      "metadata": {
        "id": "W5XNXyj5_D8m",
        "colab_type": "code",
        "colab": {}
      },
      "source": [
        "def get_train_predictors(X, y, tsize = 0.2, rstate=16):\n",
        "\n",
        "    \"\"\"\n",
        "    This function takes predictor, X, and response, Y, variables and returns\n",
        "    the train data predctor,X_train and response y_train.\n",
        "    \"\"\"\n",
        "\n",
        "    X_train = train_test_split(X, y, test_size = tsize, random_state = rstate)[0]\n",
        "\n",
        "    # y_train = train_test_split(X, y, test_size = tsize, random_state = rstate)[2]\n",
        "\n",
        "    return X_train"
      ],
      "execution_count": 0,
      "outputs": []
    },
    {
      "cell_type": "code",
      "metadata": {
        "id": "Hqb8zTlC_D8q",
        "colab_type": "code",
        "colab": {}
      },
      "source": [
        "def impute_data_median(df, list_features, predict_vector_df):\n",
        "\n",
        "    \"\"\"\n",
        "    This function a dataframe of training data, df, list of features selected for model and datframe of variables\n",
        "    to get a predict from as inputs. It returns a datframe of variables to get a predict from\n",
        "    with null values replced with the median\n",
        "    \"\"\"\n",
        "\n",
        "    # instantiate an imputer object with a median filling strategy\n",
        "    imputer = SimpleImputer(missing_values = np.nan, strategy='median')\n",
        "\n",
        "    # split predictors and response\n",
        "    X = df[list_features].values\n",
        "\n",
        "    y = df['Time from Pickup to Arrival'].values\n",
        "\n",
        "    # extract training data to calibrate missing data\n",
        "    X_train = get_train_data(X, y)\n",
        "\n",
        "    # Calibrate imputation on training data\n",
        "    imputer.fit(X_train)\n",
        "\n",
        "    # replace null values with median\n",
        "    predict_vector = imputer.transform(predict_vector_df.values.reshape(1,-1))\n",
        "    \n",
        "    # convert to dataframe\n",
        "    return pd.DataFrame(predict_vector, columns=list_features)"
      ],
      "execution_count": 0,
      "outputs": []
    },
    {
      "cell_type": "code",
      "metadata": {
        "id": "QcNM2q23_D8t",
        "colab_type": "code",
        "colab": {},
        "outputId": "48270f96-fb85-450c-d716-cac9e39a4e06"
      },
      "source": [
        "feature_vector_df = feature_vector_df[list_predictors]\n",
        "feature_vector_df"
      ],
      "execution_count": 0,
      "outputs": [
        {
          "output_type": "execute_result",
          "data": {
            "text/html": [
              "<div>\n",
              "<style scoped>\n",
              "    .dataframe tbody tr th:only-of-type {\n",
              "        vertical-align: middle;\n",
              "    }\n",
              "\n",
              "    .dataframe tbody tr th {\n",
              "        vertical-align: top;\n",
              "    }\n",
              "\n",
              "    .dataframe thead th {\n",
              "        text-align: right;\n",
              "    }\n",
              "</style>\n",
              "<table border=\"1\" class=\"dataframe\">\n",
              "  <thead>\n",
              "    <tr style=\"text-align: right;\">\n",
              "      <th></th>\n",
              "      <th>Distance (KM)</th>\n",
              "      <th>Temperature</th>\n",
              "      <th>Pickup - Day of Month</th>\n",
              "      <th>Confirmation - Weekday (Mo = 1)</th>\n",
              "      <th>Platform Type</th>\n",
              "    </tr>\n",
              "  </thead>\n",
              "  <tbody>\n",
              "    <tr>\n",
              "      <th>0</th>\n",
              "      <td>5</td>\n",
              "      <td>None</td>\n",
              "      <td>17</td>\n",
              "      <td>5</td>\n",
              "      <td>3</td>\n",
              "    </tr>\n",
              "  </tbody>\n",
              "</table>\n",
              "</div>"
            ],
            "text/plain": [
              "   Distance (KM) Temperature  Pickup - Day of Month  \\\n",
              "0              5        None                     17   \n",
              "\n",
              "   Confirmation - Weekday (Mo = 1)  Platform Type  \n",
              "0                                5              3  "
            ]
          },
          "metadata": {
            "tags": []
          },
          "execution_count": 68
        }
      ]
    },
    {
      "cell_type": "code",
      "metadata": {
        "id": "eXc6qqCT_D8w",
        "colab_type": "code",
        "colab": {}
      },
      "source": [
        "def impute_data_median(list_features, data):\n",
        "\n",
        "    \"\"\"\n",
        "    This function takes a list of features selected for model and a dataframe of predictor variables, data, as inputs.\n",
        "    It returns a datframe of predictor variables with null values replaced with the median\n",
        "    \"\"\"\n",
        "\n",
        "    # instantiate an imputer object with a median filling strategy\n",
        "    imputer = SimpleImputer(missing_values = np.nan, strategy='median')\n",
        "\n",
        "    # split predictors and response\n",
        "    X = train_df[list_features].values\n",
        "\n",
        "    y = train_df['Time from Pickup to Arrival'].values\n",
        "\n",
        "    # extract training data to calibrate missing data\n",
        "    X_train = get_train_predictors(X, y)\n",
        "\n",
        "    # Calibrate imputation on training data\n",
        "    imputer.fit(X_train)\n",
        "\n",
        "    # replace null values with median\n",
        "    data = imputer.transform(data[list_features].values)\n",
        "    \n",
        "    # convert to dataframe\n",
        "    return pd.DataFrame(data, columns=list_features)"
      ],
      "execution_count": 0,
      "outputs": []
    },
    {
      "cell_type": "code",
      "metadata": {
        "id": "H54-SzJj_D8z",
        "colab_type": "code",
        "colab": {},
        "outputId": "5470aad3-448c-4f1e-ebe5-745a9d945491"
      },
      "source": [
        "impute_data_median(list_predictors, train_df)"
      ],
      "execution_count": 0,
      "outputs": [
        {
          "output_type": "execute_result",
          "data": {
            "text/html": [
              "<div>\n",
              "<style scoped>\n",
              "    .dataframe tbody tr th:only-of-type {\n",
              "        vertical-align: middle;\n",
              "    }\n",
              "\n",
              "    .dataframe tbody tr th {\n",
              "        vertical-align: top;\n",
              "    }\n",
              "\n",
              "    .dataframe thead th {\n",
              "        text-align: right;\n",
              "    }\n",
              "</style>\n",
              "<table border=\"1\" class=\"dataframe\">\n",
              "  <thead>\n",
              "    <tr style=\"text-align: right;\">\n",
              "      <th></th>\n",
              "      <th>Distance (KM)</th>\n",
              "      <th>Temperature</th>\n",
              "      <th>Pickup - Day of Month</th>\n",
              "      <th>Confirmation - Weekday (Mo = 1)</th>\n",
              "      <th>Platform Type</th>\n",
              "    </tr>\n",
              "  </thead>\n",
              "  <tbody>\n",
              "    <tr>\n",
              "      <th>0</th>\n",
              "      <td>4.0</td>\n",
              "      <td>20.4</td>\n",
              "      <td>9.0</td>\n",
              "      <td>5.0</td>\n",
              "      <td>3.0</td>\n",
              "    </tr>\n",
              "    <tr>\n",
              "      <th>1</th>\n",
              "      <td>16.0</td>\n",
              "      <td>26.4</td>\n",
              "      <td>12.0</td>\n",
              "      <td>5.0</td>\n",
              "      <td>3.0</td>\n",
              "    </tr>\n",
              "    <tr>\n",
              "      <th>2</th>\n",
              "      <td>3.0</td>\n",
              "      <td>23.4</td>\n",
              "      <td>30.0</td>\n",
              "      <td>2.0</td>\n",
              "      <td>3.0</td>\n",
              "    </tr>\n",
              "    <tr>\n",
              "      <th>3</th>\n",
              "      <td>9.0</td>\n",
              "      <td>19.2</td>\n",
              "      <td>15.0</td>\n",
              "      <td>5.0</td>\n",
              "      <td>3.0</td>\n",
              "    </tr>\n",
              "    <tr>\n",
              "      <th>4</th>\n",
              "      <td>9.0</td>\n",
              "      <td>15.4</td>\n",
              "      <td>13.0</td>\n",
              "      <td>1.0</td>\n",
              "      <td>1.0</td>\n",
              "    </tr>\n",
              "    <tr>\n",
              "      <th>...</th>\n",
              "      <td>...</td>\n",
              "      <td>...</td>\n",
              "      <td>...</td>\n",
              "      <td>...</td>\n",
              "      <td>...</td>\n",
              "    </tr>\n",
              "    <tr>\n",
              "      <th>21196</th>\n",
              "      <td>3.0</td>\n",
              "      <td>28.6</td>\n",
              "      <td>20.0</td>\n",
              "      <td>3.0</td>\n",
              "      <td>3.0</td>\n",
              "    </tr>\n",
              "    <tr>\n",
              "      <th>21197</th>\n",
              "      <td>7.0</td>\n",
              "      <td>26.0</td>\n",
              "      <td>13.0</td>\n",
              "      <td>6.0</td>\n",
              "      <td>3.0</td>\n",
              "    </tr>\n",
              "    <tr>\n",
              "      <th>21198</th>\n",
              "      <td>20.0</td>\n",
              "      <td>29.2</td>\n",
              "      <td>7.0</td>\n",
              "      <td>4.0</td>\n",
              "      <td>3.0</td>\n",
              "    </tr>\n",
              "    <tr>\n",
              "      <th>21199</th>\n",
              "      <td>13.0</td>\n",
              "      <td>15.0</td>\n",
              "      <td>4.0</td>\n",
              "      <td>3.0</td>\n",
              "      <td>1.0</td>\n",
              "    </tr>\n",
              "    <tr>\n",
              "      <th>21200</th>\n",
              "      <td>12.0</td>\n",
              "      <td>30.9</td>\n",
              "      <td>26.0</td>\n",
              "      <td>2.0</td>\n",
              "      <td>3.0</td>\n",
              "    </tr>\n",
              "  </tbody>\n",
              "</table>\n",
              "<p>21201 rows × 5 columns</p>\n",
              "</div>"
            ],
            "text/plain": [
              "       Distance (KM)  Temperature  Pickup - Day of Month  \\\n",
              "0                4.0         20.4                    9.0   \n",
              "1               16.0         26.4                   12.0   \n",
              "2                3.0         23.4                   30.0   \n",
              "3                9.0         19.2                   15.0   \n",
              "4                9.0         15.4                   13.0   \n",
              "...              ...          ...                    ...   \n",
              "21196            3.0         28.6                   20.0   \n",
              "21197            7.0         26.0                   13.0   \n",
              "21198           20.0         29.2                    7.0   \n",
              "21199           13.0         15.0                    4.0   \n",
              "21200           12.0         30.9                   26.0   \n",
              "\n",
              "       Confirmation - Weekday (Mo = 1)  Platform Type  \n",
              "0                                  5.0            3.0  \n",
              "1                                  5.0            3.0  \n",
              "2                                  2.0            3.0  \n",
              "3                                  5.0            3.0  \n",
              "4                                  1.0            1.0  \n",
              "...                                ...            ...  \n",
              "21196                              3.0            3.0  \n",
              "21197                              6.0            3.0  \n",
              "21198                              4.0            3.0  \n",
              "21199                              3.0            1.0  \n",
              "21200                              2.0            3.0  \n",
              "\n",
              "[21201 rows x 5 columns]"
            ]
          },
          "metadata": {
            "tags": []
          },
          "execution_count": 86
        }
      ]
    },
    {
      "cell_type": "code",
      "metadata": {
        "id": "tjeV0-nC_D85",
        "colab_type": "code",
        "colab": {}
      },
      "source": [
        "def scale_data(list_features, predict_vector_df):\n",
        "\n",
        "    \"\"\"\n",
        "    This function a dataframe of training data, df, list of features selected for model and datframe of variables\n",
        "    to get a predict from as inputs. It returns a datframe of variables with feature values scaled.\n",
        "    \"\"\"\n",
        "\n",
        "    # instantiate scaler object\n",
        "    scaler = StandardScaler()\n",
        "\n",
        "\n",
        "    # split predictors and response\n",
        "    X = train_df[list_features].values\n",
        "\n",
        "    y = train_df['Time from Pickup to Arrival'].values\n",
        "\n",
        "    # extract training data to calibrate missing data\n",
        "    X_train = get_train_data(X, y)\n",
        "\n",
        "    # calibrate scaler object to train dataset\n",
        "    scaler.fit(X_train)\n",
        "\n",
        "    # scale data for prediction\n",
        "    predict_vector = scaler.transform(predict_vector_df.values.reshape(1,-1))\n",
        "    \n",
        "    # convert to dataframe\n",
        "    return pd.DataFrame(predict_vector, columns=list_features)"
      ],
      "execution_count": 0,
      "outputs": []
    },
    {
      "cell_type": "code",
      "metadata": {
        "id": "43ekbZQx_D87",
        "colab_type": "code",
        "colab": {},
        "outputId": "b77aa47b-ca63-4f00-c0a1-6671ff560eb3"
      },
      "source": [
        "scale_data(list_predictors, feature_vector_df)"
      ],
      "execution_count": 0,
      "outputs": [
        {
          "output_type": "execute_result",
          "data": {
            "text/html": [
              "<div>\n",
              "<style scoped>\n",
              "    .dataframe tbody tr th:only-of-type {\n",
              "        vertical-align: middle;\n",
              "    }\n",
              "\n",
              "    .dataframe tbody tr th {\n",
              "        vertical-align: top;\n",
              "    }\n",
              "\n",
              "    .dataframe thead th {\n",
              "        text-align: right;\n",
              "    }\n",
              "</style>\n",
              "<table border=\"1\" class=\"dataframe\">\n",
              "  <thead>\n",
              "    <tr style=\"text-align: right;\">\n",
              "      <th></th>\n",
              "      <th>Distance (KM)</th>\n",
              "      <th>Temperature</th>\n",
              "      <th>Pickup - Day of Month</th>\n",
              "      <th>Confirmation - Weekday (Mo = 1)</th>\n",
              "      <th>Platform Type</th>\n",
              "    </tr>\n",
              "  </thead>\n",
              "  <tbody>\n",
              "    <tr>\n",
              "      <th>0</th>\n",
              "      <td>-0.797054</td>\n",
              "      <td>NaN</td>\n",
              "      <td>0.154348</td>\n",
              "      <td>1.121992</td>\n",
              "      <td>0.396638</td>\n",
              "    </tr>\n",
              "  </tbody>\n",
              "</table>\n",
              "</div>"
            ],
            "text/plain": [
              "   Distance (KM)  Temperature  Pickup - Day of Month  \\\n",
              "0      -0.797054          NaN               0.154348   \n",
              "\n",
              "   Confirmation - Weekday (Mo = 1)  Platform Type  \n",
              "0                         1.121992       0.396638  "
            ]
          },
          "metadata": {
            "tags": []
          },
          "execution_count": 75
        }
      ]
    },
    {
      "cell_type": "code",
      "metadata": {
        "colab_type": "code",
        "id": "FCnoJsrT9h1n",
        "colab": {},
        "outputId": "17f1c5de-29c9-4666-c48c-44eef24aa8e1"
      },
      "source": [
        "pd.DataFrame(test_df.iloc[1])"
      ],
      "execution_count": 0,
      "outputs": [
        {
          "output_type": "execute_result",
          "data": {
            "text/html": [
              "<div>\n",
              "<style scoped>\n",
              "    .dataframe tbody tr th:only-of-type {\n",
              "        vertical-align: middle;\n",
              "    }\n",
              "\n",
              "    .dataframe tbody tr th {\n",
              "        vertical-align: top;\n",
              "    }\n",
              "\n",
              "    .dataframe thead th {\n",
              "        text-align: right;\n",
              "    }\n",
              "</style>\n",
              "<table border=\"1\" class=\"dataframe\">\n",
              "  <thead>\n",
              "    <tr style=\"text-align: right;\">\n",
              "      <th></th>\n",
              "      <th>1</th>\n",
              "    </tr>\n",
              "  </thead>\n",
              "  <tbody>\n",
              "    <tr>\n",
              "      <th>Order No</th>\n",
              "      <td>Order_No_12736</td>\n",
              "    </tr>\n",
              "    <tr>\n",
              "      <th>User Id</th>\n",
              "      <td>User_Id_3647</td>\n",
              "    </tr>\n",
              "    <tr>\n",
              "      <th>Vehicle Type</th>\n",
              "      <td>Bike</td>\n",
              "    </tr>\n",
              "    <tr>\n",
              "      <th>Platform Type</th>\n",
              "      <td>3</td>\n",
              "    </tr>\n",
              "    <tr>\n",
              "      <th>Personal or Business</th>\n",
              "      <td>Business</td>\n",
              "    </tr>\n",
              "    <tr>\n",
              "      <th>Placement - Day of Month</th>\n",
              "      <td>17</td>\n",
              "    </tr>\n",
              "    <tr>\n",
              "      <th>Placement - Weekday (Mo = 1)</th>\n",
              "      <td>5</td>\n",
              "    </tr>\n",
              "    <tr>\n",
              "      <th>Placement - Time</th>\n",
              "      <td>12:57:35 PM</td>\n",
              "    </tr>\n",
              "    <tr>\n",
              "      <th>Confirmation - Day of Month</th>\n",
              "      <td>17</td>\n",
              "    </tr>\n",
              "    <tr>\n",
              "      <th>Confirmation - Weekday (Mo = 1)</th>\n",
              "      <td>5</td>\n",
              "    </tr>\n",
              "    <tr>\n",
              "      <th>Confirmation - Time</th>\n",
              "      <td>12:59:17 PM</td>\n",
              "    </tr>\n",
              "    <tr>\n",
              "      <th>Arrival at Pickup - Day of Month</th>\n",
              "      <td>17</td>\n",
              "    </tr>\n",
              "    <tr>\n",
              "      <th>Arrival at Pickup - Weekday (Mo = 1)</th>\n",
              "      <td>5</td>\n",
              "    </tr>\n",
              "    <tr>\n",
              "      <th>Arrival at Pickup - Time</th>\n",
              "      <td>1:20:27 PM</td>\n",
              "    </tr>\n",
              "    <tr>\n",
              "      <th>Pickup - Day of Month</th>\n",
              "      <td>17</td>\n",
              "    </tr>\n",
              "    <tr>\n",
              "      <th>Pickup - Weekday (Mo = 1)</th>\n",
              "      <td>5</td>\n",
              "    </tr>\n",
              "    <tr>\n",
              "      <th>Pickup - Time</th>\n",
              "      <td>1:25:37 PM</td>\n",
              "    </tr>\n",
              "    <tr>\n",
              "      <th>Distance (KM)</th>\n",
              "      <td>5</td>\n",
              "    </tr>\n",
              "    <tr>\n",
              "      <th>Temperature</th>\n",
              "      <td>NaN</td>\n",
              "    </tr>\n",
              "    <tr>\n",
              "      <th>Precipitation in millimeters</th>\n",
              "      <td>NaN</td>\n",
              "    </tr>\n",
              "    <tr>\n",
              "      <th>Pickup Lat</th>\n",
              "      <td>-1.27264</td>\n",
              "    </tr>\n",
              "    <tr>\n",
              "      <th>Pickup Long</th>\n",
              "      <td>36.7947</td>\n",
              "    </tr>\n",
              "    <tr>\n",
              "      <th>Destination Lat</th>\n",
              "      <td>-1.27701</td>\n",
              "    </tr>\n",
              "    <tr>\n",
              "      <th>Destination Long</th>\n",
              "      <td>36.8239</td>\n",
              "    </tr>\n",
              "    <tr>\n",
              "      <th>Rider Id</th>\n",
              "      <td>Rider_Id_868</td>\n",
              "    </tr>\n",
              "  </tbody>\n",
              "</table>\n",
              "</div>"
            ],
            "text/plain": [
              "                                                   1\n",
              "Order No                              Order_No_12736\n",
              "User Id                                 User_Id_3647\n",
              "Vehicle Type                                    Bike\n",
              "Platform Type                                      3\n",
              "Personal or Business                        Business\n",
              "Placement - Day of Month                          17\n",
              "Placement - Weekday (Mo = 1)                       5\n",
              "Placement - Time                         12:57:35 PM\n",
              "Confirmation - Day of Month                       17\n",
              "Confirmation - Weekday (Mo = 1)                    5\n",
              "Confirmation - Time                      12:59:17 PM\n",
              "Arrival at Pickup - Day of Month                  17\n",
              "Arrival at Pickup - Weekday (Mo = 1)               5\n",
              "Arrival at Pickup - Time                  1:20:27 PM\n",
              "Pickup - Day of Month                             17\n",
              "Pickup - Weekday (Mo = 1)                          5\n",
              "Pickup - Time                             1:25:37 PM\n",
              "Distance (KM)                                      5\n",
              "Temperature                                      NaN\n",
              "Precipitation in millimeters                     NaN\n",
              "Pickup Lat                                  -1.27264\n",
              "Pickup Long                                  36.7947\n",
              "Destination Lat                             -1.27701\n",
              "Destination Long                             36.8239\n",
              "Rider Id                                Rider_Id_868"
            ]
          },
          "metadata": {
            "tags": []
          },
          "execution_count": 106
        }
      ]
    },
    {
      "cell_type": "code",
      "metadata": {
        "id": "D7pYx9LP_D9C",
        "colab_type": "code",
        "colab": {}
      },
      "source": [
        "impute_data_median(train)"
      ],
      "execution_count": 0,
      "outputs": []
    },
    {
      "cell_type": "code",
      "metadata": {
        "id": "5I3rwlW__D9H",
        "colab_type": "code",
        "colab": {}
      },
      "source": [
        "list_predictors = ['Distance (KM)', 'Temperature', 'Pickup - Day of Month',\n",
        "'Confirmation - Weekday (Mo = 1)', 'Platform Type']\n",
        "\n",
        "response = 'Time from Pickup to Arrival'"
      ],
      "execution_count": 0,
      "outputs": []
    },
    {
      "cell_type": "code",
      "metadata": {
        "id": "g-KbCTJI_D9K",
        "colab_type": "code",
        "colab": {},
        "outputId": "712a7cb7-d737-4232-97b5-a2800e457e12"
      },
      "source": [
        "test_df.columns"
      ],
      "execution_count": 0,
      "outputs": [
        {
          "output_type": "execute_result",
          "data": {
            "text/plain": [
              "Index(['Order No', 'User Id', 'Vehicle Type', 'Platform Type',\n",
              "       'Personal or Business', 'Placement - Day of Month',\n",
              "       'Placement - Weekday (Mo = 1)', 'Placement - Time',\n",
              "       'Confirmation - Day of Month', 'Confirmation - Weekday (Mo = 1)',\n",
              "       'Confirmation - Time', 'Arrival at Pickup - Day of Month',\n",
              "       'Arrival at Pickup - Weekday (Mo = 1)', 'Arrival at Pickup - Time',\n",
              "       'Pickup - Day of Month', 'Pickup - Weekday (Mo = 1)', 'Pickup - Time',\n",
              "       'Distance (KM)', 'Temperature', 'Precipitation in millimeters',\n",
              "       'Pickup Lat', 'Pickup Long', 'Destination Lat', 'Destination Long',\n",
              "       'Rider Id'],\n",
              "      dtype='object')"
            ]
          },
          "metadata": {
            "tags": []
          },
          "execution_count": 26
        }
      ]
    },
    {
      "cell_type": "code",
      "metadata": {
        "id": "CBW5b1as_D9N",
        "colab_type": "code",
        "colab": {},
        "outputId": "5482c3fa-6fb2-4549-e7f8-a4bbc7c22646"
      },
      "source": [
        "'Distance (KM)' == 'Distance (KM)'"
      ],
      "execution_count": 0,
      "outputs": [
        {
          "output_type": "execute_result",
          "data": {
            "text/plain": [
              "True"
            ]
          },
          "metadata": {
            "tags": []
          },
          "execution_count": 27
        }
      ]
    },
    {
      "cell_type": "code",
      "metadata": {
        "id": "D3m7lE4h_D9Q",
        "colab_type": "code",
        "colab": {}
      },
      "source": [
        "def select_variables(df, X_vars, Y_var):\n",
        "    \"\"\"\n",
        "    This function takes a dataframe, df, a list of predictor variables, X_vars, and\n",
        "    a response variable, Y_var. It then returns 2 2d arrays of predictor variables\n",
        "    and response variables respectively.\n",
        "    \"\"\"\n",
        "    # predictor variables\n",
        "    X = df[X_vars].values\n",
        "\n",
        "    # response variable\n",
        "    Y = df[Y_var].values\n",
        "\n",
        "    return X, Y\n"
      ],
      "execution_count": 0,
      "outputs": []
    },
    {
      "cell_type": "code",
      "metadata": {
        "id": "ixsB5r4T_D9T",
        "colab_type": "code",
        "colab": {},
        "outputId": "0799d06e-2cf2-44c6-8c48-f2088911dda5"
      },
      "source": [
        "select_variables(train_df, list_predictors, response)"
      ],
      "execution_count": 0,
      "outputs": [
        {
          "output_type": "execute_result",
          "data": {
            "text/plain": [
              "(array([[ 4. , 20.4,  9. ,  5. ,  3. ],\n",
              "        [16. , 26.4, 12. ,  5. ,  3. ],\n",
              "        [ 3. ,  nan, 30. ,  2. ,  3. ],\n",
              "        ...,\n",
              "        [20. , 29.2,  7. ,  4. ,  3. ],\n",
              "        [13. , 15. ,  4. ,  3. ,  1. ],\n",
              "        [12. , 30.9, 26. ,  2. ,  3. ]]),\n",
              " array([ 745, 1993,  455, ..., 2953, 1380, 2128]))"
            ]
          },
          "metadata": {
            "tags": []
          },
          "execution_count": 29
        }
      ]
    },
    {
      "cell_type": "code",
      "metadata": {
        "id": "z-s1fGJI_D9W",
        "colab_type": "code",
        "colab": {},
        "outputId": "e821524e-f7ab-4d2a-a1ef-8f84e025bdb6"
      },
      "source": [
        "test_df.iloc[1][list_predictors]"
      ],
      "execution_count": 0,
      "outputs": [
        {
          "output_type": "execute_result",
          "data": {
            "text/plain": [
              "Distance (KM)                        5\n",
              "Temperature                        NaN\n",
              "Pickup - Day of Month               17\n",
              "Confirmation - Weekday (Mo = 1)      5\n",
              "Platform Type                        3\n",
              "Name: 1, dtype: object"
            ]
          },
          "metadata": {
            "tags": []
          },
          "execution_count": 32
        }
      ]
    },
    {
      "cell_type": "code",
      "metadata": {
        "id": "vpsdtb6r_D9Y",
        "colab_type": "code",
        "colab": {}
      },
      "source": [
        "feature_vector_df = dt.select_variables(feature_vector_df, list_predictors)"
      ],
      "execution_count": 0,
      "outputs": []
    },
    {
      "cell_type": "code",
      "metadata": {
        "id": "PSAHynnI_D9a",
        "colab_type": "code",
        "colab": {}
      },
      "source": [
        "def impute_request_data_median(list_features, str_response, data):\n",
        "\n",
        "    \"\"\"\n",
        "    This function takes a list of features selected for model and a dataframe of predictor variables, data, as inputs.\n",
        "    It returns a datframe of predictor variables with null values replaced with the median\n",
        "    \"\"\"\n",
        "\n",
        "    # instantiate an imputer object with a median filling strategy\n",
        "    imputer = SimpleImputer(missing_values = np.nan, strategy='median')\n",
        "\n",
        "    # split predictors and response\n",
        "    X = train_df[list_features].values\n",
        "\n",
        "    y = train_df[str_response].values\n",
        "\n",
        "    # extract training data to calibrate missing data\n",
        "    X_train = get_train_predictors(X, y)\n",
        "\n",
        "    # Calibrate imputation on training data\n",
        "    imputer.fit(X_train)\n",
        "\n",
        "    # replace null values with median\n",
        "    data = imputer.transform(data[list_features].values)\n",
        "    \n",
        "    # convert to dataframe\n",
        "    return pd.DataFrame(data, columns=list_features)\n",
        "\n",
        "def scale_request_data(list_features, str_response, predict_vector_df):\n",
        "\n",
        "    \"\"\"\n",
        "    This function a dataframe of training data, df, list of features selected for model and datframe of variables\n",
        "    to get a predict from as inputs. It returns a datframe of variables with feature values scaled.\n",
        "    \"\"\"\n",
        "\n",
        "    # instantiate scaler object\n",
        "    scaler = StandardScaler()\n",
        "\n",
        "\n",
        "    # split predictors and response\n",
        "    X = train_df[list_features].values\n",
        "\n",
        "    y = train_df[str_response].values\n",
        "\n",
        "    # extract training data to calibrate missing data\n",
        "    X_train = get_train_data(X, y)\n",
        "\n",
        "    # calibrate scaler object to train dataset\n",
        "    scaler.fit(X_train)\n",
        "\n",
        "    # scale data for prediction\n",
        "    predict_vector = scaler.transform(predict_vector_df.values.reshape(1,-1))\n",
        "    \n",
        "    # convert to dataframe\n",
        "    return pd.DataFrame(predict_vector, columns=list_features)"
      ],
      "execution_count": 0,
      "outputs": []
    },
    {
      "cell_type": "code",
      "metadata": {
        "id": "yjt2qgLE_D9d",
        "colab_type": "code",
        "colab": {},
        "outputId": "bcfde660-0fa1-485f-e370-ff349374a454"
      },
      "source": [
        "impute_data_median(list_predictors, response, train_df)"
      ],
      "execution_count": 0,
      "outputs": [
        {
          "output_type": "execute_result",
          "data": {
            "text/html": [
              "<div>\n",
              "<style scoped>\n",
              "    .dataframe tbody tr th:only-of-type {\n",
              "        vertical-align: middle;\n",
              "    }\n",
              "\n",
              "    .dataframe tbody tr th {\n",
              "        vertical-align: top;\n",
              "    }\n",
              "\n",
              "    .dataframe thead th {\n",
              "        text-align: right;\n",
              "    }\n",
              "</style>\n",
              "<table border=\"1\" class=\"dataframe\">\n",
              "  <thead>\n",
              "    <tr style=\"text-align: right;\">\n",
              "      <th></th>\n",
              "      <th>Distance (KM)</th>\n",
              "      <th>Temperature</th>\n",
              "      <th>Pickup - Day of Month</th>\n",
              "      <th>Confirmation - Weekday (Mo = 1)</th>\n",
              "      <th>Platform Type</th>\n",
              "    </tr>\n",
              "  </thead>\n",
              "  <tbody>\n",
              "    <tr>\n",
              "      <th>0</th>\n",
              "      <td>4.0</td>\n",
              "      <td>20.4</td>\n",
              "      <td>9.0</td>\n",
              "      <td>5.0</td>\n",
              "      <td>3.0</td>\n",
              "    </tr>\n",
              "    <tr>\n",
              "      <th>1</th>\n",
              "      <td>16.0</td>\n",
              "      <td>26.4</td>\n",
              "      <td>12.0</td>\n",
              "      <td>5.0</td>\n",
              "      <td>3.0</td>\n",
              "    </tr>\n",
              "    <tr>\n",
              "      <th>2</th>\n",
              "      <td>3.0</td>\n",
              "      <td>23.4</td>\n",
              "      <td>30.0</td>\n",
              "      <td>2.0</td>\n",
              "      <td>3.0</td>\n",
              "    </tr>\n",
              "    <tr>\n",
              "      <th>3</th>\n",
              "      <td>9.0</td>\n",
              "      <td>19.2</td>\n",
              "      <td>15.0</td>\n",
              "      <td>5.0</td>\n",
              "      <td>3.0</td>\n",
              "    </tr>\n",
              "    <tr>\n",
              "      <th>4</th>\n",
              "      <td>9.0</td>\n",
              "      <td>15.4</td>\n",
              "      <td>13.0</td>\n",
              "      <td>1.0</td>\n",
              "      <td>1.0</td>\n",
              "    </tr>\n",
              "    <tr>\n",
              "      <th>...</th>\n",
              "      <td>...</td>\n",
              "      <td>...</td>\n",
              "      <td>...</td>\n",
              "      <td>...</td>\n",
              "      <td>...</td>\n",
              "    </tr>\n",
              "    <tr>\n",
              "      <th>21196</th>\n",
              "      <td>3.0</td>\n",
              "      <td>28.6</td>\n",
              "      <td>20.0</td>\n",
              "      <td>3.0</td>\n",
              "      <td>3.0</td>\n",
              "    </tr>\n",
              "    <tr>\n",
              "      <th>21197</th>\n",
              "      <td>7.0</td>\n",
              "      <td>26.0</td>\n",
              "      <td>13.0</td>\n",
              "      <td>6.0</td>\n",
              "      <td>3.0</td>\n",
              "    </tr>\n",
              "    <tr>\n",
              "      <th>21198</th>\n",
              "      <td>20.0</td>\n",
              "      <td>29.2</td>\n",
              "      <td>7.0</td>\n",
              "      <td>4.0</td>\n",
              "      <td>3.0</td>\n",
              "    </tr>\n",
              "    <tr>\n",
              "      <th>21199</th>\n",
              "      <td>13.0</td>\n",
              "      <td>15.0</td>\n",
              "      <td>4.0</td>\n",
              "      <td>3.0</td>\n",
              "      <td>1.0</td>\n",
              "    </tr>\n",
              "    <tr>\n",
              "      <th>21200</th>\n",
              "      <td>12.0</td>\n",
              "      <td>30.9</td>\n",
              "      <td>26.0</td>\n",
              "      <td>2.0</td>\n",
              "      <td>3.0</td>\n",
              "    </tr>\n",
              "  </tbody>\n",
              "</table>\n",
              "<p>21201 rows × 5 columns</p>\n",
              "</div>"
            ],
            "text/plain": [
              "       Distance (KM)  Temperature  Pickup - Day of Month  \\\n",
              "0                4.0         20.4                    9.0   \n",
              "1               16.0         26.4                   12.0   \n",
              "2                3.0         23.4                   30.0   \n",
              "3                9.0         19.2                   15.0   \n",
              "4                9.0         15.4                   13.0   \n",
              "...              ...          ...                    ...   \n",
              "21196            3.0         28.6                   20.0   \n",
              "21197            7.0         26.0                   13.0   \n",
              "21198           20.0         29.2                    7.0   \n",
              "21199           13.0         15.0                    4.0   \n",
              "21200           12.0         30.9                   26.0   \n",
              "\n",
              "       Confirmation - Weekday (Mo = 1)  Platform Type  \n",
              "0                                  5.0            3.0  \n",
              "1                                  5.0            3.0  \n",
              "2                                  2.0            3.0  \n",
              "3                                  5.0            3.0  \n",
              "4                                  1.0            1.0  \n",
              "...                                ...            ...  \n",
              "21196                              3.0            3.0  \n",
              "21197                              6.0            3.0  \n",
              "21198                              4.0            3.0  \n",
              "21199                              3.0            1.0  \n",
              "21200                              2.0            3.0  \n",
              "\n",
              "[21201 rows x 5 columns]"
            ]
          },
          "metadata": {
            "tags": []
          },
          "execution_count": 89
        }
      ]
    },
    {
      "cell_type": "code",
      "metadata": {
        "id": "hMlW6WuO_D9g",
        "colab_type": "code",
        "colab": {},
        "outputId": "5e765e33-07d5-45c4-b470-ed2b01083ac3"
      },
      "source": [
        "response"
      ],
      "execution_count": 0,
      "outputs": [
        {
          "output_type": "execute_result",
          "data": {
            "text/plain": [
              "'Time from Pickup to Arrival'"
            ]
          },
          "metadata": {
            "tags": []
          },
          "execution_count": 88
        }
      ]
    },
    {
      "cell_type": "code",
      "metadata": {
        "id": "tb6D9Th3_D9j",
        "colab_type": "code",
        "colab": {}
      },
      "source": [
        "def scale_data(data):\n",
        "\n",
        "    \"\"\"\n",
        "    This function takes a list of features selected for model and datframe of variables\n",
        "    to get a predict from as inputs. It returns a datframe of variables with feature values scaled.\n",
        "    \"\"\"\n",
        "\n",
        "    # instantiate scaler object\n",
        "    scaler = StandardScaler()\n",
        "\n",
        "    # calibrate scaler object to train dataset\n",
        "    scaler.fit(data)\n",
        "\n",
        "    # scale data for prediction\n",
        "    return scaler.transform(data)\n",
        "\n",
        "def impute_data_median(data):\n",
        "\n",
        "    \"\"\"\n",
        "    This function takes a list of features selected for model and a dataframe of predictor variables, data, as inputs.\n",
        "    It returns a datframe of predictor variables with null values replaced with the median\n",
        "    \"\"\"\n",
        "\n",
        "    # instantiate an imputer object with a median filling strategy\n",
        "    imputer = SimpleImputer(missing_values = np.nan, strategy='median')\n",
        "\n",
        "    # Calibrate imputation on training data\n",
        "    imputer.fit(data)\n",
        "\n",
        "    # replace null values with median\n",
        "    return imputer.transform(data)"
      ],
      "execution_count": 0,
      "outputs": []
    },
    {
      "cell_type": "code",
      "metadata": {
        "id": "uDe97u7T_D9n",
        "colab_type": "code",
        "colab": {}
      },
      "source": [
        ""
      ],
      "execution_count": 0,
      "outputs": []
    },
    {
      "cell_type": "code",
      "metadata": {
        "id": "XdfSkCzO_D93",
        "colab_type": "code",
        "colab": {},
        "outputId": "5f6174d6-d960-4217-d71b-c3e2bfe7b959"
      },
      "source": [
        "train_df[list_predictors].values"
      ],
      "execution_count": 0,
      "outputs": [
        {
          "output_type": "execute_result",
          "data": {
            "text/plain": [
              "array([[ 4. , 20.4,  9. ,  5. ,  3. ],\n",
              "       [16. , 26.4, 12. ,  5. ,  3. ],\n",
              "       [ 3. ,  nan, 30. ,  2. ,  3. ],\n",
              "       ...,\n",
              "       [20. , 29.2,  7. ,  4. ,  3. ],\n",
              "       [13. , 15. ,  4. ,  3. ,  1. ],\n",
              "       [12. , 30.9, 26. ,  2. ,  3. ]])"
            ]
          },
          "metadata": {
            "tags": []
          },
          "execution_count": 97
        }
      ]
    },
    {
      "cell_type": "code",
      "metadata": {
        "id": "7IvO5n8r_D95",
        "colab_type": "code",
        "colab": {},
        "outputId": "465c97c4-c53e-421a-beb0-d8509eccff27"
      },
      "source": [
        "impute_data_median(train_df[list_predictors].values)"
      ],
      "execution_count": 0,
      "outputs": [
        {
          "output_type": "execute_result",
          "data": {
            "text/plain": [
              "array([[ 4. , 20.4,  9. ,  5. ,  3. ],\n",
              "       [16. , 26.4, 12. ,  5. ,  3. ],\n",
              "       [ 3. , 23.5, 30. ,  2. ,  3. ],\n",
              "       ...,\n",
              "       [20. , 29.2,  7. ,  4. ,  3. ],\n",
              "       [13. , 15. ,  4. ,  3. ,  1. ],\n",
              "       [12. , 30.9, 26. ,  2. ,  3. ]])"
            ]
          },
          "metadata": {
            "tags": []
          },
          "execution_count": 99
        }
      ]
    },
    {
      "cell_type": "code",
      "metadata": {
        "id": "aKi0i10M_D98",
        "colab_type": "code",
        "colab": {}
      },
      "source": [
        "scale_data(train_df[list_predictors].values)"
      ],
      "execution_count": 0,
      "outputs": []
    },
    {
      "cell_type": "code",
      "metadata": {
        "id": "4dXq4Cg5_D9_",
        "colab_type": "code",
        "colab": {},
        "outputId": "ff69d1fd-6655-4fcb-cd1c-c8e63cd0d267"
      },
      "source": [
        "test_df.iloc[1]"
      ],
      "execution_count": 0,
      "outputs": [
        {
          "output_type": "execute_result",
          "data": {
            "text/plain": [
              "Order No                                Order_No_12736\n",
              "User Id                                   User_Id_3647\n",
              "Vehicle Type                                      Bike\n",
              "Platform Type                                        3\n",
              "Personal or Business                          Business\n",
              "Placement - Day of Month                            17\n",
              "Placement - Weekday (Mo = 1)                         5\n",
              "Placement - Time                           12:57:35 PM\n",
              "Confirmation - Day of Month                         17\n",
              "Confirmation - Weekday (Mo = 1)                      5\n",
              "Confirmation - Time                        12:59:17 PM\n",
              "Arrival at Pickup - Day of Month                    17\n",
              "Arrival at Pickup - Weekday (Mo = 1)                 5\n",
              "Arrival at Pickup - Time                    1:20:27 PM\n",
              "Pickup - Day of Month                               17\n",
              "Pickup - Weekday (Mo = 1)                            5\n",
              "Pickup - Time                               1:25:37 PM\n",
              "Distance (KM)                                        5\n",
              "Temperature                                        NaN\n",
              "Precipitation in millimeters                       NaN\n",
              "Pickup Lat                                    -1.27264\n",
              "Pickup Long                                    36.7947\n",
              "Destination Lat                               -1.27701\n",
              "Destination Long                               36.8239\n",
              "Rider Id                                  Rider_Id_868\n",
              "Name: 1, dtype: object"
            ]
          },
          "metadata": {
            "tags": []
          },
          "execution_count": 107
        }
      ]
    },
    {
      "cell_type": "code",
      "metadata": {
        "id": "-7GB-Lb5_D-C",
        "colab_type": "code",
        "colab": {}
      },
      "source": [
        "def _preprocess_data(data):\n",
        "    \"\"\"Private helper function to preprocess data for model prediction.\n",
        "\n",
        "    NB: If you have utilised feature engineering/selection in order to create\n",
        "    your final model you will need to define the code here.\n",
        "\n",
        "\n",
        "    Parameters\n",
        "    ----------\n",
        "    data : str\n",
        "        The data payload received within POST requests sent to our API.\n",
        "\n",
        "    Returns\n",
        "    -------\n",
        "    Pandas DataFrame : <class 'pandas.core.frame.DataFrame'>\n",
        "        The preprocessed data, ready to be used our model for prediction.\n",
        "\n",
        "    \"\"\"\n",
        "    # Convert the json string to a python dictionary object\n",
        "    feature_vector_dict = json.loads(data)\n",
        "    \n",
        "    # Load the dictionary as a Pandas DataFrame.\n",
        "    predict_vector = pd.DataFrame.from_dict([feature_vector_dict])\n",
        "\n",
        "    # ---------------------------------------------------------------\n",
        "    # NOTE: You will need to swap the lines below for your own data\n",
        "    # preprocessing methods.\n",
        "    #\n",
        "    # The code below is for demonstration purposes only. You will not\n",
        "    # receive marks for submitting this code in an unchanged state.\n",
        "    # ---------------------------------------------------------------\n",
        "\n",
        "    # ----------- Replace this code with your own preprocessing steps --------\n",
        "    \n",
        "    # 1. Select variables for model\n",
        "    predict_vector = predict_vector[list_predictors]\n",
        "\n",
        "    # 2. Impute Missing Data\n",
        "    predict_vector = impute_request_data_median(list_predictors, response, predict_vector)\n",
        "\n",
        "    # 3. Data Scaling\n",
        "    predict_vector = scale_request_data(list_predictors, response, predict_vector)\n",
        "\n",
        "    # ------------------------------------------------------------------------\n",
        "\n",
        "    return predict_vector"
      ],
      "execution_count": 0,
      "outputs": []
    },
    {
      "cell_type": "code",
      "metadata": {
        "id": "tMDN9pwF_D-F",
        "colab_type": "code",
        "colab": {},
        "outputId": "cb37e403-cb11-4b71-9374-5c78c4bf6329"
      },
      "source": [
        "predict_vector = pd.DataFrame.from_dict([json.loads(post)])\n",
        "predict_vector.values"
      ],
      "execution_count": 0,
      "outputs": [
        {
          "output_type": "execute_result",
          "data": {
            "text/plain": [
              "array([['Order_No_12736', 'User_Id_3647', 'Bike', 3, 'Business', 17, 5,\n",
              "        '12:57:35 PM', 17, 5, '12:59:17 PM', 17, 5, '1:20:27 PM', 17, 5,\n",
              "        '1:25:37 PM', 5, None, None, -1.272639, 36.794723, -1.2770066,\n",
              "        36.8239068, 'Rider_Id_868']], dtype=object)"
            ]
          },
          "metadata": {
            "tags": []
          },
          "execution_count": 117
        }
      ]
    },
    {
      "cell_type": "code",
      "metadata": {
        "id": "ULt97W5b_D-G",
        "colab_type": "code",
        "colab": {},
        "outputId": "57621e13-c956-439a-f9b5-d7dceb15e334"
      },
      "source": [
        "X_predict = _preprocess_data(post)\n",
        "X_predict.shape"
      ],
      "execution_count": 0,
      "outputs": [
        {
          "output_type": "execute_result",
          "data": {
            "text/plain": [
              "(1, 5)"
            ]
          },
          "metadata": {
            "tags": []
          },
          "execution_count": 136
        }
      ]
    },
    {
      "cell_type": "code",
      "metadata": {
        "id": "kx5l4NJT_D-J",
        "colab_type": "code",
        "colab": {}
      },
      "source": [
        "def original_preprocess_data(data):\n",
        "    \"\"\"Private helper function to preprocess data for model prediction.\n",
        "\n",
        "    NB: If you have utilised feature engineering/selection in order to create\n",
        "    your final model you will need to define the code here.\n",
        "\n",
        "\n",
        "    Parameters\n",
        "    ----------\n",
        "    data : str\n",
        "        The data payload received within POST requests sent to our API.\n",
        "\n",
        "    Returns\n",
        "    -------\n",
        "    Pandas DataFrame : <class 'pandas.core.frame.DataFrame'>\n",
        "        The preprocessed data, ready to be used our model for prediction.\n",
        "\n",
        "    \"\"\"\n",
        "    # Convert the json string to a python dictionary object\n",
        "    feature_vector_dict = json.loads(data)\n",
        "    # Load the dictionary as a Pandas DataFrame.\n",
        "    feature_vector_df = pd.DataFrame.from_dict([feature_vector_dict])\n",
        "\n",
        "    # ---------------------------------------------------------------\n",
        "    # NOTE: You will need to swap the lines below for your own data\n",
        "    # preprocessing methods.\n",
        "    #\n",
        "    # The code below is for demonstration purposes only. You will not\n",
        "    # receive marks for submitting this code in an unchanged state.\n",
        "    # ---------------------------------------------------------------\n",
        "\n",
        "    # ----------- Replace this code with your own preprocessing steps --------\n",
        "    predict_vector = feature_vector_df[['Pickup Lat','Pickup Long',\n",
        "                                        'Destination Lat','Destination Long']]\n",
        "    # ------------------------------------------------------------------------\n",
        "\n",
        "    return predict_vector"
      ],
      "execution_count": 0,
      "outputs": []
    },
    {
      "cell_type": "code",
      "metadata": {
        "id": "_tUDKSJT_D-M",
        "colab_type": "code",
        "colab": {},
        "outputId": "21deb167-8328-4e8f-96a1-3541595f8610"
      },
      "source": [
        "original_preprocess_data(post)"
      ],
      "execution_count": 0,
      "outputs": [
        {
          "output_type": "execute_result",
          "data": {
            "text/html": [
              "<div>\n",
              "<style scoped>\n",
              "    .dataframe tbody tr th:only-of-type {\n",
              "        vertical-align: middle;\n",
              "    }\n",
              "\n",
              "    .dataframe tbody tr th {\n",
              "        vertical-align: top;\n",
              "    }\n",
              "\n",
              "    .dataframe thead th {\n",
              "        text-align: right;\n",
              "    }\n",
              "</style>\n",
              "<table border=\"1\" class=\"dataframe\">\n",
              "  <thead>\n",
              "    <tr style=\"text-align: right;\">\n",
              "      <th></th>\n",
              "      <th>Pickup Lat</th>\n",
              "      <th>Pickup Long</th>\n",
              "      <th>Destination Lat</th>\n",
              "      <th>Destination Long</th>\n",
              "    </tr>\n",
              "  </thead>\n",
              "  <tbody>\n",
              "    <tr>\n",
              "      <th>0</th>\n",
              "      <td>-1.272639</td>\n",
              "      <td>36.794723</td>\n",
              "      <td>-1.277007</td>\n",
              "      <td>36.823907</td>\n",
              "    </tr>\n",
              "  </tbody>\n",
              "</table>\n",
              "</div>"
            ],
            "text/plain": [
              "   Pickup Lat  Pickup Long  Destination Lat  Destination Long\n",
              "0   -1.272639    36.794723        -1.277007         36.823907"
            ]
          },
          "metadata": {
            "tags": []
          },
          "execution_count": 121
        }
      ]
    },
    {
      "cell_type": "code",
      "metadata": {
        "id": "pZ5kUAhD_D-P",
        "colab_type": "code",
        "colab": {}
      },
      "source": [
        ""
      ],
      "execution_count": 0,
      "outputs": []
    },
    {
      "cell_type": "markdown",
      "metadata": {
        "id": "G3KiKf79_D-R",
        "colab_type": "text"
      },
      "source": [
        "### Training for API"
      ]
    },
    {
      "cell_type": "code",
      "metadata": {
        "id": "EnFY170d_D-R",
        "colab_type": "code",
        "colab": {}
      },
      "source": [
        "import os"
      ],
      "execution_count": 0,
      "outputs": []
    },
    {
      "cell_type": "code",
      "metadata": {
        "id": "COg3DeID_D-T",
        "colab_type": "code",
        "colab": {},
        "outputId": "0354eaf8-86eb-4e83-fbfb-5613723d64bf"
      },
      "source": [
        "# get current directory name\n",
        "current_dir = os.path.dirname(__file__)"
      ],
      "execution_count": 0,
      "outputs": [
        {
          "output_type": "error",
          "ename": "NameError",
          "evalue": "name '__file__' is not defined",
          "traceback": [
            "\u001b[0;31m---------------------------------------------------------------------------\u001b[0m",
            "\u001b[0;31mNameError\u001b[0m                                 Traceback (most recent call last)",
            "\u001b[0;32m<ipython-input-77-ec74227fdd26>\u001b[0m in \u001b[0;36m<module>\u001b[0;34m\u001b[0m\n\u001b[1;32m      1\u001b[0m \u001b[0;31m# get current directory name\u001b[0m\u001b[0;34m\u001b[0m\u001b[0;34m\u001b[0m\u001b[0;34m\u001b[0m\u001b[0m\n\u001b[0;32m----> 2\u001b[0;31m \u001b[0mcurrent_dir\u001b[0m \u001b[0;34m=\u001b[0m \u001b[0mos\u001b[0m\u001b[0;34m.\u001b[0m\u001b[0mpath\u001b[0m\u001b[0;34m.\u001b[0m\u001b[0mdirname\u001b[0m\u001b[0;34m(\u001b[0m\u001b[0m__file__\u001b[0m\u001b[0;34m)\u001b[0m\u001b[0;34m\u001b[0m\u001b[0;34m\u001b[0m\u001b[0m\n\u001b[0m",
            "\u001b[0;31mNameError\u001b[0m: name '__file__' is not defined"
          ]
        }
      ]
    },
    {
      "cell_type": "markdown",
      "metadata": {
        "id": "NVfbzJwZ_D-W",
        "colab_type": "text"
      },
      "source": [
        "# Restoring Model and Making Prediction"
      ]
    },
    {
      "cell_type": "code",
      "metadata": {
        "id": "H7DIM6A2_D-W",
        "colab_type": "code",
        "colab": {}
      },
      "source": [
        "# import pickle library\n",
        "import pickle"
      ],
      "execution_count": 0,
      "outputs": []
    },
    {
      "cell_type": "code",
      "metadata": {
        "id": "N1Td9G5d_D-Y",
        "colab_type": "code",
        "colab": {}
      },
      "source": [
        "def load_model(path_to_model:str):\n",
        "    \"\"\"Adapter function to load our pretrained model into memory.\n",
        "\n",
        "    Parameters\n",
        "    ----------\n",
        "    path_to_model : str\n",
        "        The relative path to the model weights/schema to load.\n",
        "        Note that unless another file format is used, this needs to be a\n",
        "        .pkl file.\n",
        "\n",
        "    Returns\n",
        "    -------\n",
        "    <class: sklearn.estimator>\n",
        "        The pretrained model loaded into memory.\n",
        "\n",
        "    \"\"\"\n",
        "    return pickle.load(open(path_to_model, 'rb'))"
      ],
      "execution_count": 0,
      "outputs": []
    },
    {
      "cell_type": "code",
      "metadata": {
        "id": "-0NuyCcM_D-a",
        "colab_type": "code",
        "colab": {}
      },
      "source": [
        "# store file path in variable\n",
        "model_load_path = \"base_model.pkl\"\n",
        "\n",
        "# open file to read binary\n",
        "with open(model_load_path,'rb') as file:\n",
        "    \n",
        "    # load model from file in path\n",
        "    unpickled_model = pickle.load(file)"
      ],
      "execution_count": 0,
      "outputs": []
    },
    {
      "cell_type": "code",
      "metadata": {
        "id": "mV-cqxQh_D-c",
        "colab_type": "code",
        "colab": {}
      },
      "source": [
        "# get predictions from unpickled model\n",
        "y_pred = unpickled_model.predict(X_predict)"
      ],
      "execution_count": 0,
      "outputs": []
    },
    {
      "cell_type": "code",
      "metadata": {
        "id": "Bbbc1DeB_D-e",
        "colab_type": "code",
        "colab": {},
        "outputId": "ee361e2b-4af4-496a-b4b7-64c1498a4b93"
      },
      "source": [
        "y_pred"
      ],
      "execution_count": 0,
      "outputs": [
        {
          "output_type": "execute_result",
          "data": {
            "text/plain": [
              "array([1098.0531514])"
            ]
          },
          "metadata": {
            "tags": []
          },
          "execution_count": 133
        }
      ]
    },
    {
      "cell_type": "code",
      "metadata": {
        "id": "it5qoEnt_D-f",
        "colab_type": "code",
        "colab": {}
      },
      "source": [
        "static_model = load_model(path_to_model='base_model.pkl')"
      ],
      "execution_count": 0,
      "outputs": []
    },
    {
      "cell_type": "code",
      "metadata": {
        "id": "CtSNl3pn_D-h",
        "colab_type": "code",
        "colab": {},
        "outputId": "a45f646a-8882-44fb-9e05-1b314291ab39"
      },
      "source": [
        "y_pred2 = static_model.predict(X_predict)\n",
        "y_pred2"
      ],
      "execution_count": 0,
      "outputs": [
        {
          "output_type": "execute_result",
          "data": {
            "text/plain": [
              "array([1098.0531514])"
            ]
          },
          "metadata": {
            "tags": []
          },
          "execution_count": 134
        }
      ]
    },
    {
      "cell_type": "code",
      "metadata": {
        "id": "Zz1T-FOf_D-j",
        "colab_type": "code",
        "colab": {}
      },
      "source": [
        "def make_prediction(data, model):\n",
        "    \"\"\"Prepare request data for model prediciton.\n",
        "\n",
        "    Parameters\n",
        "    ----------\n",
        "    data : str\n",
        "        The data payload received within POST requests sent to our API.\n",
        "    model : <class: sklearn.estimator>\n",
        "        An sklearn model object.\n",
        "\n",
        "    Returns\n",
        "    -------\n",
        "    list\n",
        "        A 1-D python list containing the model prediction.\n",
        "\n",
        "    \"\"\"\n",
        "    # Data preprocessing.\n",
        "    prep_data = _preprocess_data(data)\n",
        "    # Perform prediction with model and preprocessed data.\n",
        "    prediction = model.predict(prep_data)\n",
        "    # Format as list for output standerdisation.\n",
        "    return [prediction[0]]"
      ],
      "execution_count": 0,
      "outputs": []
    },
    {
      "cell_type": "code",
      "metadata": {
        "id": "GjwlDUpG_D-n",
        "colab_type": "code",
        "colab": {},
        "outputId": "3800f884-c80f-446c-e8c0-24c1d773a597"
      },
      "source": [
        "make_prediction(post, unpickled_model)"
      ],
      "execution_count": 0,
      "outputs": [
        {
          "output_type": "execute_result",
          "data": {
            "text/plain": [
              "[1098.0531514029267]"
            ]
          },
          "metadata": {
            "tags": []
          },
          "execution_count": 155
        }
      ]
    },
    {
      "cell_type": "code",
      "metadata": {
        "id": "d0uX67rE_D-p",
        "colab_type": "code",
        "colab": {},
        "outputId": "f4c77854-6da0-4584-c573-2e22912a9614"
      },
      "source": [
        "post"
      ],
      "execution_count": 0,
      "outputs": [
        {
          "output_type": "execute_result",
          "data": {
            "text/plain": [
              "'{\"Order No\":\"Order_No_12736\",\"User Id\":\"User_Id_3647\",\"Vehicle Type\":\"Bike\",\"Platform Type\":3,\"Personal or Business\":\"Business\",\"Placement - Day of Month\":17,\"Placement - Weekday (Mo = 1)\":5,\"Placement - Time\":\"12:57:35 PM\",\"Confirmation - Day of Month\":17,\"Confirmation - Weekday (Mo = 1)\":5,\"Confirmation - Time\":\"12:59:17 PM\",\"Arrival at Pickup - Day of Month\":17,\"Arrival at Pickup - Weekday (Mo = 1)\":5,\"Arrival at Pickup - Time\":\"1:20:27 PM\",\"Pickup - Day of Month\":17,\"Pickup - Weekday (Mo = 1)\":5,\"Pickup - Time\":\"1:25:37 PM\",\"Distance (KM)\":5,\"Temperature\":null,\"Precipitation in millimeters\":null,\"Pickup Lat\":-1.272639,\"Pickup Long\":36.794723,\"Destination Lat\":-1.2770066,\"Destination Long\":36.8239068,\"Rider Id\":\"Rider_Id_868\"}'"
            ]
          },
          "metadata": {
            "tags": []
          },
          "execution_count": 135
        }
      ]
    },
    {
      "cell_type": "code",
      "metadata": {
        "id": "jasAcr_6_D-r",
        "colab_type": "code",
        "colab": {}
      },
      "source": [
        ""
      ],
      "execution_count": 0,
      "outputs": []
    }
  ]
}