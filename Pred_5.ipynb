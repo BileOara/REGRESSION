{
  "nbformat": 4,
  "nbformat_minor": 0,
  "metadata": {
    "kernelspec": {
      "display_name": "Python 3",
      "language": "python",
      "name": "python3"
    },
    "language_info": {
      "codemirror_mode": {
        "name": "ipython",
        "version": 3
      },
      "file_extension": ".py",
      "mimetype": "text/x-python",
      "name": "python",
      "nbconvert_exporter": "python",
      "pygments_lexer": "ipython3",
      "version": "3.7.4"
    },
    "colab": {
      "name": "Pred_5.ipynb",
      "provenance": [],
      "include_colab_link": true
    }
  },
  "cells": [
    {
      "cell_type": "markdown",
      "metadata": {
        "id": "view-in-github",
        "colab_type": "text"
      },
      "source": [
        "<a href=\"https://colab.research.google.com/github/BileOara/REGRESSION/blob/master/Pred_5.ipynb\" target=\"_parent\"><img src=\"https://colab.research.google.com/assets/colab-badge.svg\" alt=\"Open In Colab\"/></a>"
      ]
    },
    {
      "cell_type": "code",
      "metadata": {
        "id": "5nZ7jHn1ycV2",
        "colab_type": "code",
        "colab": {}
      },
      "source": [
        "import pandas as pd\n",
        "import numpy as np\n",
        "pd.set_option('display.max_columns', 60)\n",
        "import matplotlib.pyplot as plt\n",
        "%matplotlib inline\n",
        "import seaborn as sns\n",
        "plt.rcParams['font.size'] = 20\n",
        "from IPython.core.pylabtools import figsize\n",
        "from sklearn.model_selection import train_test_split\n",
        "\n",
        "# Imputing missing values and scaling values\n",
        "from sklearn.preprocessing import MinMaxScaler\n",
        "\n",
        "# Machine Learning Models\n",
        "from sklearn.linear_model import LinearRegression\n",
        "from sklearn.ensemble import GradientBoostingRegressor\n",
        "\n",
        "# Hyperparameter tuning\n",
        "from sklearn.model_selection import RandomizedSearchCV, GridSearchCV"
      ],
      "execution_count": 0,
      "outputs": []
    },
    {
      "cell_type": "code",
      "metadata": {
        "id": "RtqDrMnPycWL",
        "colab_type": "code",
        "colab": {}
      },
      "source": [
        "df = pd.read_csv('Train.csv')\n",
        "dffd = pd.read_csv('Test.csv')"
      ],
      "execution_count": 0,
      "outputs": []
    },
    {
      "cell_type": "code",
      "metadata": {
        "id": "zzlSsMcHycWh",
        "colab_type": "code",
        "colab": {},
        "outputId": "a3997ef5-0363-479d-c6bc-e8a55904cccd"
      },
      "source": [
        "df.head()"
      ],
      "execution_count": 0,
      "outputs": [
        {
          "output_type": "execute_result",
          "data": {
            "text/html": [
              "<div>\n",
              "<style scoped>\n",
              "    .dataframe tbody tr th:only-of-type {\n",
              "        vertical-align: middle;\n",
              "    }\n",
              "\n",
              "    .dataframe tbody tr th {\n",
              "        vertical-align: top;\n",
              "    }\n",
              "\n",
              "    .dataframe thead th {\n",
              "        text-align: right;\n",
              "    }\n",
              "</style>\n",
              "<table border=\"1\" class=\"dataframe\">\n",
              "  <thead>\n",
              "    <tr style=\"text-align: right;\">\n",
              "      <th></th>\n",
              "      <th>Order No</th>\n",
              "      <th>User Id</th>\n",
              "      <th>Vehicle Type</th>\n",
              "      <th>Platform Type</th>\n",
              "      <th>Personal or Business</th>\n",
              "      <th>Placement - Day of Month</th>\n",
              "      <th>Placement - Weekday (Mo = 1)</th>\n",
              "      <th>Placement - Time</th>\n",
              "      <th>Confirmation - Day of Month</th>\n",
              "      <th>Confirmation_Weekday_Mo1</th>\n",
              "      <th>Confirmation - Time</th>\n",
              "      <th>Arrival at Pickup - Day of Month</th>\n",
              "      <th>Arrival at Pickup - Weekday (Mo = 1)</th>\n",
              "      <th>Arrival at Pickup - Time</th>\n",
              "      <th>Pickup_Day_of_Month</th>\n",
              "      <th>Pickup - Weekday (Mo = 1)</th>\n",
              "      <th>Pickup - Time</th>\n",
              "      <th>Arrival at Destination - Day of Month</th>\n",
              "      <th>Arrival at Destination - Weekday (Mo = 1)</th>\n",
              "      <th>Arrival_at_Destination_Time</th>\n",
              "      <th>Distance_KM</th>\n",
              "      <th>Temperature</th>\n",
              "      <th>Precipitation_in_millimeters</th>\n",
              "      <th>Pickup Lat</th>\n",
              "      <th>Pickup Long</th>\n",
              "      <th>Destination Lat</th>\n",
              "      <th>Destination Long</th>\n",
              "      <th>Rider Id</th>\n",
              "      <th>Time_from_Pickup_to_Arrival</th>\n",
              "    </tr>\n",
              "  </thead>\n",
              "  <tbody>\n",
              "    <tr>\n",
              "      <th>0</th>\n",
              "      <td>Order_No_4211</td>\n",
              "      <td>User_Id_633</td>\n",
              "      <td>Bike</td>\n",
              "      <td>3</td>\n",
              "      <td>Business</td>\n",
              "      <td>9</td>\n",
              "      <td>5</td>\n",
              "      <td>9:35:46 AM</td>\n",
              "      <td>9</td>\n",
              "      <td>5</td>\n",
              "      <td>9:40:10 AM</td>\n",
              "      <td>9</td>\n",
              "      <td>5</td>\n",
              "      <td>10:04:47 AM</td>\n",
              "      <td>9</td>\n",
              "      <td>5</td>\n",
              "      <td>10:27:30 AM</td>\n",
              "      <td>9</td>\n",
              "      <td>5</td>\n",
              "      <td>10:39:55 AM</td>\n",
              "      <td>4</td>\n",
              "      <td>20.4</td>\n",
              "      <td>NaN</td>\n",
              "      <td>-1.317755</td>\n",
              "      <td>36.830370</td>\n",
              "      <td>-1.300406</td>\n",
              "      <td>36.829741</td>\n",
              "      <td>Rider_Id_432</td>\n",
              "      <td>745</td>\n",
              "    </tr>\n",
              "    <tr>\n",
              "      <th>1</th>\n",
              "      <td>Order_No_25375</td>\n",
              "      <td>User_Id_2285</td>\n",
              "      <td>Bike</td>\n",
              "      <td>3</td>\n",
              "      <td>Personal</td>\n",
              "      <td>12</td>\n",
              "      <td>5</td>\n",
              "      <td>11:16:16 AM</td>\n",
              "      <td>12</td>\n",
              "      <td>5</td>\n",
              "      <td>11:23:21 AM</td>\n",
              "      <td>12</td>\n",
              "      <td>5</td>\n",
              "      <td>11:40:22 AM</td>\n",
              "      <td>12</td>\n",
              "      <td>5</td>\n",
              "      <td>11:44:09 AM</td>\n",
              "      <td>12</td>\n",
              "      <td>5</td>\n",
              "      <td>12:17:22 PM</td>\n",
              "      <td>16</td>\n",
              "      <td>26.4</td>\n",
              "      <td>NaN</td>\n",
              "      <td>-1.351453</td>\n",
              "      <td>36.899315</td>\n",
              "      <td>-1.295004</td>\n",
              "      <td>36.814358</td>\n",
              "      <td>Rider_Id_856</td>\n",
              "      <td>1993</td>\n",
              "    </tr>\n",
              "    <tr>\n",
              "      <th>2</th>\n",
              "      <td>Order_No_1899</td>\n",
              "      <td>User_Id_265</td>\n",
              "      <td>Bike</td>\n",
              "      <td>3</td>\n",
              "      <td>Business</td>\n",
              "      <td>30</td>\n",
              "      <td>2</td>\n",
              "      <td>12:39:25 PM</td>\n",
              "      <td>30</td>\n",
              "      <td>2</td>\n",
              "      <td>12:42:44 PM</td>\n",
              "      <td>30</td>\n",
              "      <td>2</td>\n",
              "      <td>12:49:34 PM</td>\n",
              "      <td>30</td>\n",
              "      <td>2</td>\n",
              "      <td>12:53:03 PM</td>\n",
              "      <td>30</td>\n",
              "      <td>2</td>\n",
              "      <td>1:00:38 PM</td>\n",
              "      <td>3</td>\n",
              "      <td>NaN</td>\n",
              "      <td>NaN</td>\n",
              "      <td>-1.308284</td>\n",
              "      <td>36.843419</td>\n",
              "      <td>-1.300921</td>\n",
              "      <td>36.828195</td>\n",
              "      <td>Rider_Id_155</td>\n",
              "      <td>455</td>\n",
              "    </tr>\n",
              "    <tr>\n",
              "      <th>3</th>\n",
              "      <td>Order_No_9336</td>\n",
              "      <td>User_Id_1402</td>\n",
              "      <td>Bike</td>\n",
              "      <td>3</td>\n",
              "      <td>Business</td>\n",
              "      <td>15</td>\n",
              "      <td>5</td>\n",
              "      <td>9:25:34 AM</td>\n",
              "      <td>15</td>\n",
              "      <td>5</td>\n",
              "      <td>9:26:05 AM</td>\n",
              "      <td>15</td>\n",
              "      <td>5</td>\n",
              "      <td>9:37:56 AM</td>\n",
              "      <td>15</td>\n",
              "      <td>5</td>\n",
              "      <td>9:43:06 AM</td>\n",
              "      <td>15</td>\n",
              "      <td>5</td>\n",
              "      <td>10:05:27 AM</td>\n",
              "      <td>9</td>\n",
              "      <td>19.2</td>\n",
              "      <td>NaN</td>\n",
              "      <td>-1.281301</td>\n",
              "      <td>36.832396</td>\n",
              "      <td>-1.257147</td>\n",
              "      <td>36.795063</td>\n",
              "      <td>Rider_Id_855</td>\n",
              "      <td>1341</td>\n",
              "    </tr>\n",
              "    <tr>\n",
              "      <th>4</th>\n",
              "      <td>Order_No_27883</td>\n",
              "      <td>User_Id_1737</td>\n",
              "      <td>Bike</td>\n",
              "      <td>1</td>\n",
              "      <td>Personal</td>\n",
              "      <td>13</td>\n",
              "      <td>1</td>\n",
              "      <td>9:55:18 AM</td>\n",
              "      <td>13</td>\n",
              "      <td>1</td>\n",
              "      <td>9:56:18 AM</td>\n",
              "      <td>13</td>\n",
              "      <td>1</td>\n",
              "      <td>10:03:53 AM</td>\n",
              "      <td>13</td>\n",
              "      <td>1</td>\n",
              "      <td>10:05:23 AM</td>\n",
              "      <td>13</td>\n",
              "      <td>1</td>\n",
              "      <td>10:25:37 AM</td>\n",
              "      <td>9</td>\n",
              "      <td>15.4</td>\n",
              "      <td>NaN</td>\n",
              "      <td>-1.266597</td>\n",
              "      <td>36.792118</td>\n",
              "      <td>-1.295041</td>\n",
              "      <td>36.809817</td>\n",
              "      <td>Rider_Id_770</td>\n",
              "      <td>1214</td>\n",
              "    </tr>\n",
              "  </tbody>\n",
              "</table>\n",
              "</div>"
            ],
            "text/plain": [
              "         Order No       User Id Vehicle Type  Platform Type  \\\n",
              "0   Order_No_4211   User_Id_633         Bike              3   \n",
              "1  Order_No_25375  User_Id_2285         Bike              3   \n",
              "2   Order_No_1899   User_Id_265         Bike              3   \n",
              "3   Order_No_9336  User_Id_1402         Bike              3   \n",
              "4  Order_No_27883  User_Id_1737         Bike              1   \n",
              "\n",
              "  Personal or Business  Placement - Day of Month  \\\n",
              "0             Business                         9   \n",
              "1             Personal                        12   \n",
              "2             Business                        30   \n",
              "3             Business                        15   \n",
              "4             Personal                        13   \n",
              "\n",
              "   Placement - Weekday (Mo = 1) Placement - Time  Confirmation - Day of Month  \\\n",
              "0                             5       9:35:46 AM                            9   \n",
              "1                             5      11:16:16 AM                           12   \n",
              "2                             2      12:39:25 PM                           30   \n",
              "3                             5       9:25:34 AM                           15   \n",
              "4                             1       9:55:18 AM                           13   \n",
              "\n",
              "   Confirmation_Weekday_Mo1 Confirmation - Time  \\\n",
              "0                         5          9:40:10 AM   \n",
              "1                         5         11:23:21 AM   \n",
              "2                         2         12:42:44 PM   \n",
              "3                         5          9:26:05 AM   \n",
              "4                         1          9:56:18 AM   \n",
              "\n",
              "   Arrival at Pickup - Day of Month  Arrival at Pickup - Weekday (Mo = 1)  \\\n",
              "0                                 9                                     5   \n",
              "1                                12                                     5   \n",
              "2                                30                                     2   \n",
              "3                                15                                     5   \n",
              "4                                13                                     1   \n",
              "\n",
              "  Arrival at Pickup - Time  Pickup_Day_of_Month  Pickup - Weekday (Mo = 1)  \\\n",
              "0              10:04:47 AM                    9                          5   \n",
              "1              11:40:22 AM                   12                          5   \n",
              "2              12:49:34 PM                   30                          2   \n",
              "3               9:37:56 AM                   15                          5   \n",
              "4              10:03:53 AM                   13                          1   \n",
              "\n",
              "  Pickup - Time  Arrival at Destination - Day of Month  \\\n",
              "0   10:27:30 AM                                      9   \n",
              "1   11:44:09 AM                                     12   \n",
              "2   12:53:03 PM                                     30   \n",
              "3    9:43:06 AM                                     15   \n",
              "4   10:05:23 AM                                     13   \n",
              "\n",
              "   Arrival at Destination - Weekday (Mo = 1) Arrival_at_Destination_Time  \\\n",
              "0                                          5                 10:39:55 AM   \n",
              "1                                          5                 12:17:22 PM   \n",
              "2                                          2                  1:00:38 PM   \n",
              "3                                          5                 10:05:27 AM   \n",
              "4                                          1                 10:25:37 AM   \n",
              "\n",
              "   Distance_KM  Temperature  Precipitation_in_millimeters  Pickup Lat  \\\n",
              "0            4         20.4                           NaN   -1.317755   \n",
              "1           16         26.4                           NaN   -1.351453   \n",
              "2            3          NaN                           NaN   -1.308284   \n",
              "3            9         19.2                           NaN   -1.281301   \n",
              "4            9         15.4                           NaN   -1.266597   \n",
              "\n",
              "   Pickup Long  Destination Lat  Destination Long      Rider Id  \\\n",
              "0    36.830370        -1.300406         36.829741  Rider_Id_432   \n",
              "1    36.899315        -1.295004         36.814358  Rider_Id_856   \n",
              "2    36.843419        -1.300921         36.828195  Rider_Id_155   \n",
              "3    36.832396        -1.257147         36.795063  Rider_Id_855   \n",
              "4    36.792118        -1.295041         36.809817  Rider_Id_770   \n",
              "\n",
              "   Time_from_Pickup_to_Arrival  \n",
              "0                          745  \n",
              "1                         1993  \n",
              "2                          455  \n",
              "3                         1341  \n",
              "4                         1214  "
            ]
          },
          "metadata": {
            "tags": []
          },
          "execution_count": 24
        }
      ]
    },
    {
      "cell_type": "code",
      "metadata": {
        "id": "kfbqSV8BycW1",
        "colab_type": "code",
        "colab": {},
        "outputId": "e9f6d466-c7e5-4095-9187-ac766a671179"
      },
      "source": [
        "dffd.head()"
      ],
      "execution_count": 0,
      "outputs": [
        {
          "output_type": "execute_result",
          "data": {
            "text/html": [
              "<div>\n",
              "<style scoped>\n",
              "    .dataframe tbody tr th:only-of-type {\n",
              "        vertical-align: middle;\n",
              "    }\n",
              "\n",
              "    .dataframe tbody tr th {\n",
              "        vertical-align: top;\n",
              "    }\n",
              "\n",
              "    .dataframe thead th {\n",
              "        text-align: right;\n",
              "    }\n",
              "</style>\n",
              "<table border=\"1\" class=\"dataframe\">\n",
              "  <thead>\n",
              "    <tr style=\"text-align: right;\">\n",
              "      <th></th>\n",
              "      <th>Order No</th>\n",
              "      <th>User Id</th>\n",
              "      <th>Vehicle Type</th>\n",
              "      <th>Platform Type</th>\n",
              "      <th>Personal or Business</th>\n",
              "      <th>Placement - Day of Month</th>\n",
              "      <th>Placement - Weekday (Mo = 1)</th>\n",
              "      <th>Placement - Time</th>\n",
              "      <th>Confirmation - Day of Month</th>\n",
              "      <th>Confirmation - Weekday (Mo = 1)</th>\n",
              "      <th>Confirmation - Time</th>\n",
              "      <th>Arrival at Pickup - Day of Month</th>\n",
              "      <th>Arrival at Pickup - Weekday (Mo = 1)</th>\n",
              "      <th>Arrival at Pickup - Time</th>\n",
              "      <th>Pickup - Day of Month</th>\n",
              "      <th>Pickup - Weekday (Mo = 1)</th>\n",
              "      <th>Pickup - Time</th>\n",
              "      <th>Distance (KM)</th>\n",
              "      <th>Temperature</th>\n",
              "      <th>Precipitation in millimeters</th>\n",
              "      <th>Pickup Lat</th>\n",
              "      <th>Pickup Long</th>\n",
              "      <th>Destination Lat</th>\n",
              "      <th>Destination Long</th>\n",
              "      <th>Rider Id</th>\n",
              "    </tr>\n",
              "  </thead>\n",
              "  <tbody>\n",
              "    <tr>\n",
              "      <th>0</th>\n",
              "      <td>Order_No_19248</td>\n",
              "      <td>User_Id_3355</td>\n",
              "      <td>Bike</td>\n",
              "      <td>3</td>\n",
              "      <td>Business</td>\n",
              "      <td>27</td>\n",
              "      <td>3</td>\n",
              "      <td>4:44:10 PM</td>\n",
              "      <td>27</td>\n",
              "      <td>3</td>\n",
              "      <td>4:44:29 PM</td>\n",
              "      <td>27</td>\n",
              "      <td>3</td>\n",
              "      <td>4:53:04 PM</td>\n",
              "      <td>27</td>\n",
              "      <td>3</td>\n",
              "      <td>5:06:47 PM</td>\n",
              "      <td>8</td>\n",
              "      <td>NaN</td>\n",
              "      <td>NaN</td>\n",
              "      <td>-1.333275</td>\n",
              "      <td>36.870815</td>\n",
              "      <td>-1.305249</td>\n",
              "      <td>36.822390</td>\n",
              "      <td>Rider_Id_192</td>\n",
              "    </tr>\n",
              "    <tr>\n",
              "      <th>1</th>\n",
              "      <td>Order_No_12736</td>\n",
              "      <td>User_Id_3647</td>\n",
              "      <td>Bike</td>\n",
              "      <td>3</td>\n",
              "      <td>Business</td>\n",
              "      <td>17</td>\n",
              "      <td>5</td>\n",
              "      <td>12:57:35 PM</td>\n",
              "      <td>17</td>\n",
              "      <td>5</td>\n",
              "      <td>12:59:17 PM</td>\n",
              "      <td>17</td>\n",
              "      <td>5</td>\n",
              "      <td>1:20:27 PM</td>\n",
              "      <td>17</td>\n",
              "      <td>5</td>\n",
              "      <td>1:25:37 PM</td>\n",
              "      <td>5</td>\n",
              "      <td>NaN</td>\n",
              "      <td>NaN</td>\n",
              "      <td>-1.272639</td>\n",
              "      <td>36.794723</td>\n",
              "      <td>-1.277007</td>\n",
              "      <td>36.823907</td>\n",
              "      <td>Rider_Id_868</td>\n",
              "    </tr>\n",
              "    <tr>\n",
              "      <th>2</th>\n",
              "      <td>Order_No_768</td>\n",
              "      <td>User_Id_2154</td>\n",
              "      <td>Bike</td>\n",
              "      <td>3</td>\n",
              "      <td>Business</td>\n",
              "      <td>27</td>\n",
              "      <td>4</td>\n",
              "      <td>11:08:14 AM</td>\n",
              "      <td>27</td>\n",
              "      <td>4</td>\n",
              "      <td>11:25:05 AM</td>\n",
              "      <td>27</td>\n",
              "      <td>4</td>\n",
              "      <td>11:33:20 AM</td>\n",
              "      <td>27</td>\n",
              "      <td>4</td>\n",
              "      <td>11:57:54 AM</td>\n",
              "      <td>5</td>\n",
              "      <td>22.8</td>\n",
              "      <td>NaN</td>\n",
              "      <td>-1.290894</td>\n",
              "      <td>36.822971</td>\n",
              "      <td>-1.276574</td>\n",
              "      <td>36.851365</td>\n",
              "      <td>Rider_Id_26</td>\n",
              "    </tr>\n",
              "    <tr>\n",
              "      <th>3</th>\n",
              "      <td>Order_No_15332</td>\n",
              "      <td>User_Id_2910</td>\n",
              "      <td>Bike</td>\n",
              "      <td>3</td>\n",
              "      <td>Business</td>\n",
              "      <td>17</td>\n",
              "      <td>1</td>\n",
              "      <td>1:51:35 PM</td>\n",
              "      <td>17</td>\n",
              "      <td>1</td>\n",
              "      <td>1:53:27 PM</td>\n",
              "      <td>17</td>\n",
              "      <td>1</td>\n",
              "      <td>2:02:41 PM</td>\n",
              "      <td>17</td>\n",
              "      <td>1</td>\n",
              "      <td>2:16:52 PM</td>\n",
              "      <td>5</td>\n",
              "      <td>24.5</td>\n",
              "      <td>NaN</td>\n",
              "      <td>-1.290503</td>\n",
              "      <td>36.809646</td>\n",
              "      <td>-1.303382</td>\n",
              "      <td>36.790658</td>\n",
              "      <td>Rider_Id_685</td>\n",
              "    </tr>\n",
              "    <tr>\n",
              "      <th>4</th>\n",
              "      <td>Order_No_21373</td>\n",
              "      <td>User_Id_1205</td>\n",
              "      <td>Bike</td>\n",
              "      <td>3</td>\n",
              "      <td>Business</td>\n",
              "      <td>11</td>\n",
              "      <td>2</td>\n",
              "      <td>11:30:28 AM</td>\n",
              "      <td>11</td>\n",
              "      <td>2</td>\n",
              "      <td>11:34:45 AM</td>\n",
              "      <td>11</td>\n",
              "      <td>2</td>\n",
              "      <td>11:47:19 AM</td>\n",
              "      <td>11</td>\n",
              "      <td>2</td>\n",
              "      <td>11:56:04 AM</td>\n",
              "      <td>6</td>\n",
              "      <td>24.4</td>\n",
              "      <td>NaN</td>\n",
              "      <td>-1.281081</td>\n",
              "      <td>36.814423</td>\n",
              "      <td>-1.266467</td>\n",
              "      <td>36.792161</td>\n",
              "      <td>Rider_Id_858</td>\n",
              "    </tr>\n",
              "  </tbody>\n",
              "</table>\n",
              "</div>"
            ],
            "text/plain": [
              "         Order No       User Id Vehicle Type  Platform Type  \\\n",
              "0  Order_No_19248  User_Id_3355         Bike              3   \n",
              "1  Order_No_12736  User_Id_3647         Bike              3   \n",
              "2    Order_No_768  User_Id_2154         Bike              3   \n",
              "3  Order_No_15332  User_Id_2910         Bike              3   \n",
              "4  Order_No_21373  User_Id_1205         Bike              3   \n",
              "\n",
              "  Personal or Business  Placement - Day of Month  \\\n",
              "0             Business                        27   \n",
              "1             Business                        17   \n",
              "2             Business                        27   \n",
              "3             Business                        17   \n",
              "4             Business                        11   \n",
              "\n",
              "   Placement - Weekday (Mo = 1) Placement - Time  Confirmation - Day of Month  \\\n",
              "0                             3       4:44:10 PM                           27   \n",
              "1                             5      12:57:35 PM                           17   \n",
              "2                             4      11:08:14 AM                           27   \n",
              "3                             1       1:51:35 PM                           17   \n",
              "4                             2      11:30:28 AM                           11   \n",
              "\n",
              "   Confirmation - Weekday (Mo = 1) Confirmation - Time  \\\n",
              "0                                3          4:44:29 PM   \n",
              "1                                5         12:59:17 PM   \n",
              "2                                4         11:25:05 AM   \n",
              "3                                1          1:53:27 PM   \n",
              "4                                2         11:34:45 AM   \n",
              "\n",
              "   Arrival at Pickup - Day of Month  Arrival at Pickup - Weekday (Mo = 1)  \\\n",
              "0                                27                                     3   \n",
              "1                                17                                     5   \n",
              "2                                27                                     4   \n",
              "3                                17                                     1   \n",
              "4                                11                                     2   \n",
              "\n",
              "  Arrival at Pickup - Time  Pickup - Day of Month  Pickup - Weekday (Mo = 1)  \\\n",
              "0               4:53:04 PM                     27                          3   \n",
              "1               1:20:27 PM                     17                          5   \n",
              "2              11:33:20 AM                     27                          4   \n",
              "3               2:02:41 PM                     17                          1   \n",
              "4              11:47:19 AM                     11                          2   \n",
              "\n",
              "  Pickup - Time  Distance (KM)  Temperature  Precipitation in millimeters  \\\n",
              "0    5:06:47 PM              8          NaN                           NaN   \n",
              "1    1:25:37 PM              5          NaN                           NaN   \n",
              "2   11:57:54 AM              5         22.8                           NaN   \n",
              "3    2:16:52 PM              5         24.5                           NaN   \n",
              "4   11:56:04 AM              6         24.4                           NaN   \n",
              "\n",
              "   Pickup Lat  Pickup Long  Destination Lat  Destination Long      Rider Id  \n",
              "0   -1.333275    36.870815        -1.305249         36.822390  Rider_Id_192  \n",
              "1   -1.272639    36.794723        -1.277007         36.823907  Rider_Id_868  \n",
              "2   -1.290894    36.822971        -1.276574         36.851365   Rider_Id_26  \n",
              "3   -1.290503    36.809646        -1.303382         36.790658  Rider_Id_685  \n",
              "4   -1.281081    36.814423        -1.266467         36.792161  Rider_Id_858  "
            ]
          },
          "metadata": {
            "tags": []
          },
          "execution_count": 25
        }
      ]
    },
    {
      "cell_type": "code",
      "metadata": {
        "id": "PGeKIFQnycXC",
        "colab_type": "code",
        "colab": {},
        "outputId": "4bdda860-3173-4e22-84b9-a7760562b209"
      },
      "source": [
        "df.columns"
      ],
      "execution_count": 0,
      "outputs": [
        {
          "output_type": "execute_result",
          "data": {
            "text/plain": [
              "Index(['Order No', 'User Id', 'Vehicle Type', 'Platform Type',\n",
              "       'Personal or Business', 'Placement - Day of Month',\n",
              "       'Placement - Weekday (Mo = 1)', 'Placement - Time',\n",
              "       'Confirmation - Day of Month', 'Confirmation_Weekday_Mo1',\n",
              "       'Confirmation - Time', 'Arrival at Pickup - Day of Month',\n",
              "       'Arrival at Pickup - Weekday (Mo = 1)', 'Arrival at Pickup - Time',\n",
              "       'Pickup_Day_of_Month', 'Pickup - Weekday (Mo = 1)', 'Pickup - Time',\n",
              "       'Arrival at Destination - Day of Month',\n",
              "       'Arrival at Destination - Weekday (Mo = 1)',\n",
              "       'Arrival_at_Destination_Time', 'Distance_KM', 'Temperature',\n",
              "       'Precipitation_in_millimeters', 'Pickup Lat', 'Pickup Long',\n",
              "       'Destination Lat', 'Destination Long', 'Rider Id',\n",
              "       'Time_from_Pickup_to_Arrival'],\n",
              "      dtype='object')"
            ]
          },
          "metadata": {
            "tags": []
          },
          "execution_count": 26
        }
      ]
    },
    {
      "cell_type": "code",
      "metadata": {
        "id": "WZvosIgBycXW",
        "colab_type": "code",
        "colab": {},
        "outputId": "f6a76a26-6a0d-41d2-b276-41dfa36bdba2"
      },
      "source": [
        "df.info()"
      ],
      "execution_count": 0,
      "outputs": [
        {
          "output_type": "stream",
          "text": [
            "<class 'pandas.core.frame.DataFrame'>\n",
            "RangeIndex: 21201 entries, 0 to 21200\n",
            "Data columns (total 29 columns):\n",
            " #   Column                                     Non-Null Count  Dtype  \n",
            "---  ------                                     --------------  -----  \n",
            " 0   Order No                                   21201 non-null  object \n",
            " 1   User Id                                    21201 non-null  object \n",
            " 2   Vehicle Type                               21201 non-null  object \n",
            " 3   Platform Type                              21201 non-null  int64  \n",
            " 4   Personal or Business                       21201 non-null  object \n",
            " 5   Placement - Day of Month                   21201 non-null  int64  \n",
            " 6   Placement - Weekday (Mo = 1)               21201 non-null  int64  \n",
            " 7   Placement - Time                           21201 non-null  object \n",
            " 8   Confirmation - Day of Month                21201 non-null  int64  \n",
            " 9   Confirmation_Weekday_Mo1                   21201 non-null  int64  \n",
            " 10  Confirmation - Time                        21201 non-null  object \n",
            " 11  Arrival at Pickup - Day of Month           21201 non-null  int64  \n",
            " 12  Arrival at Pickup - Weekday (Mo = 1)       21201 non-null  int64  \n",
            " 13  Arrival at Pickup - Time                   21201 non-null  object \n",
            " 14  Pickup_Day_of_Month                        21201 non-null  int64  \n",
            " 15  Pickup - Weekday (Mo = 1)                  21201 non-null  int64  \n",
            " 16  Pickup - Time                              21201 non-null  object \n",
            " 17  Arrival at Destination - Day of Month      21201 non-null  int64  \n",
            " 18  Arrival at Destination - Weekday (Mo = 1)  21201 non-null  int64  \n",
            " 19  Arrival_at_Destination_Time                21201 non-null  object \n",
            " 20  Distance_KM                                21201 non-null  int64  \n",
            " 21  Temperature                                16835 non-null  float64\n",
            " 22  Precipitation_in_millimeters               552 non-null    float64\n",
            " 23  Pickup Lat                                 21201 non-null  float64\n",
            " 24  Pickup Long                                21201 non-null  float64\n",
            " 25  Destination Lat                            21201 non-null  float64\n",
            " 26  Destination Long                           21201 non-null  float64\n",
            " 27  Rider Id                                   21201 non-null  object \n",
            " 28  Time_from_Pickup_to_Arrival                21201 non-null  int64  \n",
            "dtypes: float64(6), int64(13), object(10)\n",
            "memory usage: 4.7+ MB\n"
          ],
          "name": "stdout"
        }
      ]
    },
    {
      "cell_type": "code",
      "metadata": {
        "id": "1FGbaVOSycXm",
        "colab_type": "code",
        "colab": {}
      },
      "source": [
        "df['Personal or Business']=df['Personal or Business'].replace({'Personal': 0, 'Business':1})"
      ],
      "execution_count": 0,
      "outputs": []
    },
    {
      "cell_type": "code",
      "metadata": {
        "id": "r2kkVrjpycXy",
        "colab_type": "code",
        "colab": {}
      },
      "source": [
        "def missing_values_table(df):\n",
        "        mis_val = df.isnull().sum()\n",
        "        \n",
        "        mis_val_percent = 100 * df.isnull().sum() / len(df)\n",
        "        \n",
        "        mis_val_table = pd.concat([mis_val, mis_val_percent], axis=1)\n",
        "        \n",
        "        mis_val_table_ren_columns = mis_val_table.rename(\n",
        "        columns = {0 : 'Missing Values', 1 : '% of Total Values'})\n",
        "        \n",
        "        mis_val_table_ren_columns = mis_val_table_ren_columns[\n",
        "            mis_val_table_ren_columns.iloc[:,1] != 0].sort_values(\n",
        "        '% of Total Values', ascending=False).round(1)\n",
        "        \n",
        "        print (\"Your selected dataframe has \" + str(df.shape[1]) + \" columns.\\n\"      \n",
        "            \"There are \" + str(mis_val_table_ren_columns.shape[0]) +\n",
        "              \" columns that have missing values.\")\n",
        "        \n",
        "        # Return the dataframe with missing information\n",
        "        return mis_val_table_ren_columns"
      ],
      "execution_count": 0,
      "outputs": []
    },
    {
      "cell_type": "code",
      "metadata": {
        "id": "cJoSyNWQycX9",
        "colab_type": "code",
        "colab": {},
        "outputId": "ea43c4e5-da7d-4eac-ee25-a351bea22dfc"
      },
      "source": [
        "missing_values_table(df)"
      ],
      "execution_count": 0,
      "outputs": [
        {
          "output_type": "stream",
          "text": [
            "Your selected dataframe has 29 columns.\n",
            "There are 2 columns that have missing values.\n"
          ],
          "name": "stdout"
        },
        {
          "output_type": "execute_result",
          "data": {
            "text/html": [
              "<div>\n",
              "<style scoped>\n",
              "    .dataframe tbody tr th:only-of-type {\n",
              "        vertical-align: middle;\n",
              "    }\n",
              "\n",
              "    .dataframe tbody tr th {\n",
              "        vertical-align: top;\n",
              "    }\n",
              "\n",
              "    .dataframe thead th {\n",
              "        text-align: right;\n",
              "    }\n",
              "</style>\n",
              "<table border=\"1\" class=\"dataframe\">\n",
              "  <thead>\n",
              "    <tr style=\"text-align: right;\">\n",
              "      <th></th>\n",
              "      <th>Missing Values</th>\n",
              "      <th>% of Total Values</th>\n",
              "    </tr>\n",
              "  </thead>\n",
              "  <tbody>\n",
              "    <tr>\n",
              "      <th>Precipitation_in_millimeters</th>\n",
              "      <td>20649</td>\n",
              "      <td>97.4</td>\n",
              "    </tr>\n",
              "    <tr>\n",
              "      <th>Temperature</th>\n",
              "      <td>4366</td>\n",
              "      <td>20.6</td>\n",
              "    </tr>\n",
              "  </tbody>\n",
              "</table>\n",
              "</div>"
            ],
            "text/plain": [
              "                              Missing Values  % of Total Values\n",
              "Precipitation_in_millimeters           20649               97.4\n",
              "Temperature                             4366               20.6"
            ]
          },
          "metadata": {
            "tags": []
          },
          "execution_count": 30
        }
      ]
    },
    {
      "cell_type": "code",
      "metadata": {
        "id": "3smdbGu2ycYK",
        "colab_type": "code",
        "colab": {},
        "outputId": "c87e1ed1-8136-4c95-d359-0aa9dfd23e4e"
      },
      "source": [
        "missing_df = missing_values_table(df);\n",
        "missing_columns = list(missing_df[missing_df['% of Total Values'] > 50].index)\n",
        "print('We will remove %d columns.' % len(missing_columns))"
      ],
      "execution_count": 0,
      "outputs": [
        {
          "output_type": "stream",
          "text": [
            "Your selected dataframe has 29 columns.\n",
            "There are 2 columns that have missing values.\n",
            "We will remove 1 columns.\n"
          ],
          "name": "stdout"
        }
      ]
    },
    {
      "cell_type": "code",
      "metadata": {
        "id": "STIW_gF_ycYV",
        "colab_type": "code",
        "colab": {},
        "outputId": "f4fbc792-5ca9-4314-a630-9d19963851f3"
      },
      "source": [
        "# Drop the columns\n",
        "df1 = df.drop(['Precipitation_in_millimeters'],axis='columns')\n",
        "df1.columns"
      ],
      "execution_count": 0,
      "outputs": [
        {
          "output_type": "execute_result",
          "data": {
            "text/plain": [
              "Index(['Order No', 'User Id', 'Vehicle Type', 'Platform Type',\n",
              "       'Personal or Business', 'Placement - Day of Month',\n",
              "       'Placement - Weekday (Mo = 1)', 'Placement - Time',\n",
              "       'Confirmation - Day of Month', 'Confirmation_Weekday_Mo1',\n",
              "       'Confirmation - Time', 'Arrival at Pickup - Day of Month',\n",
              "       'Arrival at Pickup - Weekday (Mo = 1)', 'Arrival at Pickup - Time',\n",
              "       'Pickup_Day_of_Month', 'Pickup - Weekday (Mo = 1)', 'Pickup - Time',\n",
              "       'Arrival at Destination - Day of Month',\n",
              "       'Arrival at Destination - Weekday (Mo = 1)',\n",
              "       'Arrival_at_Destination_Time', 'Distance_KM', 'Temperature',\n",
              "       'Pickup Lat', 'Pickup Long', 'Destination Lat', 'Destination Long',\n",
              "       'Rider Id', 'Time_from_Pickup_to_Arrival'],\n",
              "      dtype='object')"
            ]
          },
          "metadata": {
            "tags": []
          },
          "execution_count": 32
        }
      ]
    },
    {
      "cell_type": "code",
      "metadata": {
        "id": "zAoZ6KEAycYi",
        "colab_type": "code",
        "colab": {},
        "outputId": "d56a2a14-5024-4d81-ed43-37a0798c0647"
      },
      "source": [
        "df1['Time_from_Pickup_to_Arrival'].describe()\n"
      ],
      "execution_count": 0,
      "outputs": [
        {
          "output_type": "execute_result",
          "data": {
            "text/plain": [
              "count    21201.000000\n",
              "mean      1556.920947\n",
              "std        987.270788\n",
              "min          1.000000\n",
              "25%        882.000000\n",
              "50%       1369.000000\n",
              "75%       2040.000000\n",
              "max       7883.000000\n",
              "Name: Time_from_Pickup_to_Arrival, dtype: float64"
            ]
          },
          "metadata": {
            "tags": []
          },
          "execution_count": 33
        }
      ]
    },
    {
      "cell_type": "code",
      "metadata": {
        "id": "Qkp3t4TLycYu",
        "colab_type": "code",
        "colab": {},
        "outputId": "491196e1-f553-4114-e562-2012de785005"
      },
      "source": [
        "df1['Time_from_Pickup_to_Arrival'].dropna().sort_values().tail(10)"
      ],
      "execution_count": 0,
      "outputs": [
        {
          "output_type": "execute_result",
          "data": {
            "text/plain": [
              "8436     6991\n",
              "16696    7035\n",
              "3758     7100\n",
              "2293     7143\n",
              "3297     7277\n",
              "5329     7387\n",
              "12937    7491\n",
              "9626     7646\n",
              "16384    7714\n",
              "1028     7883\n",
              "Name: Time_from_Pickup_to_Arrival, dtype: int64"
            ]
          },
          "metadata": {
            "tags": []
          },
          "execution_count": 34
        }
      ]
    },
    {
      "cell_type": "code",
      "metadata": {
        "id": "gUwTA10gycY3",
        "colab_type": "code",
        "colab": {}
      },
      "source": [
        "# Calculate first and third quartile\n",
        "first_quartile = df1['Time_from_Pickup_to_Arrival'].describe()['25%']\n",
        "third_quartile = df1['Time_from_Pickup_to_Arrival'].describe()['75%']\n",
        "\n",
        "# Interquartile range\n",
        "iqr = third_quartile - first_quartile\n",
        "\n",
        "# Remove outliers\n",
        "df = df1[(df1['Time_from_Pickup_to_Arrival'] > (first_quartile - 3 * iqr)) &\n",
        "            (df['Time_from_Pickup_to_Arrival'] < (third_quartile + 3 * iqr))]"
      ],
      "execution_count": 0,
      "outputs": []
    },
    {
      "cell_type": "code",
      "metadata": {
        "id": "UbXHkiWjycZC",
        "colab_type": "code",
        "colab": {},
        "outputId": "007a7753-21fb-4065-b66c-71ae511b44c4"
      },
      "source": [
        "figsize(8, 8)\n",
        "plt.hist(df['Time_from_Pickup_to_Arrival'].dropna(), bins = 20, edgecolor = 'black');\n",
        "plt.xlabel('Arrival_Time'); \n",
        "plt.ylabel('Count'); plt.title('Arrival_Time Distribution');"
      ],
      "execution_count": 0,
      "outputs": [
        {
          "output_type": "display_data",
          "data": {
            "image/png": "[encoded data removed]",
            "text/plain": [
              "<Figure size 576x576 with 1 Axes>"
            ]
          },
          "metadata": {
            "tags": [],
            "needs_background": "light"
          }
        }
      ]
    },
    {
      "cell_type": "code",
      "metadata": {
        "id": "uRvr2jYeycZL",
        "colab_type": "code",
        "colab": {}
      },
      "source": [
        "types = df.dropna(subset=['Time_from_Pickup_to_Arrival'])\n",
        "types = types['Personal or Business'].value_counts()\n",
        "types = list(types[types.values > 100].index)"
      ],
      "execution_count": 0,
      "outputs": []
    },
    {
      "cell_type": "code",
      "metadata": {
        "id": "Y4omrAfUycZe",
        "colab_type": "code",
        "colab": {},
        "outputId": "ac2e0b30-2e85-40f3-c51c-0ccd668da984"
      },
      "source": [
        "# Find all correlations and sort \n",
        "correlations_data = df.corr()['Time_from_Pickup_to_Arrival'].sort_values()\n",
        "\n",
        "# Print the most negative correlations\n",
        "print(correlations_data.head(15), '\\n')\n",
        "\n",
        "# Print the most positive correlations\n",
        "print(correlations_data.tail(15))"
      ],
      "execution_count": 0,
      "outputs": [
        {
          "output_type": "stream",
          "text": [
            "Destination Lat                             -0.067739\n",
            "Pickup Lat                                  -0.055063\n",
            "Placement - Day of Month                    -0.015663\n",
            "Confirmation - Day of Month                 -0.015654\n",
            "Arrival at Pickup - Day of Month            -0.015654\n",
            "Pickup_Day_of_Month                         -0.015654\n",
            "Arrival at Destination - Day of Month       -0.015654\n",
            "Personal or Business                        -0.015625\n",
            "Platform Type                               -0.006502\n",
            "Temperature                                  0.005180\n",
            "Placement - Weekday (Mo = 1)                 0.012196\n",
            "Pickup - Weekday (Mo = 1)                    0.012251\n",
            "Arrival at Pickup - Weekday (Mo = 1)         0.012251\n",
            "Confirmation_Weekday_Mo1                     0.012251\n",
            "Arrival at Destination - Weekday (Mo = 1)    0.012251\n",
            "Name: Time_from_Pickup_to_Arrival, dtype: float64 \n",
            "\n",
            "Arrival at Pickup - Day of Month            -0.015654\n",
            "Pickup_Day_of_Month                         -0.015654\n",
            "Arrival at Destination - Day of Month       -0.015654\n",
            "Personal or Business                        -0.015625\n",
            "Platform Type                               -0.006502\n",
            "Temperature                                  0.005180\n",
            "Placement - Weekday (Mo = 1)                 0.012196\n",
            "Pickup - Weekday (Mo = 1)                    0.012251\n",
            "Arrival at Pickup - Weekday (Mo = 1)         0.012251\n",
            "Confirmation_Weekday_Mo1                     0.012251\n",
            "Arrival at Destination - Weekday (Mo = 1)    0.012251\n",
            "Pickup Long                                  0.064479\n",
            "Destination Long                             0.068743\n",
            "Distance_KM                                  0.592005\n",
            "Time_from_Pickup_to_Arrival                  1.000000\n",
            "Name: Time_from_Pickup_to_Arrival, dtype: float64\n"
          ],
          "name": "stdout"
        }
      ]
    },
    {
      "cell_type": "code",
      "metadata": {
        "id": "Ui1GbmxcycZl",
        "colab_type": "code",
        "colab": {}
      },
      "source": [
        "numeric_subset = df.select_dtypes('number')\n",
        "\n",
        "# Select the categorical columns\n",
        "categorical_subset = df[['Rider Id', 'Personal or Business']]\n",
        "\n",
        "# One hot encode\n",
        "categorical_subset = pd.get_dummies(categorical_subset)\n",
        "\n",
        "features = pd.concat([numeric_subset, categorical_subset], axis = 1)\n",
        "\n",
        "# Drop buildings without an energy star score\n",
        "features = features.dropna(subset = ['Time_from_Pickup_to_Arrival'])\n",
        "\n",
        "# Find correlations with the score \n",
        "correlations = features.corr()['Time_from_Pickup_to_Arrival'].dropna().sort_values()"
      ],
      "execution_count": 0,
      "outputs": []
    },
    {
      "cell_type": "code",
      "metadata": {
        "id": "FVfQ1j0RycZp",
        "colab_type": "code",
        "colab": {}
      },
      "source": [
        "figsize(12, 10)\n",
        "\n",
        "# Extract the building types\n",
        "features['Personal or Business'] = df.dropna(subset = ['Time_from_Pickup_to_Arrival'])['Personal or Business']\n",
        "\n",
        "# Limit to building types with more than 100 observations (from previous code)\n",
        "features = features[features['Personal or Business'].isin(types)]\n",
        "\n",
        "# Use seaborn to plot a scatterplot of Score vs Log Source EUI\n",
        "sns.lmplot('Distance_KM', 'Time_from_Pickup_to_Arrival', \n",
        "          hue = 'Personal or Business', data = features,\n",
        "          scatter_kws = {'alpha': 0.8, 's': 60}, fit_reg = True,\n",
        "          size = 12, aspect = 1.2);\n",
        "\n",
        "# Plot labeling\n",
        "plt.xlabel(\"Distance km\", size = 28)\n",
        "plt.ylabel('Arrival Time', size = 28)\n",
        "plt.title('Distance vs Arrival time', size = 36);"
      ],
      "execution_count": 0,
      "outputs": []
    },
    {
      "cell_type": "code",
      "metadata": {
        "id": "OQ0fTtShycZx",
        "colab_type": "code",
        "colab": {}
      },
      "source": [
        "def remove_collinear_features(x, threshold):\n",
        "    '''\n",
        "    Objective:\n",
        "        Remove collinear features in a dataframe with a correlation coefficient\n",
        "        greater than the threshold. Removing collinear features can help a model\n",
        "        to generalize and improves the interpretability of the model.\n",
        "        \n",
        "    Inputs: \n",
        "        threshold: any features with correlations greater than this value are removed\n",
        "    \n",
        "    Output: \n",
        "        dataframe that contains only the non-highly-collinear features\n",
        "    '''\n",
        "    \n",
        "    # Dont want to remove correlations between Energy Star Score\n",
        "    y = x['Time_from_Pickup_to_Arrival']\n",
        "    x = x.drop(columns = ['Time_from_Pickup_to_Arrival'])\n",
        "    \n",
        "    # Calculate the correlation matrix\n",
        "    corr_matrix = x.corr()\n",
        "    iters = range(len(corr_matrix.columns) - 1)\n",
        "    drop_cols = []\n",
        "\n",
        "    # Iterate through the correlation matrix and compare correlations\n",
        "    for i in iters:\n",
        "        for j in range(i):\n",
        "            item = corr_matrix.iloc[j:(j+1), (i+1):(i+2)]\n",
        "            col = item.columns\n",
        "            row = item.index\n",
        "            val = abs(item.values)\n",
        "            \n",
        "            # If correlation exceeds the threshold\n",
        "            if val >= threshold:\n",
        "                # Print the correlated features and the correlation value\n",
        "                # print(col.values[0], \"|\", row.values[0], \"|\", round(val[0][0], 2))\n",
        "                drop_cols.append(col.values[0])\n",
        "\n",
        "    # Drop one of each pair of correlated columns\n",
        "    drops = set(drop_cols)\n",
        "    x = x.drop(columns = drops)\n",
        "    x = x.drop(columns = ['Pickup Lat', 'Pickup Long','Arrival at Destination - Weekday (Mo = 1)', 'Vehicle Type', \n",
        "                          'Arrival at Destination - Day of Month', 'Destination Lat', 'Destination Long'])\n",
        "    \n",
        "    # Add the score back in to the data\n",
        "    x['Time_from_Pickup_to_Arrival'] = y\n",
        "               \n",
        "    return x"
      ],
      "execution_count": 0,
      "outputs": []
    },
    {
      "cell_type": "code",
      "metadata": {
        "id": "8DM9UUjSycZ4",
        "colab_type": "code",
        "colab": {}
      },
      "source": [
        "# Remove any columns with all na values\n",
        "features  = features.dropna(axis=1, how = 'all')\n",
        "features.shape"
      ],
      "execution_count": 0,
      "outputs": []
    },
    {
      "cell_type": "code",
      "metadata": {
        "id": "DKLjN6dLycaH",
        "colab_type": "code",
        "colab": {}
      },
      "source": [
        "features['Time_from_Pickup_to_Arrival'].isna().sum()"
      ],
      "execution_count": 0,
      "outputs": []
    },
    {
      "cell_type": "code",
      "metadata": {
        "id": "kA0k2QXBycaS",
        "colab_type": "code",
        "colab": {}
      },
      "source": [
        "# Extract the buildings with no score and the buildings with a score\n",
        "no_score = features[features['Time_from_Pickup_to_Arrival'].isna()]\n",
        "score = features[features['Time_from_Pickup_to_Arrival'].notnull()]\n",
        "\n",
        "print(no_score.shape)\n",
        "print(score.shape)"
      ],
      "execution_count": 0,
      "outputs": []
    },
    {
      "cell_type": "code",
      "metadata": {
        "id": "7G-S0ZjoycaZ",
        "colab_type": "code",
        "colab": {}
      },
      "source": [
        "features = score.drop(columns='Time_from_Pickup_to_Arrival')\n",
        "targets = pd.DataFrame(score['Time_from_Pickup_to_Arrival'])\n",
        "\n",
        "# Replace the inf and -inf with nan (required for later imputation)\n",
        "features = features.replace({np.inf: np.nan, -np.inf: np.nan})\n",
        "\n",
        "# Split into 70% training and 30% testing set\n",
        "X, X_test, y, y_test = train_test_split(features, targets, test_size = 0.3, random_state = 42)\n",
        "\n",
        "print(X.shape)\n",
        "print(X_test.shape)\n",
        "print(y.shape)\n",
        "print(y_test.shape)"
      ],
      "execution_count": 0,
      "outputs": []
    },
    {
      "cell_type": "code",
      "metadata": {
        "id": "miF-Y2urycah",
        "colab_type": "code",
        "colab": {}
      },
      "source": [
        "# Create the scaler object with a range of 0-1\n",
        "scaler = MinMaxScaler(feature_range=(0, 1))\n",
        "\n",
        "# Fit on the training data\n",
        "scaler.fit(X)\n",
        "\n",
        "# Transform both the training and testing data\n",
        "X = scaler.transform(X)\n",
        "X_test = scaler.transform(X_test)"
      ],
      "execution_count": 0,
      "outputs": []
    },
    {
      "cell_type": "code",
      "metadata": {
        "id": "y_o54-pDycaq",
        "colab_type": "code",
        "colab": {}
      },
      "source": [
        "df1 = df.drop(['Pickup Lat', 'Pickup Long','Arrival at Destination - Weekday (Mo = 1)', 'Vehicle Type', 'Arrival at Destination - Day of Month', 'Destination Lat', 'Destination Long'], axis='columns')\n",
        "df1.columns"
      ],
      "execution_count": 0,
      "outputs": []
    },
    {
      "cell_type": "code",
      "metadata": {
        "id": "rEaiGqx0ycay",
        "colab_type": "code",
        "colab": {}
      },
      "source": [
        "from seaborn import pairplot\n",
        "g = pairplot(df1.drop('Time_from_Pickup_to_Arrival', axis='columns'))\n",
        "g.fig.set_size_inches(15,15)"
      ],
      "execution_count": 0,
      "outputs": []
    },
    {
      "cell_type": "code",
      "metadata": {
        "id": "E7-a-O7Eyca5",
        "colab_type": "code",
        "colab": {}
      },
      "source": [
        "X = df1[['Distance_KM', 'Temperature', 'Pickup_Day_of_Month', \n",
        "             'Confirmation_Weekday_Mo1', 'Platform Type']].values\n",
        "y = df1['Time_from_Pickup_to_Arrival'].values"
      ],
      "execution_count": 0,
      "outputs": []
    },
    {
      "cell_type": "code",
      "metadata": {
        "id": "5IsGoZbSycbB",
        "colab_type": "code",
        "colab": {}
      },
      "source": [
        "import seaborn as seabornInstance \n",
        "plt.figure(figsize=(15,10))\n",
        "plt.tight_layout()\n",
        "seabornInstance.distplot(df1['Time_from_Pickup_to_Arrival'])"
      ],
      "execution_count": 0,
      "outputs": []
    },
    {
      "cell_type": "code",
      "metadata": {
        "id": "Hsxlb573ycbG",
        "colab_type": "code",
        "colab": {}
      },
      "source": [
        "X_train, X_test, y_train, y_test = train_test_split(X, y, test_size=0.2, random_state=50)\n",
        "params = {'n_estimators': 500,\n",
        "          'max_depth': 4,\n",
        "          'min_samples_split': 5,\n",
        "          'learning_rate': 0.1,\n",
        "          'loss': 'ls'}"
      ],
      "execution_count": 0,
      "outputs": []
    },
    {
      "cell_type": "code",
      "metadata": {
        "id": "nYUrxAJqycbK",
        "colab_type": "code",
        "colab": {}
      },
      "source": [
        "from sklearn.preprocessing import StandardScaler"
      ],
      "execution_count": 0,
      "outputs": []
    },
    {
      "cell_type": "code",
      "metadata": {
        "id": "73RtGN3jycbP",
        "colab_type": "code",
        "colab": {}
      },
      "source": [
        "scaler = StandardScaler()\n",
        "scaler.fit(X_train)\n",
        "X_train = scaler.transform(X_train)\n",
        "X_test = scaler.transform(X_test)"
      ],
      "execution_count": 0,
      "outputs": []
    },
    {
      "cell_type": "markdown",
      "metadata": {
        "id": "lj5-iPWDycbS",
        "colab_type": "text"
      },
      "source": [
        "from sklearn.impute import SimpleImputer\n",
        "imp = SimpleImputer(missing_values=np.nan, strategy='mean')\n",
        "imp.fit([[1, 2], [np.nan, 3], [7, 6]])\n",
        "SimpleImputer()\n",
        "X_train = [[np.nan, 2], [6, np.nan], [7, 6]]\n",
        "print(imp.transform(X))"
      ]
    },
    {
      "cell_type": "code",
      "metadata": {
        "id": "fKfRrzJ2ycbT",
        "colab_type": "code",
        "colab": {}
      },
      "source": [
        "from sklearn.impute import SimpleImputer\n",
        "# Create an imputer object with a median filling strategy\n",
        "imputer = SimpleImputer(missing_values = np.nan, strategy='median')\n",
        "\n",
        "# Train on the training features\n",
        "imputer.fit(X)\n",
        "\n",
        "# Transform both training data and testing data\n",
        "X = imputer.transform(X_train)\n",
        "X_test = imputer.transform(X_test)\n",
        "print (X_test)\n",
        "print (X)"
      ],
      "execution_count": 0,
      "outputs": []
    },
    {
      "cell_type": "code",
      "metadata": {
        "id": "VktpUwBEycbZ",
        "colab_type": "code",
        "colab": {}
      },
      "source": [
        "regressor = LinearRegression() \n",
        "\n",
        "regressor.fit(X_train, y_train)"
      ],
      "execution_count": 0,
      "outputs": []
    },
    {
      "cell_type": "code",
      "metadata": {
        "id": "MktFtapkycbe",
        "colab_type": "code",
        "colab": {}
      },
      "source": [
        "regressor.fit(X_train, y_train, sample_weight=None)"
      ],
      "execution_count": 0,
      "outputs": []
    },
    {
      "cell_type": "code",
      "metadata": {
        "id": "HhorD0FJycbk",
        "colab_type": "code",
        "colab": {}
      },
      "source": [
        "y_pred = regressor.predict(X_test)"
      ],
      "execution_count": 0,
      "outputs": []
    },
    {
      "cell_type": "code",
      "metadata": {
        "id": "IYMRKpEsycbo",
        "colab_type": "code",
        "colab": {}
      },
      "source": [
        "df = round(pd.DataFrame({'Actual': y_test, 'Predicted': y_pred}),1)\n",
        "df.head(25)"
      ],
      "execution_count": 0,
      "outputs": []
    },
    {
      "cell_type": "code",
      "metadata": {
        "id": "Hc5j6VAvycbr",
        "colab_type": "code",
        "colab": {}
      },
      "source": [
        "print('Mean Absolute Error:', metrics.mean_absolute_error(y_test, y_pred))  \n",
        "print('Mean Squared Error:', metrics.mean_squared_error(y_test, y_pred))  \n",
        "print('Root Mean Squared Error:', np.sqrt(metrics.mean_squared_error(y_test, y_pred)))"
      ],
      "execution_count": 0,
      "outputs": []
    },
    {
      "cell_type": "code",
      "metadata": {
        "id": "M-aKkYc8ycbw",
        "colab_type": "code",
        "colab": {}
      },
      "source": [
        "plt.scatter(X_test[:,0], y_test,  color='gray',\n",
        "    linewidths=0.5,\n",
        "    verts=None,\n",
        "    edgecolors='black')\n",
        "plt.plot(X_test, y_pred, color='red', linewidth=1)\n",
        "plt.show()"
      ],
      "execution_count": 0,
      "outputs": []
    },
    {
      "cell_type": "code",
      "metadata": {
        "id": "4qq9Piuoycbz",
        "colab_type": "code",
        "colab": {}
      },
      "source": [
        "from sklearn.metrics import explained_variance_score"
      ],
      "execution_count": 0,
      "outputs": []
    },
    {
      "cell_type": "code",
      "metadata": {
        "id": "Gep-XQW_ycb2",
        "colab_type": "code",
        "colab": {}
      },
      "source": [
        "print (explained_variance_score(y_test, y_pred))"
      ],
      "execution_count": 0,
      "outputs": []
    }
  ]
}